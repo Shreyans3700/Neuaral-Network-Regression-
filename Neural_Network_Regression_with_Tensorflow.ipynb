{
  "nbformat": 4,
  "nbformat_minor": 0,
  "metadata": {
    "colab": {
      "provenance": []
    },
    "kernelspec": {
      "name": "python3",
      "display_name": "Python 3"
    },
    "language_info": {
      "name": "python"
    },
    "gpuClass": "standard"
  },
  "cells": [
    {
      "cell_type": "markdown",
      "source": [
        "# **Introduction to Regression with Neural Networks in Tensorflow**"
      ],
      "metadata": {
        "id": "fLrIDeStN-4m"
      }
    },
    {
      "cell_type": "code",
      "source": [
        "\n",
        "# Import TensorFlow\n",
        "import tensorflow as tf\n",
        "import keras\n",
        "print(tf.__version__)"
      ],
      "metadata": {
        "colab": {
          "base_uri": "https://localhost:8080/"
        },
        "id": "tG7PV2NE3nZy",
        "outputId": "f31b91c5-e19e-46e1-cc6b-61142c134fa2"
      },
      "execution_count": null,
      "outputs": [
        {
          "output_type": "stream",
          "name": "stdout",
          "text": [
            "2.11.0\n"
          ]
        }
      ]
    },
    {
      "cell_type": "markdown",
      "source": [
        "# Creating data to view and fit"
      ],
      "metadata": {
        "id": "lhY6v4-d3sNm"
      }
    },
    {
      "cell_type": "code",
      "source": [
        "import numpy as np\n",
        "import matplotlib.pyplot as plt\n",
        "\n",
        "# Create features\n",
        "X = np.array([-7.0, -4.0, -1.0, 2.0, 5.0, 8.0, 11.0, 14.0])\n",
        "\n",
        "# Create labels\n",
        "y = np.array([3.0, 6.0, 9.0, 12.0, 15.0, 18.0, 21.0, 24.0])\n",
        "\n",
        "# Visualize it\n",
        "plt.scatter(X, y);"
      ],
      "metadata": {
        "colab": {
          "base_uri": "https://localhost:8080/",
          "height": 269
        },
        "id": "-cDqSui03w1s",
        "outputId": "d7a9f066-938c-4fbd-bab7-4b0021307faf"
      },
      "execution_count": null,
      "outputs": [
        {
          "output_type": "display_data",
          "data": {
            "text/plain": [
              "<Figure size 432x288 with 1 Axes>"
            ],
            "image/png": "[encoded data removed]"
          },
          "metadata": {
            "needs_background": "light"
          }
        }
      ]
    },
    {
      "cell_type": "code",
      "source": [
        "y == X + 10"
      ],
      "metadata": {
        "colab": {
          "base_uri": "https://localhost:8080/"
        },
        "id": "SVkCwpMn35J_",
        "outputId": "386abff0-ae3c-465e-b17b-999848e0b72e"
      },
      "execution_count": null,
      "outputs": [
        {
          "output_type": "execute_result",
          "data": {
            "text/plain": [
              "array([ True,  True,  True,  True,  True,  True,  True,  True])"
            ]
          },
          "metadata": {},
          "execution_count": 3
        }
      ]
    },
    {
      "cell_type": "markdown",
      "source": [
        "**Input and output shapes**"
      ],
      "metadata": {
        "id": "6_ciK8Zh3-80"
      }
    },
    {
      "cell_type": "code",
      "source": [
        "# Create a demo tensor for our housing price prediction problem\n",
        "house_info = tf.constant([\"bedroom\", \"bathroom\", \"garage\"])\n",
        "house_price = tf.constant([939700])\n",
        "house_info, house_price"
      ],
      "metadata": {
        "colab": {
          "base_uri": "https://localhost:8080/"
        },
        "id": "UALTQJ2I4CAq",
        "outputId": "ee4ec764-af5c-42e7-a860-dbf24d7e4b9d"
      },
      "execution_count": null,
      "outputs": [
        {
          "output_type": "execute_result",
          "data": {
            "text/plain": [
              "(<tf.Tensor: shape=(3,), dtype=string, numpy=array([b'bedroom', b'bathroom', b'garage'], dtype=object)>,\n",
              " <tf.Tensor: shape=(1,), dtype=int32, numpy=array([939700], dtype=int32)>)"
            ]
          },
          "metadata": {},
          "execution_count": 4
        }
      ]
    },
    {
      "cell_type": "code",
      "source": [
        "X[0], y[0]"
      ],
      "metadata": {
        "colab": {
          "base_uri": "https://localhost:8080/"
        },
        "id": "n1lygEbD4HaO",
        "outputId": "e1f11a23-e3d7-41b9-b5e5-18adcb823cd8"
      },
      "execution_count": null,
      "outputs": [
        {
          "output_type": "execute_result",
          "data": {
            "text/plain": [
              "(-7.0, 3.0)"
            ]
          },
          "metadata": {},
          "execution_count": 5
        }
      ]
    },
    {
      "cell_type": "code",
      "source": [
        "X[1], y[1]"
      ],
      "metadata": {
        "colab": {
          "base_uri": "https://localhost:8080/"
        },
        "id": "Vif2bIIo4Kxn",
        "outputId": "802673bd-344b-4b23-8c89-6e5bc75f3d78"
      },
      "execution_count": null,
      "outputs": [
        {
          "output_type": "execute_result",
          "data": {
            "text/plain": [
              "(-4.0, 6.0)"
            ]
          },
          "metadata": {},
          "execution_count": 6
        }
      ]
    },
    {
      "cell_type": "code",
      "source": [
        "input_shape = X[0].shape\n",
        "output_shape = y[0].shape\n",
        "input_shape, output_shape"
      ],
      "metadata": {
        "colab": {
          "base_uri": "https://localhost:8080/"
        },
        "id": "E4nlvSC04Nfj",
        "outputId": "b2472a7f-d71f-4b2a-cdee-6e29c82f6187"
      },
      "execution_count": null,
      "outputs": [
        {
          "output_type": "execute_result",
          "data": {
            "text/plain": [
              "((), ())"
            ]
          },
          "metadata": {},
          "execution_count": 7
        }
      ]
    },
    {
      "cell_type": "code",
      "source": [
        "X[0].ndim"
      ],
      "metadata": {
        "colab": {
          "base_uri": "https://localhost:8080/"
        },
        "id": "YPrPnbXJ4QWI",
        "outputId": "b4efbbcf-5460-4244-a5c0-8a8697c11998"
      },
      "execution_count": null,
      "outputs": [
        {
          "output_type": "execute_result",
          "data": {
            "text/plain": [
              "0"
            ]
          },
          "metadata": {},
          "execution_count": 8
        }
      ]
    },
    {
      "cell_type": "code",
      "source": [
        "X[0], y[0]"
      ],
      "metadata": {
        "colab": {
          "base_uri": "https://localhost:8080/"
        },
        "id": "izKUJLU34XE1",
        "outputId": "72288f17-868f-49eb-a2db-f7d03a335d0a"
      },
      "execution_count": null,
      "outputs": [
        {
          "output_type": "execute_result",
          "data": {
            "text/plain": [
              "(-7.0, 3.0)"
            ]
          },
          "metadata": {},
          "execution_count": 9
        }
      ]
    },
    {
      "cell_type": "code",
      "source": [
        "# Turn our NumPy arrays into tensors with dtype float32\n",
        "X = tf.cast(tf.constant(X), dtype=tf.float32)\n",
        "y = tf.cast(tf.constant(y), dtype=tf.float32)\n",
        "X, y"
      ],
      "metadata": {
        "colab": {
          "base_uri": "https://localhost:8080/"
        },
        "id": "vStxcCWp4Zup",
        "outputId": "5436f532-8129-41e1-8e5e-fa4fe8a9cbf1"
      },
      "execution_count": null,
      "outputs": [
        {
          "output_type": "execute_result",
          "data": {
            "text/plain": [
              "(<tf.Tensor: shape=(8,), dtype=float32, numpy=array([-7., -4., -1.,  2.,  5.,  8., 11., 14.], dtype=float32)>,\n",
              " <tf.Tensor: shape=(8,), dtype=float32, numpy=array([ 3.,  6.,  9., 12., 15., 18., 21., 24.], dtype=float32)>)"
            ]
          },
          "metadata": {},
          "execution_count": 10
        }
      ]
    },
    {
      "cell_type": "code",
      "source": [
        "input_shape = X[0].shape\n",
        "output_shape = y[0].shape\n",
        "input_shape, output_shape"
      ],
      "metadata": {
        "colab": {
          "base_uri": "https://localhost:8080/"
        },
        "id": "L2fOMZ7Q4dAQ",
        "outputId": "03227a50-155b-4bcd-fe43-5ca572033fb6"
      },
      "execution_count": null,
      "outputs": [
        {
          "output_type": "execute_result",
          "data": {
            "text/plain": [
              "(TensorShape([]), TensorShape([]))"
            ]
          },
          "metadata": {},
          "execution_count": 11
        }
      ]
    },
    {
      "cell_type": "code",
      "source": [
        "plt.scatter(X, y)"
      ],
      "metadata": {
        "colab": {
          "base_uri": "https://localhost:8080/",
          "height": 287
        },
        "id": "IvWy2z364hiY",
        "outputId": "9ad57ba5-8fd5-4e0c-a9a8-1435922d1647"
      },
      "execution_count": null,
      "outputs": [
        {
          "output_type": "execute_result",
          "data": {
            "text/plain": [
              "<matplotlib.collections.PathCollection at 0x7fc938d48fa0>"
            ]
          },
          "metadata": {},
          "execution_count": 12
        },
        {
          "output_type": "display_data",
          "data": {
            "text/plain": [
              "<Figure size 432x288 with 1 Axes>"
            ],
            "image/png": "[encoded data removed]"
          },
          "metadata": {
            "needs_background": "light"
          }
        }
      ]
    },
    {
      "cell_type": "markdown",
      "source": [
        "# **Steps in modelling with TensorFlow**"
      ],
      "metadata": {
        "id": "cszbDLN64lYO"
      }
    },
    {
      "cell_type": "markdown",
      "source": [
        "1. **Creating a model** - define the input and output layers, as well as the hidden layers of a deep learning model.\n",
        "2. **Compiling a model** - define the loss funtion (in other words, the function which tells our model how wrong it is) and the optimizer (tells our model how to improve the patterns its learning) and evaluation metrics (what we can use to interpret the performance of our model).\n",
        "3. **Fitting a model** - letting the model try to find patterns between X & y (features and labels)."
      ],
      "metadata": {
        "id": "W_RQy31O4qD9"
      }
    },
    {
      "cell_type": "code",
      "source": [
        "\n",
        "# Set random seed\n",
        "tf.random.set_seed(42)\n",
        "\n",
        "# 1. Create a model using the Sequential API\n",
        "\n",
        "model = tf.keras.Sequential([\n",
        "  tf.keras.layers.Dense(1) # 1 - signifies no. of neurons in each hidden layer and each line like this implies 1 hidden layer\n",
        "])\n",
        "\n",
        "# model = tf.keras.Sequential()\n",
        "# model.add(tf.keras.layers.Dense(1))\n",
        "\n",
        "# 2. Compile the model\n",
        "model.compile(loss=tf.keras.losses.mae, # mae is short for mean absolute error\n",
        "              optimizer=tf.keras.optimizers.SGD(), # sgd is short for stochasitc gradient descent\n",
        "              metrics=[\"mae\"])\n",
        "\n",
        "# 3. Fit the model\n",
        "# model.fit(X,y,epochs=1)\n",
        "model.fit(tf.expand_dims(X, axis=-1), y, epochs=5) #epoch are used to specify how many times you are goping to train the same model"
      ],
      "metadata": {
        "colab": {
          "base_uri": "https://localhost:8080/"
        },
        "id": "LAa-QVqD42yC",
        "outputId": "c6d4bed6-de9a-4ab7-9bcd-58bf2b9513fe"
      },
      "execution_count": null,
      "outputs": [
        {
          "output_type": "stream",
          "name": "stdout",
          "text": [
            "Epoch 1/5\n",
            "1/1 [==============================] - 1s 903ms/step - loss: 14.1536 - mae: 14.1536\n",
            "Epoch 2/5\n",
            "1/1 [==============================] - 0s 16ms/step - loss: 14.0211 - mae: 14.0211\n",
            "Epoch 3/5\n",
            "1/1 [==============================] - 0s 15ms/step - loss: 13.8886 - mae: 13.8886\n",
            "Epoch 4/5\n",
            "1/1 [==============================] - 0s 11ms/step - loss: 13.7561 - mae: 13.7561\n",
            "Epoch 5/5\n",
            "1/1 [==============================] - 0s 10ms/step - loss: 13.6236 - mae: 13.6236\n"
          ]
        },
        {
          "output_type": "execute_result",
          "data": {
            "text/plain": [
              "<keras.callbacks.History at 0x7fc927e7e580>"
            ]
          },
          "metadata": {},
          "execution_count": 13
        }
      ]
    },
    {
      "cell_type": "code",
      "source": [
        "#prediction\n",
        "y_pred=model.predict([17.0])"
      ],
      "metadata": {
        "colab": {
          "base_uri": "https://localhost:8080/"
        },
        "id": "HW2uRbauJ5Y_",
        "outputId": "a8c9f9c2-1e80-41db-edb8-04c9d0e6852b"
      },
      "execution_count": null,
      "outputs": [
        {
          "output_type": "stream",
          "name": "stdout",
          "text": [
            "1/1 [==============================] - 0s 116ms/step\n"
          ]
        }
      ]
    },
    {
      "cell_type": "code",
      "source": [
        "y_pred"
      ],
      "metadata": {
        "colab": {
          "base_uri": "https://localhost:8080/"
        },
        "id": "RdM26orEKyZL",
        "outputId": "2664054c-1005-43d3-efd1-93938e0e9aca"
      },
      "execution_count": null,
      "outputs": [
        {
          "output_type": "execute_result",
          "data": {
            "text/plain": [
              "array([[-0.14946537]], dtype=float32)"
            ]
          },
          "metadata": {},
          "execution_count": 15
        }
      ]
    },
    {
      "cell_type": "markdown",
      "source": [
        "### Improving our model\n",
        "\n",
        "1.**Creating a model** - here we might add more layers, increase the number of hidden units(called neurons),change the activation function of each layer\n",
        "2.**Compiling the Model** - here we might change the optimization function or perhaps the **learning rate** of optimization function\n",
        "3.**Fitting a Model** - here we might fit a model for more **epochs**(leave it training for longer) or on more data (give the model more examoles to learn from).\n",
        "\n",
        "\n",
        "\n"
      ],
      "metadata": {
        "id": "Uxfeq_lMK5lo"
      }
    },
    {
      "cell_type": "code",
      "source": [
        "# 1. Create a Model(spcified to your problem)\n",
        "model = tf.keras.Sequential([\n",
        "    # tf.keras.layers.Dense(100,activation=\"relu\"),\n",
        "    # tf.keras.layers.Dense(100,activation=\"relu\"),\n",
        "    # tf.keras.layers.Dense(100,activation=\"relu\"),\n",
        "    tf.keras.layers.Dense(1)\n",
        "])\n",
        "# 2. Compile the model\n",
        "model.compile(loss=tf.keras.losses.mae,\n",
        "              optimizer=tf.keras.optimizers.SGD(), #adam optimizer tells us how much to improve each step\n",
        "              metrics=[\"mae\"])\n",
        "\n",
        "# 3. Fit the Model\n",
        "model.fit(tf.expand_dims(X, axis=-1), y, epochs=100)"
      ],
      "metadata": {
        "id": "cj6vV6IOK-DC",
        "colab": {
          "base_uri": "https://localhost:8080/"
        },
        "outputId": "6e64b072-72c4-4ca8-8f7f-c7afddae3bc1"
      },
      "execution_count": null,
      "outputs": [
        {
          "output_type": "stream",
          "name": "stdout",
          "text": [
            "Epoch 1/100\n",
            "1/1 [==============================] - 0s 367ms/step - loss: 12.7720 - mae: 12.7720\n",
            "Epoch 2/100\n",
            "1/1 [==============================] - 0s 30ms/step - loss: 12.6395 - mae: 12.6395\n",
            "Epoch 3/100\n",
            "1/1 [==============================] - 0s 16ms/step - loss: 12.5070 - mae: 12.5070\n",
            "Epoch 4/100\n",
            "1/1 [==============================] - 0s 19ms/step - loss: 12.3745 - mae: 12.3745\n",
            "Epoch 5/100\n",
            "1/1 [==============================] - 0s 13ms/step - loss: 12.2420 - mae: 12.2420\n",
            "Epoch 6/100\n",
            "1/1 [==============================] - 0s 16ms/step - loss: 12.1095 - mae: 12.1095\n",
            "Epoch 7/100\n",
            "1/1 [==============================] - 0s 11ms/step - loss: 11.9770 - mae: 11.9770\n",
            "Epoch 8/100\n",
            "1/1 [==============================] - 0s 10ms/step - loss: 11.8445 - mae: 11.8445\n",
            "Epoch 9/100\n",
            "1/1 [==============================] - 0s 12ms/step - loss: 11.7120 - mae: 11.7120\n",
            "Epoch 10/100\n",
            "1/1 [==============================] - 0s 11ms/step - loss: 11.5795 - mae: 11.5795\n",
            "Epoch 11/100\n",
            "1/1 [==============================] - 0s 10ms/step - loss: 11.4470 - mae: 11.4470\n",
            "Epoch 12/100\n",
            "1/1 [==============================] - 0s 11ms/step - loss: 11.3145 - mae: 11.3145\n",
            "Epoch 13/100\n",
            "1/1 [==============================] - 0s 10ms/step - loss: 11.1820 - mae: 11.1820\n",
            "Epoch 14/100\n",
            "1/1 [==============================] - 0s 10ms/step - loss: 11.0495 - mae: 11.0495\n",
            "Epoch 15/100\n",
            "1/1 [==============================] - 0s 13ms/step - loss: 10.9170 - mae: 10.9170\n",
            "Epoch 16/100\n",
            "1/1 [==============================] - 0s 13ms/step - loss: 10.7845 - mae: 10.7845\n",
            "Epoch 17/100\n",
            "1/1 [==============================] - 0s 10ms/step - loss: 10.6520 - mae: 10.6520\n",
            "Epoch 18/100\n",
            "1/1 [==============================] - 0s 10ms/step - loss: 10.5195 - mae: 10.5195\n",
            "Epoch 19/100\n",
            "1/1 [==============================] - 0s 10ms/step - loss: 10.3870 - mae: 10.3870\n",
            "Epoch 20/100\n",
            "1/1 [==============================] - 0s 11ms/step - loss: 10.2545 - mae: 10.2545\n",
            "Epoch 21/100\n",
            "1/1 [==============================] - 0s 10ms/step - loss: 10.1220 - mae: 10.1220\n",
            "Epoch 22/100\n",
            "1/1 [==============================] - 0s 9ms/step - loss: 9.9895 - mae: 9.9895\n",
            "Epoch 23/100\n",
            "1/1 [==============================] - 0s 11ms/step - loss: 9.8570 - mae: 9.8570\n",
            "Epoch 24/100\n",
            "1/1 [==============================] - 0s 13ms/step - loss: 9.7245 - mae: 9.7245\n",
            "Epoch 25/100\n",
            "1/1 [==============================] - 0s 10ms/step - loss: 9.5920 - mae: 9.5920\n",
            "Epoch 26/100\n",
            "1/1 [==============================] - 0s 14ms/step - loss: 9.4595 - mae: 9.4595\n",
            "Epoch 27/100\n",
            "1/1 [==============================] - 0s 14ms/step - loss: 9.3270 - mae: 9.3270\n",
            "Epoch 28/100\n",
            "1/1 [==============================] - 0s 10ms/step - loss: 9.1945 - mae: 9.1945\n",
            "Epoch 29/100\n",
            "1/1 [==============================] - 0s 13ms/step - loss: 9.0620 - mae: 9.0620\n",
            "Epoch 30/100\n",
            "1/1 [==============================] - 0s 14ms/step - loss: 8.9295 - mae: 8.9295\n",
            "Epoch 31/100\n",
            "1/1 [==============================] - 0s 9ms/step - loss: 8.7970 - mae: 8.7970\n",
            "Epoch 32/100\n",
            "1/1 [==============================] - 0s 10ms/step - loss: 8.6645 - mae: 8.6645\n",
            "Epoch 33/100\n",
            "1/1 [==============================] - 0s 12ms/step - loss: 8.5320 - mae: 8.5320\n",
            "Epoch 34/100\n",
            "1/1 [==============================] - 0s 12ms/step - loss: 8.3995 - mae: 8.3995\n",
            "Epoch 35/100\n",
            "1/1 [==============================] - 0s 11ms/step - loss: 8.2670 - mae: 8.2670\n",
            "Epoch 36/100\n",
            "1/1 [==============================] - 0s 12ms/step - loss: 8.1345 - mae: 8.1345\n",
            "Epoch 37/100\n",
            "1/1 [==============================] - 0s 11ms/step - loss: 8.0020 - mae: 8.0020\n",
            "Epoch 38/100\n",
            "1/1 [==============================] - 0s 11ms/step - loss: 7.8695 - mae: 7.8695\n",
            "Epoch 39/100\n",
            "1/1 [==============================] - 0s 11ms/step - loss: 7.7370 - mae: 7.7370\n",
            "Epoch 40/100\n",
            "1/1 [==============================] - 0s 11ms/step - loss: 7.6045 - mae: 7.6045\n",
            "Epoch 41/100\n",
            "1/1 [==============================] - 0s 11ms/step - loss: 7.4720 - mae: 7.4720\n",
            "Epoch 42/100\n",
            "1/1 [==============================] - 0s 12ms/step - loss: 7.3395 - mae: 7.3395\n",
            "Epoch 43/100\n",
            "1/1 [==============================] - 0s 14ms/step - loss: 7.2070 - mae: 7.2070\n",
            "Epoch 44/100\n",
            "1/1 [==============================] - 0s 10ms/step - loss: 7.1775 - mae: 7.1775\n",
            "Epoch 45/100\n",
            "1/1 [==============================] - 0s 11ms/step - loss: 7.1719 - mae: 7.1719\n",
            "Epoch 46/100\n",
            "1/1 [==============================] - 0s 10ms/step - loss: 7.1663 - mae: 7.1663\n",
            "Epoch 47/100\n",
            "1/1 [==============================] - 0s 16ms/step - loss: 7.1606 - mae: 7.1606\n",
            "Epoch 48/100\n",
            "1/1 [==============================] - 0s 9ms/step - loss: 7.1550 - mae: 7.1550\n",
            "Epoch 49/100\n",
            "1/1 [==============================] - 0s 10ms/step - loss: 7.1494 - mae: 7.1494\n",
            "Epoch 50/100\n",
            "1/1 [==============================] - 0s 11ms/step - loss: 7.1438 - mae: 7.1438\n",
            "Epoch 51/100\n",
            "1/1 [==============================] - 0s 10ms/step - loss: 7.1381 - mae: 7.1381\n",
            "Epoch 52/100\n",
            "1/1 [==============================] - 0s 11ms/step - loss: 7.1325 - mae: 7.1325\n",
            "Epoch 53/100\n",
            "1/1 [==============================] - 0s 10ms/step - loss: 7.1269 - mae: 7.1269\n",
            "Epoch 54/100\n",
            "1/1 [==============================] - 0s 10ms/step - loss: 7.1213 - mae: 7.1213\n",
            "Epoch 55/100\n",
            "1/1 [==============================] - 0s 10ms/step - loss: 7.1156 - mae: 7.1156\n",
            "Epoch 56/100\n",
            "1/1 [==============================] - 0s 10ms/step - loss: 7.1100 - mae: 7.1100\n",
            "Epoch 57/100\n",
            "1/1 [==============================] - 0s 10ms/step - loss: 7.1044 - mae: 7.1044\n",
            "Epoch 58/100\n",
            "1/1 [==============================] - 0s 10ms/step - loss: 7.0988 - mae: 7.0988\n",
            "Epoch 59/100\n",
            "1/1 [==============================] - 0s 10ms/step - loss: 7.0931 - mae: 7.0931\n",
            "Epoch 60/100\n",
            "1/1 [==============================] - 0s 11ms/step - loss: 7.0875 - mae: 7.0875\n",
            "Epoch 61/100\n",
            "1/1 [==============================] - 0s 11ms/step - loss: 7.0819 - mae: 7.0819\n",
            "Epoch 62/100\n",
            "1/1 [==============================] - 0s 12ms/step - loss: 7.0763 - mae: 7.0763\n",
            "Epoch 63/100\n",
            "1/1 [==============================] - 0s 10ms/step - loss: 7.0706 - mae: 7.0706\n",
            "Epoch 64/100\n",
            "1/1 [==============================] - 0s 10ms/step - loss: 7.0650 - mae: 7.0650\n",
            "Epoch 65/100\n",
            "1/1 [==============================] - 0s 10ms/step - loss: 7.0594 - mae: 7.0594\n",
            "Epoch 66/100\n",
            "1/1 [==============================] - 0s 12ms/step - loss: 7.0538 - mae: 7.0538\n",
            "Epoch 67/100\n",
            "1/1 [==============================] - 0s 12ms/step - loss: 7.0481 - mae: 7.0481\n",
            "Epoch 68/100\n",
            "1/1 [==============================] - 0s 10ms/step - loss: 7.0425 - mae: 7.0425\n",
            "Epoch 69/100\n",
            "1/1 [==============================] - 0s 11ms/step - loss: 7.0369 - mae: 7.0369\n",
            "Epoch 70/100\n",
            "1/1 [==============================] - 0s 11ms/step - loss: 7.0312 - mae: 7.0312\n",
            "Epoch 71/100\n",
            "1/1 [==============================] - 0s 14ms/step - loss: 7.0256 - mae: 7.0256\n",
            "Epoch 72/100\n",
            "1/1 [==============================] - 0s 17ms/step - loss: 7.0200 - mae: 7.0200\n",
            "Epoch 73/100\n",
            "1/1 [==============================] - 0s 10ms/step - loss: 7.0144 - mae: 7.0144\n",
            "Epoch 74/100\n",
            "1/1 [==============================] - 0s 11ms/step - loss: 7.0087 - mae: 7.0087\n",
            "Epoch 75/100\n",
            "1/1 [==============================] - 0s 12ms/step - loss: 7.0031 - mae: 7.0031\n",
            "Epoch 76/100\n",
            "1/1 [==============================] - 0s 10ms/step - loss: 6.9975 - mae: 6.9975\n",
            "Epoch 77/100\n",
            "1/1 [==============================] - 0s 11ms/step - loss: 6.9919 - mae: 6.9919\n",
            "Epoch 78/100\n",
            "1/1 [==============================] - 0s 11ms/step - loss: 6.9863 - mae: 6.9863\n",
            "Epoch 79/100\n",
            "1/1 [==============================] - 0s 11ms/step - loss: 6.9806 - mae: 6.9806\n",
            "Epoch 80/100\n",
            "1/1 [==============================] - 0s 10ms/step - loss: 6.9750 - mae: 6.9750\n",
            "Epoch 81/100\n",
            "1/1 [==============================] - 0s 10ms/step - loss: 6.9694 - mae: 6.9694\n",
            "Epoch 82/100\n",
            "1/1 [==============================] - 0s 11ms/step - loss: 6.9638 - mae: 6.9638\n",
            "Epoch 83/100\n",
            "1/1 [==============================] - 0s 11ms/step - loss: 6.9581 - mae: 6.9581\n",
            "Epoch 84/100\n",
            "1/1 [==============================] - 0s 11ms/step - loss: 6.9525 - mae: 6.9525\n",
            "Epoch 85/100\n",
            "1/1 [==============================] - 0s 10ms/step - loss: 6.9469 - mae: 6.9469\n",
            "Epoch 86/100\n",
            "1/1 [==============================] - 0s 10ms/step - loss: 6.9412 - mae: 6.9412\n",
            "Epoch 87/100\n",
            "1/1 [==============================] - 0s 10ms/step - loss: 6.9356 - mae: 6.9356\n",
            "Epoch 88/100\n",
            "1/1 [==============================] - 0s 10ms/step - loss: 6.9300 - mae: 6.9300\n",
            "Epoch 89/100\n",
            "1/1 [==============================] - 0s 10ms/step - loss: 6.9244 - mae: 6.9244\n",
            "Epoch 90/100\n",
            "1/1 [==============================] - 0s 9ms/step - loss: 6.9188 - mae: 6.9188\n",
            "Epoch 91/100\n",
            "1/1 [==============================] - 0s 10ms/step - loss: 6.9131 - mae: 6.9131\n",
            "Epoch 92/100\n",
            "1/1 [==============================] - 0s 13ms/step - loss: 6.9075 - mae: 6.9075\n",
            "Epoch 93/100\n",
            "1/1 [==============================] - 0s 11ms/step - loss: 6.9019 - mae: 6.9019\n",
            "Epoch 94/100\n",
            "1/1 [==============================] - 0s 12ms/step - loss: 6.8963 - mae: 6.8963\n",
            "Epoch 95/100\n",
            "1/1 [==============================] - 0s 12ms/step - loss: 6.8906 - mae: 6.8906\n",
            "Epoch 96/100\n",
            "1/1 [==============================] - 0s 10ms/step - loss: 6.8850 - mae: 6.8850\n",
            "Epoch 97/100\n",
            "1/1 [==============================] - 0s 10ms/step - loss: 6.8794 - mae: 6.8794\n",
            "Epoch 98/100\n",
            "1/1 [==============================] - 0s 10ms/step - loss: 6.8738 - mae: 6.8738\n",
            "Epoch 99/100\n",
            "1/1 [==============================] - 0s 11ms/step - loss: 6.8681 - mae: 6.8681\n",
            "Epoch 100/100\n",
            "1/1 [==============================] - 0s 9ms/step - loss: 6.8625 - mae: 6.8625\n"
          ]
        },
        {
          "output_type": "execute_result",
          "data": {
            "text/plain": [
              "<keras.callbacks.History at 0x7fc927fb2730>"
            ]
          },
          "metadata": {},
          "execution_count": 16
        }
      ]
    },
    {
      "cell_type": "code",
      "source": [
        "# new prediction\n",
        "model.predict([17.0])"
      ],
      "metadata": {
        "colab": {
          "base_uri": "https://localhost:8080/"
        },
        "id": "nJ0wID3wb5l4",
        "outputId": "75348419-07fd-4be5-c04a-25ca5a4d5f71"
      },
      "execution_count": null,
      "outputs": [
        {
          "output_type": "stream",
          "name": "stdout",
          "text": [
            "1/1 [==============================] - 0s 112ms/step\n"
          ]
        },
        {
          "output_type": "execute_result",
          "data": {
            "text/plain": [
              "array([[29.978535]], dtype=float32)"
            ]
          },
          "metadata": {},
          "execution_count": 17
        }
      ]
    },
    {
      "cell_type": "code",
      "source": [
        "# trying something new to get more accuracy\n",
        "\n",
        "model = tf.keras.Sequential([\n",
        "    tf.keras.layers.Dense(50,activation=None),\n",
        "    tf.keras.layers.Dense(50,activation=None),\n",
        "    tf.keras.layers.Dense(50,activation=None),\n",
        "    tf.keras.layers.Dense(1)\n",
        "])\n",
        "\n",
        "#compile the model\n",
        "model.compile(loss = tf.keras.losses.mae,\n",
        "    optimizer=tf.keras.optimizers.Adam(lr=0.01), #one of the most important parameters -- VVI\n",
        "    metrics=[\"mae\"]\n",
        ")\n",
        "\n",
        "#fit into the model\n",
        "model.fit(tf.expand_dims(X, axis=-1), y, epochs=100)"
      ],
      "metadata": {
        "colab": {
          "base_uri": "https://localhost:8080/"
        },
        "id": "zuR6NjYpcSXQ",
        "outputId": "49cd042f-f343-4bc0-dbfc-8af56e26571e"
      },
      "execution_count": null,
      "outputs": [
        {
          "output_type": "stream",
          "name": "stderr",
          "text": [
            "WARNING:absl:`lr` is deprecated, please use `learning_rate` instead, or use the legacy optimizer, e.g.,tf.keras.optimizers.legacy.Adam.\n"
          ]
        },
        {
          "output_type": "stream",
          "name": "stdout",
          "text": [
            "Epoch 1/100\n",
            "1/1 [==============================] - 1s 1s/step - loss: 13.3142 - mae: 13.3142\n",
            "Epoch 2/100\n",
            "1/1 [==============================] - 0s 22ms/step - loss: 12.7718 - mae: 12.7718\n",
            "Epoch 3/100\n",
            "1/1 [==============================] - 0s 19ms/step - loss: 12.2250 - mae: 12.2250\n",
            "Epoch 4/100\n",
            "1/1 [==============================] - 0s 19ms/step - loss: 11.6720 - mae: 11.6720\n",
            "Epoch 5/100\n",
            "1/1 [==============================] - 0s 16ms/step - loss: 11.1099 - mae: 11.1099\n",
            "Epoch 6/100\n",
            "1/1 [==============================] - 0s 16ms/step - loss: 10.5350 - mae: 10.5350\n",
            "Epoch 7/100\n",
            "1/1 [==============================] - 0s 15ms/step - loss: 9.9443 - mae: 9.9443\n",
            "Epoch 8/100\n",
            "1/1 [==============================] - 0s 12ms/step - loss: 9.3348 - mae: 9.3348\n",
            "Epoch 9/100\n",
            "1/1 [==============================] - 0s 14ms/step - loss: 8.7038 - mae: 8.7038\n",
            "Epoch 10/100\n",
            "1/1 [==============================] - 0s 16ms/step - loss: 8.0483 - mae: 8.0483\n",
            "Epoch 11/100\n",
            "1/1 [==============================] - 0s 17ms/step - loss: 7.3652 - mae: 7.3652\n",
            "Epoch 12/100\n",
            "1/1 [==============================] - 0s 21ms/step - loss: 7.2496 - mae: 7.2496\n",
            "Epoch 13/100\n",
            "1/1 [==============================] - 0s 13ms/step - loss: 7.6765 - mae: 7.6765\n",
            "Epoch 14/100\n",
            "1/1 [==============================] - 0s 12ms/step - loss: 8.0117 - mae: 8.0117\n",
            "Epoch 15/100\n",
            "1/1 [==============================] - 0s 11ms/step - loss: 8.3397 - mae: 8.3397\n",
            "Epoch 16/100\n",
            "1/1 [==============================] - 0s 12ms/step - loss: 8.4302 - mae: 8.4302\n",
            "Epoch 17/100\n",
            "1/1 [==============================] - 0s 12ms/step - loss: 8.3059 - mae: 8.3059\n",
            "Epoch 18/100\n",
            "1/1 [==============================] - 0s 16ms/step - loss: 8.0236 - mae: 8.0236\n",
            "Epoch 19/100\n",
            "1/1 [==============================] - 0s 18ms/step - loss: 7.7742 - mae: 7.7742\n",
            "Epoch 20/100\n",
            "1/1 [==============================] - 0s 13ms/step - loss: 7.5165 - mae: 7.5165\n",
            "Epoch 21/100\n",
            "1/1 [==============================] - 0s 15ms/step - loss: 7.2438 - mae: 7.2438\n",
            "Epoch 22/100\n",
            "1/1 [==============================] - 0s 11ms/step - loss: 7.0576 - mae: 7.0576\n",
            "Epoch 23/100\n",
            "1/1 [==============================] - 0s 19ms/step - loss: 7.0463 - mae: 7.0463\n",
            "Epoch 24/100\n",
            "1/1 [==============================] - 0s 18ms/step - loss: 7.0869 - mae: 7.0869\n",
            "Epoch 25/100\n",
            "1/1 [==============================] - 0s 14ms/step - loss: 7.2350 - mae: 7.2350\n",
            "Epoch 26/100\n",
            "1/1 [==============================] - 0s 10ms/step - loss: 7.2933 - mae: 7.2933\n",
            "Epoch 27/100\n",
            "1/1 [==============================] - 0s 11ms/step - loss: 7.2748 - mae: 7.2748\n",
            "Epoch 28/100\n",
            "1/1 [==============================] - 0s 14ms/step - loss: 7.1884 - mae: 7.1884\n",
            "Epoch 29/100\n",
            "1/1 [==============================] - 0s 14ms/step - loss: 7.0411 - mae: 7.0411\n",
            "Epoch 30/100\n",
            "1/1 [==============================] - 0s 15ms/step - loss: 6.9015 - mae: 6.9015\n",
            "Epoch 31/100\n",
            "1/1 [==============================] - 0s 14ms/step - loss: 6.8725 - mae: 6.8725\n",
            "Epoch 32/100\n",
            "1/1 [==============================] - 0s 13ms/step - loss: 6.8434 - mae: 6.8434\n",
            "Epoch 33/100\n",
            "1/1 [==============================] - 0s 15ms/step - loss: 6.8140 - mae: 6.8140\n",
            "Epoch 34/100\n",
            "1/1 [==============================] - 0s 12ms/step - loss: 6.8202 - mae: 6.8202\n",
            "Epoch 35/100\n",
            "1/1 [==============================] - 0s 11ms/step - loss: 6.8499 - mae: 6.8499\n",
            "Epoch 36/100\n",
            "1/1 [==============================] - 0s 14ms/step - loss: 6.8343 - mae: 6.8343\n",
            "Epoch 37/100\n",
            "1/1 [==============================] - 0s 12ms/step - loss: 6.7779 - mae: 6.7779\n",
            "Epoch 38/100\n",
            "1/1 [==============================] - 0s 14ms/step - loss: 6.6941 - mae: 6.6941\n",
            "Epoch 39/100\n",
            "1/1 [==============================] - 0s 14ms/step - loss: 6.6747 - mae: 6.6747\n",
            "Epoch 40/100\n",
            "1/1 [==============================] - 0s 12ms/step - loss: 6.6545 - mae: 6.6545\n",
            "Epoch 41/100\n",
            "1/1 [==============================] - 0s 11ms/step - loss: 6.6335 - mae: 6.6335\n",
            "Epoch 42/100\n",
            "1/1 [==============================] - 0s 16ms/step - loss: 6.6118 - mae: 6.6118\n",
            "Epoch 43/100\n",
            "1/1 [==============================] - 0s 13ms/step - loss: 6.5893 - mae: 6.5893\n",
            "Epoch 44/100\n",
            "1/1 [==============================] - 0s 14ms/step - loss: 6.5661 - mae: 6.5661\n",
            "Epoch 45/100\n",
            "1/1 [==============================] - 0s 16ms/step - loss: 6.5421 - mae: 6.5421\n",
            "Epoch 46/100\n",
            "1/1 [==============================] - 0s 12ms/step - loss: 6.5175 - mae: 6.5175\n",
            "Epoch 47/100\n",
            "1/1 [==============================] - 0s 12ms/step - loss: 6.4920 - mae: 6.4920\n",
            "Epoch 48/100\n",
            "1/1 [==============================] - 0s 25ms/step - loss: 6.4658 - mae: 6.4658\n",
            "Epoch 49/100\n",
            "1/1 [==============================] - 0s 19ms/step - loss: 6.4388 - mae: 6.4388\n",
            "Epoch 50/100\n",
            "1/1 [==============================] - 0s 14ms/step - loss: 6.4111 - mae: 6.4111\n",
            "Epoch 51/100\n",
            "1/1 [==============================] - 0s 12ms/step - loss: 6.3825 - mae: 6.3825\n",
            "Epoch 52/100\n",
            "1/1 [==============================] - 0s 16ms/step - loss: 6.3531 - mae: 6.3531\n",
            "Epoch 53/100\n",
            "1/1 [==============================] - 0s 14ms/step - loss: 6.3228 - mae: 6.3228\n",
            "Epoch 54/100\n",
            "1/1 [==============================] - 0s 15ms/step - loss: 6.2916 - mae: 6.2916\n",
            "Epoch 55/100\n",
            "1/1 [==============================] - 0s 16ms/step - loss: 6.2595 - mae: 6.2595\n",
            "Epoch 56/100\n",
            "1/1 [==============================] - 0s 16ms/step - loss: 6.2264 - mae: 6.2264\n",
            "Epoch 57/100\n",
            "1/1 [==============================] - 0s 15ms/step - loss: 6.1923 - mae: 6.1923\n",
            "Epoch 58/100\n",
            "1/1 [==============================] - 0s 12ms/step - loss: 6.1572 - mae: 6.1572\n",
            "Epoch 59/100\n",
            "1/1 [==============================] - 0s 11ms/step - loss: 6.1210 - mae: 6.1210\n",
            "Epoch 60/100\n",
            "1/1 [==============================] - 0s 10ms/step - loss: 6.0837 - mae: 6.0837\n",
            "Epoch 61/100\n",
            "1/1 [==============================] - 0s 13ms/step - loss: 6.0623 - mae: 6.0623\n",
            "Epoch 62/100\n",
            "1/1 [==============================] - 0s 11ms/step - loss: 6.0155 - mae: 6.0155\n",
            "Epoch 63/100\n",
            "1/1 [==============================] - 0s 13ms/step - loss: 5.9844 - mae: 5.9844\n",
            "Epoch 64/100\n",
            "1/1 [==============================] - 0s 12ms/step - loss: 5.9546 - mae: 5.9546\n",
            "Epoch 65/100\n",
            "1/1 [==============================] - 0s 10ms/step - loss: 5.9227 - mae: 5.9227\n",
            "Epoch 66/100\n",
            "1/1 [==============================] - 0s 12ms/step - loss: 5.8888 - mae: 5.8888\n",
            "Epoch 67/100\n",
            "1/1 [==============================] - 0s 10ms/step - loss: 5.8529 - mae: 5.8529\n",
            "Epoch 68/100\n",
            "1/1 [==============================] - 0s 12ms/step - loss: 5.8150 - mae: 5.8150\n",
            "Epoch 69/100\n",
            "1/1 [==============================] - 0s 11ms/step - loss: 5.7750 - mae: 5.7750\n",
            "Epoch 70/100\n",
            "1/1 [==============================] - 0s 13ms/step - loss: 5.7329 - mae: 5.7329\n",
            "Epoch 71/100\n",
            "1/1 [==============================] - 0s 10ms/step - loss: 5.6886 - mae: 5.6886\n",
            "Epoch 72/100\n",
            "1/1 [==============================] - 0s 12ms/step - loss: 5.6422 - mae: 5.6422\n",
            "Epoch 73/100\n",
            "1/1 [==============================] - 0s 11ms/step - loss: 5.5935 - mae: 5.5935\n",
            "Epoch 74/100\n",
            "1/1 [==============================] - 0s 11ms/step - loss: 5.5424 - mae: 5.5424\n",
            "Epoch 75/100\n",
            "1/1 [==============================] - 0s 11ms/step - loss: 5.4889 - mae: 5.4889\n",
            "Epoch 76/100\n",
            "1/1 [==============================] - 0s 13ms/step - loss: 5.4330 - mae: 5.4330\n",
            "Epoch 77/100\n",
            "1/1 [==============================] - 0s 12ms/step - loss: 5.3744 - mae: 5.3744\n",
            "Epoch 78/100\n",
            "1/1 [==============================] - 0s 11ms/step - loss: 5.3682 - mae: 5.3682\n",
            "Epoch 79/100\n",
            "1/1 [==============================] - 0s 12ms/step - loss: 5.2957 - mae: 5.2957\n",
            "Epoch 80/100\n",
            "1/1 [==============================] - 0s 13ms/step - loss: 5.2129 - mae: 5.2129\n",
            "Epoch 81/100\n",
            "1/1 [==============================] - 0s 11ms/step - loss: 5.1623 - mae: 5.1623\n",
            "Epoch 82/100\n",
            "1/1 [==============================] - 0s 10ms/step - loss: 5.1074 - mae: 5.1074\n",
            "Epoch 83/100\n",
            "1/1 [==============================] - 0s 11ms/step - loss: 5.0483 - mae: 5.0483\n",
            "Epoch 84/100\n",
            "1/1 [==============================] - 0s 15ms/step - loss: 4.9849 - mae: 4.9849\n",
            "Epoch 85/100\n",
            "1/1 [==============================] - 0s 12ms/step - loss: 4.9171 - mae: 4.9171\n",
            "Epoch 86/100\n",
            "1/1 [==============================] - 0s 12ms/step - loss: 4.8449 - mae: 4.8449\n",
            "Epoch 87/100\n",
            "1/1 [==============================] - 0s 17ms/step - loss: 4.7682 - mae: 4.7682\n",
            "Epoch 88/100\n",
            "1/1 [==============================] - 0s 12ms/step - loss: 4.6866 - mae: 4.6866\n",
            "Epoch 89/100\n",
            "1/1 [==============================] - 0s 11ms/step - loss: 4.6002 - mae: 4.6002\n",
            "Epoch 90/100\n",
            "1/1 [==============================] - 0s 12ms/step - loss: 4.5087 - mae: 4.5087\n",
            "Epoch 91/100\n",
            "1/1 [==============================] - 0s 18ms/step - loss: 4.4119 - mae: 4.4119\n",
            "Epoch 92/100\n",
            "1/1 [==============================] - 0s 14ms/step - loss: 4.3096 - mae: 4.3096\n",
            "Epoch 93/100\n",
            "1/1 [==============================] - 0s 11ms/step - loss: 4.2343 - mae: 4.2343\n",
            "Epoch 94/100\n",
            "1/1 [==============================] - 0s 13ms/step - loss: 4.1027 - mae: 4.1027\n",
            "Epoch 95/100\n",
            "1/1 [==============================] - 0s 14ms/step - loss: 3.9969 - mae: 3.9969\n",
            "Epoch 96/100\n",
            "1/1 [==============================] - 0s 12ms/step - loss: 3.8837 - mae: 3.8837\n",
            "Epoch 97/100\n",
            "1/1 [==============================] - 0s 16ms/step - loss: 3.7629 - mae: 3.7629\n",
            "Epoch 98/100\n",
            "1/1 [==============================] - 0s 14ms/step - loss: 3.6380 - mae: 3.6380\n",
            "Epoch 99/100\n",
            "1/1 [==============================] - 0s 10ms/step - loss: 3.5150 - mae: 3.5150\n",
            "Epoch 100/100\n",
            "1/1 [==============================] - 0s 11ms/step - loss: 3.3864 - mae: 3.3864\n"
          ]
        },
        {
          "output_type": "execute_result",
          "data": {
            "text/plain": [
              "<keras.callbacks.History at 0x7fc9347acbb0>"
            ]
          },
          "metadata": {},
          "execution_count": 18
        }
      ]
    },
    {
      "cell_type": "code",
      "source": [
        "#let's predict once again\n",
        "model.predict([17.0])"
      ],
      "metadata": {
        "colab": {
          "base_uri": "https://localhost:8080/"
        },
        "id": "-XIh5wSadjuH",
        "outputId": "716100d6-7f7b-4736-ddbe-83193967f024"
      },
      "execution_count": null,
      "outputs": [
        {
          "output_type": "stream",
          "name": "stdout",
          "text": [
            "1/1 [==============================] - 0s 148ms/step\n"
          ]
        },
        {
          "output_type": "execute_result",
          "data": {
            "text/plain": [
              "array([[28.043724]], dtype=float32)"
            ]
          },
          "metadata": {},
          "execution_count": 19
        }
      ]
    },
    {
      "cell_type": "markdown",
      "source": [
        "# **Evaluating a model**"
      ],
      "metadata": {
        "id": "pa5mdOlVfGFL"
      }
    },
    {
      "cell_type": "markdown",
      "source": [
        "In practice, a typical workflow you'll go through when building neural networks is:\n",
        "\n",
        "Build a model  -> fit it -> evaluate it -> tweak a model -> fit it -> evaluate it -> tweak a model -> fit it -> evaluate it...\n",
        "\n",
        "It's a good idea to visualize:\n",
        "\n",
        "\n",
        "*   The data - what data are we working with? What does it look like?\n",
        "*   The model itself - what does our model look like?\n",
        "*   The training of a model - how does a model perform while it learns?\n",
        "*   The predictions of the model - how do the predictions of a model line up against the ground truth (the original labels)?\n",
        "\n",
        "\n"
      ],
      "metadata": {
        "id": "nV43SjNTauOx"
      }
    },
    {
      "cell_type": "code",
      "source": [
        "#make a bigger dataset\n",
        "X = tf.range(-100,100,4)\n",
        "X"
      ],
      "metadata": {
        "id": "c5yl0AZVfQf1",
        "colab": {
          "base_uri": "https://localhost:8080/"
        },
        "outputId": "c1d0e7cd-d106-44ba-fa49-62873a7a9bc5"
      },
      "execution_count": null,
      "outputs": [
        {
          "output_type": "execute_result",
          "data": {
            "text/plain": [
              "<tf.Tensor: shape=(50,), dtype=int32, numpy=\n",
              "array([-100,  -96,  -92,  -88,  -84,  -80,  -76,  -72,  -68,  -64,  -60,\n",
              "        -56,  -52,  -48,  -44,  -40,  -36,  -32,  -28,  -24,  -20,  -16,\n",
              "        -12,   -8,   -4,    0,    4,    8,   12,   16,   20,   24,   28,\n",
              "         32,   36,   40,   44,   48,   52,   56,   60,   64,   68,   72,\n",
              "         76,   80,   84,   88,   92,   96], dtype=int32)>"
            ]
          },
          "metadata": {},
          "execution_count": 20
        }
      ]
    },
    {
      "cell_type": "code",
      "source": [
        "y=X+10\n",
        "y"
      ],
      "metadata": {
        "colab": {
          "base_uri": "https://localhost:8080/"
        },
        "id": "wwSgv0BesnF_",
        "outputId": "a61ecf24-a60f-4912-e343-e16cc6112d77"
      },
      "execution_count": null,
      "outputs": [
        {
          "output_type": "execute_result",
          "data": {
            "text/plain": [
              "<tf.Tensor: shape=(50,), dtype=int32, numpy=\n",
              "array([-90, -86, -82, -78, -74, -70, -66, -62, -58, -54, -50, -46, -42,\n",
              "       -38, -34, -30, -26, -22, -18, -14, -10,  -6,  -2,   2,   6,  10,\n",
              "        14,  18,  22,  26,  30,  34,  38,  42,  46,  50,  54,  58,  62,\n",
              "        66,  70,  74,  78,  82,  86,  90,  94,  98, 102, 106], dtype=int32)>"
            ]
          },
          "metadata": {},
          "execution_count": 21
        }
      ]
    },
    {
      "cell_type": "code",
      "source": [
        "plt.plot(X,y,'r')"
      ],
      "metadata": {
        "colab": {
          "base_uri": "https://localhost:8080/",
          "height": 283
        },
        "id": "chTdSaX6svTu",
        "outputId": "6467bf3f-3465-49fa-8a12-fb18d7037484"
      },
      "execution_count": null,
      "outputs": [
        {
          "output_type": "execute_result",
          "data": {
            "text/plain": [
              "[<matplotlib.lines.Line2D at 0x7fc9345f6a90>]"
            ]
          },
          "metadata": {},
          "execution_count": 22
        },
        {
          "output_type": "display_data",
          "data": {
            "text/plain": [
              "<Figure size 432x288 with 1 Axes>"
            ],
            "image/png": "[encoded data removed]"
          },
          "metadata": {
            "needs_background": "light"
          }
        }
      ]
    },
    {
      "cell_type": "code",
      "source": [
        "### The 3 Sets...\n",
        "# Training Set - (70-80)%\n",
        "# Validation Set - (10-15)%\n",
        "# Testing Set - (10-15)%"
      ],
      "metadata": {
        "id": "trtwgfE0tBSi"
      },
      "execution_count": null,
      "outputs": []
    },
    {
      "cell_type": "code",
      "source": [
        "#check thenlength of the dataset\n",
        "len(X)"
      ],
      "metadata": {
        "colab": {
          "base_uri": "https://localhost:8080/"
        },
        "id": "Hp3OBmuMt9Sr",
        "outputId": "a1ac0a50-1620-47af-c5e6-79d730164e82"
      },
      "execution_count": null,
      "outputs": [
        {
          "output_type": "execute_result",
          "data": {
            "text/plain": [
              "50"
            ]
          },
          "metadata": {},
          "execution_count": 24
        }
      ]
    },
    {
      "cell_type": "code",
      "source": [
        "#split sets\n",
        "X_train = X[:40]\n",
        "Y_train = y[:40]\n",
        "\n",
        "X_test = X[40:]\n",
        "Y_test = y[40:]\n",
        "\n",
        "len(X_train),len(X_test),len(Y_train),len(Y_test)"
      ],
      "metadata": {
        "colab": {
          "base_uri": "https://localhost:8080/"
        },
        "id": "ItM1Hi_rubIl",
        "outputId": "96075cb6-d11c-42ef-ff6b-093a677de182"
      },
      "execution_count": null,
      "outputs": [
        {
          "output_type": "execute_result",
          "data": {
            "text/plain": [
              "(40, 10, 40, 10)"
            ]
          },
          "metadata": {},
          "execution_count": 25
        }
      ]
    },
    {
      "cell_type": "code",
      "source": [
        "#visualising our data\n",
        "plt.figure(figsize=(10,7))\n",
        "\n",
        "#plot training data in blue\n",
        "plt.scatter(X_train,Y_train,c=\"b\",label=\"Training Data\")\n",
        "\n",
        "#plot testing data in green\n",
        "plt.scatter(X_test,Y_test,c=\"g\",label=\"Testing Data\")\n",
        "\n",
        "plt.legend()"
      ],
      "metadata": {
        "colab": {
          "base_uri": "https://localhost:8080/",
          "height": 446
        },
        "id": "M5haGF2-vTTZ",
        "outputId": "05c6c4b8-413b-4d9b-93c0-d222f2d596ef"
      },
      "execution_count": null,
      "outputs": [
        {
          "output_type": "execute_result",
          "data": {
            "text/plain": [
              "<matplotlib.legend.Legend at 0x7fc92544c820>"
            ]
          },
          "metadata": {},
          "execution_count": 26
        },
        {
          "output_type": "display_data",
          "data": {
            "text/plain": [
              "<Figure size 720x504 with 1 Axes>"
            ],
            "image/png": "[encoded data removed]"
          },
          "metadata": {
            "needs_background": "light"
          }
        }
      ]
    },
    {
      "cell_type": "code",
      "source": [
        "#let's build a neural network\n",
        "\n",
        "#create a model\n",
        "model = tf.keras.Sequential([\n",
        "    tf.keras.layers.Dense(50,activation=\"relu\"),\n",
        "    tf.keras.layers.Dense(1)\n",
        "])\n",
        "\n",
        "#compile the model\n",
        "model.compile(loss=tf.keras.losses.mae,\n",
        "    optimizer=tf.keras.optimizers.Adam(lr=0.01),\n",
        "    metrics=\"mae\"\n",
        ")\n",
        "\n",
        "#fit the model\n",
        "model.fit(tf.expand_dims(X_train,axis=-1),Y_train,epochs=100)"
      ],
      "metadata": {
        "colab": {
          "base_uri": "https://localhost:8080/"
        },
        "id": "fYzxEq_3wWPS",
        "outputId": "5224b78d-e745-4f12-977c-3c62e51bfb32"
      },
      "execution_count": null,
      "outputs": [
        {
          "output_type": "stream",
          "name": "stderr",
          "text": [
            "WARNING:absl:`lr` is deprecated, please use `learning_rate` instead, or use the legacy optimizer, e.g.,tf.keras.optimizers.legacy.Adam.\n"
          ]
        },
        {
          "output_type": "stream",
          "name": "stdout",
          "text": [
            "Epoch 1/100\n",
            "2/2 [==============================] - 1s 8ms/step - loss: 40.4322 - mae: 40.4322\n",
            "Epoch 2/100\n",
            "2/2 [==============================] - 0s 8ms/step - loss: 39.7435 - mae: 39.7435\n",
            "Epoch 3/100\n",
            "2/2 [==============================] - 0s 8ms/step - loss: 39.0918 - mae: 39.0918\n",
            "Epoch 4/100\n",
            "2/2 [==============================] - 0s 9ms/step - loss: 38.4234 - mae: 38.4234\n",
            "Epoch 5/100\n",
            "2/2 [==============================] - 0s 8ms/step - loss: 37.7724 - mae: 37.7724\n",
            "Epoch 6/100\n",
            "2/2 [==============================] - 0s 8ms/step - loss: 37.1154 - mae: 37.1154\n",
            "Epoch 7/100\n",
            "2/2 [==============================] - 0s 8ms/step - loss: 36.4559 - mae: 36.4559\n",
            "Epoch 8/100\n",
            "2/2 [==============================] - 0s 8ms/step - loss: 35.7659 - mae: 35.7659\n",
            "Epoch 9/100\n",
            "2/2 [==============================] - 0s 8ms/step - loss: 35.1279 - mae: 35.1279\n",
            "Epoch 10/100\n",
            "2/2 [==============================] - 0s 8ms/step - loss: 34.4817 - mae: 34.4817\n",
            "Epoch 11/100\n",
            "2/2 [==============================] - 0s 10ms/step - loss: 33.7885 - mae: 33.7885\n",
            "Epoch 12/100\n",
            "2/2 [==============================] - 0s 8ms/step - loss: 33.1509 - mae: 33.1509\n",
            "Epoch 13/100\n",
            "2/2 [==============================] - 0s 9ms/step - loss: 32.4696 - mae: 32.4696\n",
            "Epoch 14/100\n",
            "2/2 [==============================] - 0s 12ms/step - loss: 31.8201 - mae: 31.8201\n",
            "Epoch 15/100\n",
            "2/2 [==============================] - 0s 8ms/step - loss: 31.1665 - mae: 31.1665\n",
            "Epoch 16/100\n",
            "2/2 [==============================] - 0s 8ms/step - loss: 30.4769 - mae: 30.4769\n",
            "Epoch 17/100\n",
            "2/2 [==============================] - 0s 9ms/step - loss: 29.8097 - mae: 29.8097\n",
            "Epoch 18/100\n",
            "2/2 [==============================] - 0s 8ms/step - loss: 29.1233 - mae: 29.1233\n",
            "Epoch 19/100\n",
            "2/2 [==============================] - 0s 7ms/step - loss: 28.4477 - mae: 28.4477\n",
            "Epoch 20/100\n",
            "2/2 [==============================] - 0s 10ms/step - loss: 27.7367 - mae: 27.7367\n",
            "Epoch 21/100\n",
            "2/2 [==============================] - 0s 8ms/step - loss: 27.0364 - mae: 27.0364\n",
            "Epoch 22/100\n",
            "2/2 [==============================] - 0s 8ms/step - loss: 26.3524 - mae: 26.3524\n",
            "Epoch 23/100\n",
            "2/2 [==============================] - 0s 9ms/step - loss: 25.6592 - mae: 25.6592\n",
            "Epoch 24/100\n",
            "2/2 [==============================] - 0s 8ms/step - loss: 24.9533 - mae: 24.9533\n",
            "Epoch 25/100\n",
            "2/2 [==============================] - 0s 8ms/step - loss: 24.2398 - mae: 24.2398\n",
            "Epoch 26/100\n",
            "2/2 [==============================] - 0s 8ms/step - loss: 23.5532 - mae: 23.5532\n",
            "Epoch 27/100\n",
            "2/2 [==============================] - 0s 8ms/step - loss: 22.8160 - mae: 22.8160\n",
            "Epoch 28/100\n",
            "2/2 [==============================] - 0s 8ms/step - loss: 22.1314 - mae: 22.1314\n",
            "Epoch 29/100\n",
            "2/2 [==============================] - 0s 9ms/step - loss: 21.3633 - mae: 21.3633\n",
            "Epoch 30/100\n",
            "2/2 [==============================] - 0s 12ms/step - loss: 20.6324 - mae: 20.6324\n",
            "Epoch 31/100\n",
            "2/2 [==============================] - 0s 15ms/step - loss: 19.9677 - mae: 19.9677\n",
            "Epoch 32/100\n",
            "2/2 [==============================] - 0s 8ms/step - loss: 19.2275 - mae: 19.2275\n",
            "Epoch 33/100\n",
            "2/2 [==============================] - 0s 8ms/step - loss: 18.4776 - mae: 18.4776\n",
            "Epoch 34/100\n",
            "2/2 [==============================] - 0s 8ms/step - loss: 17.8098 - mae: 17.8098\n",
            "Epoch 35/100\n",
            "2/2 [==============================] - 0s 8ms/step - loss: 17.0576 - mae: 17.0576\n",
            "Epoch 36/100\n",
            "2/2 [==============================] - 0s 9ms/step - loss: 16.4245 - mae: 16.4245\n",
            "Epoch 37/100\n",
            "2/2 [==============================] - 0s 8ms/step - loss: 15.7373 - mae: 15.7373\n",
            "Epoch 38/100\n",
            "2/2 [==============================] - 0s 8ms/step - loss: 15.0932 - mae: 15.0932\n",
            "Epoch 39/100\n",
            "2/2 [==============================] - 0s 8ms/step - loss: 14.4600 - mae: 14.4600\n",
            "Epoch 40/100\n",
            "2/2 [==============================] - 0s 9ms/step - loss: 13.8622 - mae: 13.8622\n",
            "Epoch 41/100\n",
            "2/2 [==============================] - 0s 9ms/step - loss: 13.2792 - mae: 13.2792\n",
            "Epoch 42/100\n",
            "2/2 [==============================] - 0s 8ms/step - loss: 12.7246 - mae: 12.7246\n",
            "Epoch 43/100\n",
            "2/2 [==============================] - 0s 7ms/step - loss: 12.1666 - mae: 12.1666\n",
            "Epoch 44/100\n",
            "2/2 [==============================] - 0s 7ms/step - loss: 11.7296 - mae: 11.7296\n",
            "Epoch 45/100\n",
            "2/2 [==============================] - 0s 9ms/step - loss: 11.3053 - mae: 11.3053\n",
            "Epoch 46/100\n",
            "2/2 [==============================] - 0s 9ms/step - loss: 10.9936 - mae: 10.9936\n",
            "Epoch 47/100\n",
            "2/2 [==============================] - 0s 7ms/step - loss: 10.7356 - mae: 10.7356\n",
            "Epoch 48/100\n",
            "2/2 [==============================] - 0s 7ms/step - loss: 10.5664 - mae: 10.5664\n",
            "Epoch 49/100\n",
            "2/2 [==============================] - 0s 10ms/step - loss: 10.4383 - mae: 10.4383\n",
            "Epoch 50/100\n",
            "2/2 [==============================] - 0s 9ms/step - loss: 10.2912 - mae: 10.2912\n",
            "Epoch 51/100\n",
            "2/2 [==============================] - 0s 6ms/step - loss: 10.1450 - mae: 10.1450\n",
            "Epoch 52/100\n",
            "2/2 [==============================] - 0s 6ms/step - loss: 9.9851 - mae: 9.9851\n",
            "Epoch 53/100\n",
            "2/2 [==============================] - 0s 8ms/step - loss: 9.7880 - mae: 9.7880\n",
            "Epoch 54/100\n",
            "2/2 [==============================] - 0s 8ms/step - loss: 9.5841 - mae: 9.5841\n",
            "Epoch 55/100\n",
            "2/2 [==============================] - 0s 8ms/step - loss: 9.3920 - mae: 9.3920\n",
            "Epoch 56/100\n",
            "2/2 [==============================] - 0s 7ms/step - loss: 9.2057 - mae: 9.2057\n",
            "Epoch 57/100\n",
            "2/2 [==============================] - 0s 8ms/step - loss: 9.0210 - mae: 9.0210\n",
            "Epoch 58/100\n",
            "2/2 [==============================] - 0s 7ms/step - loss: 8.8596 - mae: 8.8596\n",
            "Epoch 59/100\n",
            "2/2 [==============================] - 0s 7ms/step - loss: 8.6564 - mae: 8.6564\n",
            "Epoch 60/100\n",
            "2/2 [==============================] - 0s 7ms/step - loss: 8.4811 - mae: 8.4811\n",
            "Epoch 61/100\n",
            "2/2 [==============================] - 0s 8ms/step - loss: 8.2819 - mae: 8.2819\n",
            "Epoch 62/100\n",
            "2/2 [==============================] - 0s 8ms/step - loss: 8.0951 - mae: 8.0951\n",
            "Epoch 63/100\n",
            "2/2 [==============================] - 0s 9ms/step - loss: 7.9141 - mae: 7.9141\n",
            "Epoch 64/100\n",
            "2/2 [==============================] - 0s 7ms/step - loss: 7.7114 - mae: 7.7114\n",
            "Epoch 65/100\n",
            "2/2 [==============================] - 0s 8ms/step - loss: 7.5363 - mae: 7.5363\n",
            "Epoch 66/100\n",
            "2/2 [==============================] - 0s 8ms/step - loss: 7.3238 - mae: 7.3238\n",
            "Epoch 67/100\n",
            "2/2 [==============================] - 0s 8ms/step - loss: 7.1273 - mae: 7.1273\n",
            "Epoch 68/100\n",
            "2/2 [==============================] - 0s 8ms/step - loss: 6.9307 - mae: 6.9307\n",
            "Epoch 69/100\n",
            "2/2 [==============================] - 0s 8ms/step - loss: 6.7195 - mae: 6.7195\n",
            "Epoch 70/100\n",
            "2/2 [==============================] - 0s 7ms/step - loss: 6.4969 - mae: 6.4969\n",
            "Epoch 71/100\n",
            "2/2 [==============================] - 0s 7ms/step - loss: 6.2974 - mae: 6.2974\n",
            "Epoch 72/100\n",
            "2/2 [==============================] - 0s 8ms/step - loss: 6.0941 - mae: 6.0941\n",
            "Epoch 73/100\n",
            "2/2 [==============================] - 0s 7ms/step - loss: 5.8480 - mae: 5.8480\n",
            "Epoch 74/100\n",
            "2/2 [==============================] - 0s 8ms/step - loss: 5.6340 - mae: 5.6340\n",
            "Epoch 75/100\n",
            "2/2 [==============================] - 0s 9ms/step - loss: 5.3744 - mae: 5.3744\n",
            "Epoch 76/100\n",
            "2/2 [==============================] - 0s 7ms/step - loss: 5.1108 - mae: 5.1108\n",
            "Epoch 77/100\n",
            "2/2 [==============================] - 0s 7ms/step - loss: 4.8434 - mae: 4.8434\n",
            "Epoch 78/100\n",
            "2/2 [==============================] - 0s 7ms/step - loss: 4.6369 - mae: 4.6369\n",
            "Epoch 79/100\n",
            "2/2 [==============================] - 0s 7ms/step - loss: 4.3541 - mae: 4.3541\n",
            "Epoch 80/100\n",
            "2/2 [==============================] - 0s 7ms/step - loss: 4.1585 - mae: 4.1585\n",
            "Epoch 81/100\n",
            "2/2 [==============================] - 0s 12ms/step - loss: 4.0485 - mae: 4.0485\n",
            "Epoch 82/100\n",
            "2/2 [==============================] - 0s 6ms/step - loss: 4.0211 - mae: 4.0211\n",
            "Epoch 83/100\n",
            "2/2 [==============================] - 0s 7ms/step - loss: 4.0158 - mae: 4.0158\n",
            "Epoch 84/100\n",
            "2/2 [==============================] - 0s 7ms/step - loss: 4.0518 - mae: 4.0518\n",
            "Epoch 85/100\n",
            "2/2 [==============================] - 0s 9ms/step - loss: 4.0623 - mae: 4.0623\n",
            "Epoch 86/100\n",
            "2/2 [==============================] - 0s 9ms/step - loss: 4.0758 - mae: 4.0758\n",
            "Epoch 87/100\n",
            "2/2 [==============================] - 0s 8ms/step - loss: 4.0803 - mae: 4.0803\n",
            "Epoch 88/100\n",
            "2/2 [==============================] - 0s 8ms/step - loss: 4.0840 - mae: 4.0840\n",
            "Epoch 89/100\n",
            "2/2 [==============================] - 0s 9ms/step - loss: 4.1016 - mae: 4.1016\n",
            "Epoch 90/100\n",
            "2/2 [==============================] - 0s 10ms/step - loss: 4.1437 - mae: 4.1437\n",
            "Epoch 91/100\n",
            "2/2 [==============================] - 0s 8ms/step - loss: 4.1422 - mae: 4.1422\n",
            "Epoch 92/100\n",
            "2/2 [==============================] - 0s 9ms/step - loss: 4.1245 - mae: 4.1245\n",
            "Epoch 93/100\n",
            "2/2 [==============================] - 0s 8ms/step - loss: 4.0841 - mae: 4.0841\n",
            "Epoch 94/100\n",
            "2/2 [==============================] - 0s 7ms/step - loss: 4.0408 - mae: 4.0408\n",
            "Epoch 95/100\n",
            "2/2 [==============================] - 0s 8ms/step - loss: 4.0082 - mae: 4.0082\n",
            "Epoch 96/100\n",
            "2/2 [==============================] - 0s 8ms/step - loss: 3.9927 - mae: 3.9927\n",
            "Epoch 97/100\n",
            "2/2 [==============================] - 0s 7ms/step - loss: 3.9824 - mae: 3.9824\n",
            "Epoch 98/100\n",
            "2/2 [==============================] - 0s 8ms/step - loss: 3.9811 - mae: 3.9811\n",
            "Epoch 99/100\n",
            "2/2 [==============================] - 0s 10ms/step - loss: 3.9679 - mae: 3.9679\n",
            "Epoch 100/100\n",
            "2/2 [==============================] - 0s 9ms/step - loss: 3.9550 - mae: 3.9550\n"
          ]
        },
        {
          "output_type": "execute_result",
          "data": {
            "text/plain": [
              "<keras.callbacks.History at 0x7fc9253ce8e0>"
            ]
          },
          "metadata": {},
          "execution_count": 27
        }
      ]
    },
    {
      "cell_type": "code",
      "source": [
        "#visualizing the model\n",
        "model.summary()"
      ],
      "metadata": {
        "colab": {
          "base_uri": "https://localhost:8080/"
        },
        "id": "a71qzScay5Ws",
        "outputId": "3209b893-cb16-4dd8-a412-82425c3d97ff"
      },
      "execution_count": null,
      "outputs": [
        {
          "output_type": "stream",
          "name": "stdout",
          "text": [
            "Model: \"sequential_3\"\n",
            "_________________________________________________________________\n",
            " Layer (type)                Output Shape              Param #   \n",
            "=================================================================\n",
            " dense_6 (Dense)             (None, 50)                100       \n",
            "                                                                 \n",
            " dense_7 (Dense)             (None, 1)                 51        \n",
            "                                                                 \n",
            "=================================================================\n",
            "Total params: 151\n",
            "Trainable params: 151\n",
            "Non-trainable params: 0\n",
            "_________________________________________________________________\n"
          ]
        }
      ]
    },
    {
      "cell_type": "code",
      "source": [
        "X[0].shape,y[0].shape"
      ],
      "metadata": {
        "colab": {
          "base_uri": "https://localhost:8080/"
        },
        "id": "hlbE5ydU0YoY",
        "outputId": "2ee75819-d242-466b-9805-e9e8649895da"
      },
      "execution_count": null,
      "outputs": [
        {
          "output_type": "execute_result",
          "data": {
            "text/plain": [
              "(TensorShape([]), TensorShape([]))"
            ]
          },
          "metadata": {},
          "execution_count": 29
        }
      ]
    },
    {
      "cell_type": "code",
      "source": [
        "#lets create a model which build automatically by defining the input_shape argument in the first layer\n",
        "tf.random.set_seed(42)\n",
        "#model\n",
        "model = tf.keras.Sequential([\n",
        "    tf.keras.layers.Dense(100,activation=\"relu\"),\n",
        "    tf.keras.layers.Dense(1)\n",
        "])\n",
        "\n",
        "#compile\n",
        "model.compile(loss=tf.keras.losses.mae,\n",
        "    optimizer=tf.keras.optimizers.SGD(),\n",
        "    metrics=[\"mae\"]\n",
        ")\n",
        "\n"
      ],
      "metadata": {
        "id": "A87_dqOyzivY"
      },
      "execution_count": null,
      "outputs": []
    },
    {
      "cell_type": "code",
      "source": [
        "model.fit(tf.expand_dims(X_train,axis=-1),Y_train,epochs=100)"
      ],
      "metadata": {
        "colab": {
          "base_uri": "https://localhost:8080/"
        },
        "id": "o2jREb5w1EJB",
        "outputId": "c160873c-1411-4fcc-9520-5314fc5f245a"
      },
      "execution_count": null,
      "outputs": [
        {
          "output_type": "stream",
          "name": "stdout",
          "text": [
            "Epoch 1/100\n",
            "2/2 [==============================] - 0s 11ms/step - loss: 39.1529 - mae: 39.1529\n",
            "Epoch 2/100\n",
            "2/2 [==============================] - 0s 7ms/step - loss: 20.4113 - mae: 20.4113\n",
            "Epoch 3/100\n",
            "2/2 [==============================] - 0s 7ms/step - loss: 16.2991 - mae: 16.2991\n",
            "Epoch 4/100\n",
            "2/2 [==============================] - 0s 7ms/step - loss: 8.4620 - mae: 8.4620\n",
            "Epoch 5/100\n",
            "2/2 [==============================] - 0s 7ms/step - loss: 10.4638 - mae: 10.4638\n",
            "Epoch 6/100\n",
            "2/2 [==============================] - 0s 8ms/step - loss: 5.7853 - mae: 5.7853\n",
            "Epoch 7/100\n",
            "2/2 [==============================] - 0s 9ms/step - loss: 12.0992 - mae: 12.0992\n",
            "Epoch 8/100\n",
            "2/2 [==============================] - 0s 8ms/step - loss: 7.2179 - mae: 7.2179\n",
            "Epoch 9/100\n",
            "2/2 [==============================] - 0s 8ms/step - loss: 22.7284 - mae: 22.7284\n",
            "Epoch 10/100\n",
            "2/2 [==============================] - 0s 7ms/step - loss: 12.4614 - mae: 12.4614\n",
            "Epoch 11/100\n",
            "2/2 [==============================] - 0s 7ms/step - loss: 8.3760 - mae: 8.3760\n",
            "Epoch 12/100\n",
            "2/2 [==============================] - 0s 7ms/step - loss: 19.3348 - mae: 19.3348\n",
            "Epoch 13/100\n",
            "2/2 [==============================] - 0s 8ms/step - loss: 5.3536 - mae: 5.3536\n",
            "Epoch 14/100\n",
            "2/2 [==============================] - 0s 8ms/step - loss: 18.7516 - mae: 18.7516\n",
            "Epoch 15/100\n",
            "2/2 [==============================] - 0s 10ms/step - loss: 8.3016 - mae: 8.3016\n",
            "Epoch 16/100\n",
            "2/2 [==============================] - 0s 6ms/step - loss: 10.8384 - mae: 10.8384\n",
            "Epoch 17/100\n",
            "2/2 [==============================] - 0s 7ms/step - loss: 15.8452 - mae: 15.8452\n",
            "Epoch 18/100\n",
            "2/2 [==============================] - 0s 10ms/step - loss: 11.7942 - mae: 11.7942\n",
            "Epoch 19/100\n",
            "2/2 [==============================] - 0s 7ms/step - loss: 9.4574 - mae: 9.4574\n",
            "Epoch 20/100\n",
            "2/2 [==============================] - 0s 6ms/step - loss: 5.4096 - mae: 5.4096\n",
            "Epoch 21/100\n",
            "2/2 [==============================] - 0s 6ms/step - loss: 12.5087 - mae: 12.5087\n",
            "Epoch 22/100\n",
            "2/2 [==============================] - 0s 7ms/step - loss: 18.6728 - mae: 18.6728\n",
            "Epoch 23/100\n",
            "2/2 [==============================] - 0s 6ms/step - loss: 8.6208 - mae: 8.6208\n",
            "Epoch 24/100\n",
            "2/2 [==============================] - 0s 7ms/step - loss: 12.8013 - mae: 12.8013\n",
            "Epoch 25/100\n",
            "2/2 [==============================] - 0s 8ms/step - loss: 16.4601 - mae: 16.4601\n",
            "Epoch 26/100\n",
            "2/2 [==============================] - 0s 6ms/step - loss: 17.3333 - mae: 17.3333\n",
            "Epoch 27/100\n",
            "2/2 [==============================] - 0s 8ms/step - loss: 12.5428 - mae: 12.5428\n",
            "Epoch 28/100\n",
            "2/2 [==============================] - 0s 7ms/step - loss: 11.9256 - mae: 11.9256\n",
            "Epoch 29/100\n",
            "2/2 [==============================] - 0s 6ms/step - loss: 5.1665 - mae: 5.1665\n",
            "Epoch 30/100\n",
            "2/2 [==============================] - 0s 7ms/step - loss: 22.5328 - mae: 22.5328\n",
            "Epoch 31/100\n",
            "2/2 [==============================] - 0s 7ms/step - loss: 9.7256 - mae: 9.7256\n",
            "Epoch 32/100\n",
            "2/2 [==============================] - 0s 7ms/step - loss: 11.7429 - mae: 11.7429\n",
            "Epoch 33/100\n",
            "2/2 [==============================] - 0s 7ms/step - loss: 8.5092 - mae: 8.5092\n",
            "Epoch 34/100\n",
            "2/2 [==============================] - 0s 7ms/step - loss: 15.0220 - mae: 15.0220\n",
            "Epoch 35/100\n",
            "2/2 [==============================] - 0s 8ms/step - loss: 7.6466 - mae: 7.6466\n",
            "Epoch 36/100\n",
            "2/2 [==============================] - 0s 8ms/step - loss: 17.8763 - mae: 17.8763\n",
            "Epoch 37/100\n",
            "2/2 [==============================] - 0s 6ms/step - loss: 7.2899 - mae: 7.2899\n",
            "Epoch 38/100\n",
            "2/2 [==============================] - 0s 7ms/step - loss: 11.8801 - mae: 11.8801\n",
            "Epoch 39/100\n",
            "2/2 [==============================] - 0s 8ms/step - loss: 15.2908 - mae: 15.2908\n",
            "Epoch 40/100\n",
            "2/2 [==============================] - 0s 7ms/step - loss: 12.9374 - mae: 12.9374\n",
            "Epoch 41/100\n",
            "2/2 [==============================] - 0s 7ms/step - loss: 6.7227 - mae: 6.7227\n",
            "Epoch 42/100\n",
            "2/2 [==============================] - 0s 8ms/step - loss: 11.6801 - mae: 11.6801\n",
            "Epoch 43/100\n",
            "2/2 [==============================] - 0s 7ms/step - loss: 9.3830 - mae: 9.3830\n",
            "Epoch 44/100\n",
            "2/2 [==============================] - 0s 8ms/step - loss: 23.2693 - mae: 23.2693\n",
            "Epoch 45/100\n",
            "2/2 [==============================] - 0s 8ms/step - loss: 13.7267 - mae: 13.7267\n",
            "Epoch 46/100\n",
            "2/2 [==============================] - 0s 7ms/step - loss: 6.3305 - mae: 6.3305\n",
            "Epoch 47/100\n",
            "2/2 [==============================] - 0s 7ms/step - loss: 8.5797 - mae: 8.5797\n",
            "Epoch 48/100\n",
            "2/2 [==============================] - 0s 7ms/step - loss: 11.9637 - mae: 11.9637\n",
            "Epoch 49/100\n",
            "2/2 [==============================] - 0s 9ms/step - loss: 9.5698 - mae: 9.5698\n",
            "Epoch 50/100\n",
            "2/2 [==============================] - 0s 7ms/step - loss: 13.4897 - mae: 13.4897\n",
            "Epoch 51/100\n",
            "2/2 [==============================] - 0s 8ms/step - loss: 8.7801 - mae: 8.7801\n",
            "Epoch 52/100\n",
            "2/2 [==============================] - 0s 9ms/step - loss: 19.0112 - mae: 19.0112\n",
            "Epoch 53/100\n",
            "2/2 [==============================] - 0s 7ms/step - loss: 8.8235 - mae: 8.8235\n",
            "Epoch 54/100\n",
            "2/2 [==============================] - 0s 8ms/step - loss: 14.1059 - mae: 14.1059\n",
            "Epoch 55/100\n",
            "2/2 [==============================] - 0s 7ms/step - loss: 22.3401 - mae: 22.3401\n",
            "Epoch 56/100\n",
            "2/2 [==============================] - 0s 9ms/step - loss: 13.3540 - mae: 13.3540\n",
            "Epoch 57/100\n",
            "2/2 [==============================] - 0s 7ms/step - loss: 6.6468 - mae: 6.6468\n",
            "Epoch 58/100\n",
            "2/2 [==============================] - 0s 7ms/step - loss: 6.2389 - mae: 6.2389\n",
            "Epoch 59/100\n",
            "2/2 [==============================] - 0s 7ms/step - loss: 12.9517 - mae: 12.9517\n",
            "Epoch 60/100\n",
            "2/2 [==============================] - 0s 10ms/step - loss: 9.7438 - mae: 9.7438\n",
            "Epoch 61/100\n",
            "2/2 [==============================] - 0s 6ms/step - loss: 12.7913 - mae: 12.7913\n",
            "Epoch 62/100\n",
            "2/2 [==============================] - 0s 8ms/step - loss: 15.7804 - mae: 15.7804\n",
            "Epoch 63/100\n",
            "2/2 [==============================] - 0s 8ms/step - loss: 8.8463 - mae: 8.8463\n",
            "Epoch 64/100\n",
            "2/2 [==============================] - 0s 8ms/step - loss: 7.3155 - mae: 7.3155\n",
            "Epoch 65/100\n",
            "2/2 [==============================] - 0s 8ms/step - loss: 8.1353 - mae: 8.1353\n",
            "Epoch 66/100\n",
            "2/2 [==============================] - 0s 8ms/step - loss: 16.2190 - mae: 16.2190\n",
            "Epoch 67/100\n",
            "2/2 [==============================] - 0s 6ms/step - loss: 9.4728 - mae: 9.4728\n",
            "Epoch 68/100\n",
            "2/2 [==============================] - 0s 12ms/step - loss: 6.6535 - mae: 6.6535\n",
            "Epoch 69/100\n",
            "2/2 [==============================] - 0s 10ms/step - loss: 15.0744 - mae: 15.0744\n",
            "Epoch 70/100\n",
            "2/2 [==============================] - 0s 12ms/step - loss: 7.2238 - mae: 7.2238\n",
            "Epoch 71/100\n",
            "2/2 [==============================] - 0s 10ms/step - loss: 9.0056 - mae: 9.0056\n",
            "Epoch 72/100\n",
            "2/2 [==============================] - 0s 15ms/step - loss: 10.7855 - mae: 10.7855\n",
            "Epoch 73/100\n",
            "2/2 [==============================] - 0s 6ms/step - loss: 12.1991 - mae: 12.1991\n",
            "Epoch 74/100\n",
            "2/2 [==============================] - 0s 9ms/step - loss: 22.7016 - mae: 22.7016\n",
            "Epoch 75/100\n",
            "2/2 [==============================] - 0s 6ms/step - loss: 7.6401 - mae: 7.6401\n",
            "Epoch 76/100\n",
            "2/2 [==============================] - 0s 7ms/step - loss: 9.3132 - mae: 9.3132\n",
            "Epoch 77/100\n",
            "2/2 [==============================] - 0s 9ms/step - loss: 10.8775 - mae: 10.8775\n",
            "Epoch 78/100\n",
            "2/2 [==============================] - 0s 10ms/step - loss: 15.4538 - mae: 15.4538\n",
            "Epoch 79/100\n",
            "2/2 [==============================] - 0s 10ms/step - loss: 18.4141 - mae: 18.4141\n",
            "Epoch 80/100\n",
            "2/2 [==============================] - 0s 10ms/step - loss: 17.0108 - mae: 17.0108\n",
            "Epoch 81/100\n",
            "2/2 [==============================] - 0s 7ms/step - loss: 6.7259 - mae: 6.7259\n",
            "Epoch 82/100\n",
            "2/2 [==============================] - 0s 8ms/step - loss: 15.8277 - mae: 15.8277\n",
            "Epoch 83/100\n",
            "2/2 [==============================] - 0s 7ms/step - loss: 5.8103 - mae: 5.8103\n",
            "Epoch 84/100\n",
            "2/2 [==============================] - 0s 7ms/step - loss: 6.4686 - mae: 6.4686\n",
            "Epoch 85/100\n",
            "2/2 [==============================] - 0s 7ms/step - loss: 14.6645 - mae: 14.6645\n",
            "Epoch 86/100\n",
            "2/2 [==============================] - 0s 8ms/step - loss: 14.4652 - mae: 14.4652\n",
            "Epoch 87/100\n",
            "2/2 [==============================] - 0s 10ms/step - loss: 12.6274 - mae: 12.6274\n",
            "Epoch 88/100\n",
            "2/2 [==============================] - 0s 7ms/step - loss: 11.7856 - mae: 11.7856\n",
            "Epoch 89/100\n",
            "2/2 [==============================] - 0s 6ms/step - loss: 5.7181 - mae: 5.7181\n",
            "Epoch 90/100\n",
            "2/2 [==============================] - 0s 6ms/step - loss: 16.0984 - mae: 16.0984\n",
            "Epoch 91/100\n",
            "2/2 [==============================] - 0s 6ms/step - loss: 11.1342 - mae: 11.1342\n",
            "Epoch 92/100\n",
            "2/2 [==============================] - 0s 7ms/step - loss: 6.6513 - mae: 6.6513\n",
            "Epoch 93/100\n",
            "2/2 [==============================] - 0s 7ms/step - loss: 10.4550 - mae: 10.4550\n",
            "Epoch 94/100\n",
            "2/2 [==============================] - 0s 8ms/step - loss: 4.8305 - mae: 4.8305\n",
            "Epoch 95/100\n",
            "2/2 [==============================] - 0s 8ms/step - loss: 15.7910 - mae: 15.7910\n",
            "Epoch 96/100\n",
            "2/2 [==============================] - 0s 8ms/step - loss: 10.0230 - mae: 10.0230\n",
            "Epoch 97/100\n",
            "2/2 [==============================] - 0s 7ms/step - loss: 8.0102 - mae: 8.0102\n",
            "Epoch 98/100\n",
            "2/2 [==============================] - 0s 8ms/step - loss: 7.9320 - mae: 7.9320\n",
            "Epoch 99/100\n",
            "2/2 [==============================] - 0s 8ms/step - loss: 8.7667 - mae: 8.7667\n",
            "Epoch 100/100\n",
            "2/2 [==============================] - 0s 7ms/step - loss: 17.3474 - mae: 17.3474\n"
          ]
        },
        {
          "output_type": "execute_result",
          "data": {
            "text/plain": [
              "<keras.callbacks.History at 0x7fc9252d7ac0>"
            ]
          },
          "metadata": {},
          "execution_count": 31
        }
      ]
    },
    {
      "cell_type": "code",
      "source": [
        "model.summary()"
      ],
      "metadata": {
        "colab": {
          "base_uri": "https://localhost:8080/"
        },
        "id": "0H5-E8uI2ESB",
        "outputId": "0bbaed2b-ed39-4fc7-b0a1-ebc7d2b61195"
      },
      "execution_count": null,
      "outputs": [
        {
          "output_type": "stream",
          "name": "stdout",
          "text": [
            "Model: \"sequential_4\"\n",
            "_________________________________________________________________\n",
            " Layer (type)                Output Shape              Param #   \n",
            "=================================================================\n",
            " dense_8 (Dense)             (None, 100)               200       \n",
            "                                                                 \n",
            " dense_9 (Dense)             (None, 1)                 101       \n",
            "                                                                 \n",
            "=================================================================\n",
            "Total params: 301\n",
            "Trainable params: 301\n",
            "Non-trainable params: 0\n",
            "_________________________________________________________________\n"
          ]
        }
      ]
    },
    {
      "cell_type": "code",
      "source": [
        "#lets create a model which build automatically by defining the input_shape argument in the first layer\n",
        "tf.random.set_seed(42)\n",
        "#model\n",
        "model = tf.keras.Sequential([\n",
        "    # tf.keras.layers.Dense(100,activation=\"relu\"),\n",
        "    tf.keras.layers.Dense(1,input_shape=[1])\n",
        "])\n",
        "\n",
        "#compile\n",
        "model.compile(loss=tf.keras.losses.mae,\n",
        "    optimizer=tf.keras.optimizers.SGD(),\n",
        "    metrics=[\"mae\"]\n",
        ")"
      ],
      "metadata": {
        "id": "tZdIn3aEa-yj"
      },
      "execution_count": null,
      "outputs": []
    },
    {
      "cell_type": "code",
      "source": [
        "model.summary()"
      ],
      "metadata": {
        "colab": {
          "base_uri": "https://localhost:8080/"
        },
        "id": "LY9F4NNzcq18",
        "outputId": "dd7a7ca3-5616-42c0-91f3-7aba2a994517"
      },
      "execution_count": null,
      "outputs": [
        {
          "output_type": "stream",
          "name": "stdout",
          "text": [
            "Model: \"sequential_5\"\n",
            "_________________________________________________________________\n",
            " Layer (type)                Output Shape              Param #   \n",
            "=================================================================\n",
            " dense_10 (Dense)            (None, 1)                 2         \n",
            "                                                                 \n",
            "=================================================================\n",
            "Total params: 2\n",
            "Trainable params: 2\n",
            "Non-trainable params: 0\n",
            "_________________________________________________________________\n"
          ]
        }
      ]
    },
    {
      "cell_type": "markdown",
      "source": [
        "\n",
        "\n",
        "*   Total params - total number of parameters in the model.\n",
        "*   Trainable parameters - these are the parameters (patterns) the model can update as it trains.\n",
        "\n",
        "*   Non-trainable params - these parameters aren't updated during training (this is typical when you bring in already learn patterns or parameters from other models during **transfer learning**).\n",
        "\n",
        "\n",
        "\n",
        "\n"
      ],
      "metadata": {
        "id": "SyVpUwaac9Ih"
      }
    },
    {
      "cell_type": "code",
      "source": [
        "model.fit(tf.expand_dims(X_train,axis=-1),Y_train,epochs=100,verbose=0) #verbose = 0 trains the model in background without showing the details"
      ],
      "metadata": {
        "colab": {
          "base_uri": "https://localhost:8080/"
        },
        "id": "v9rl9T2zddz9",
        "outputId": "9c38ec68-82ee-4ff8-c7fa-a4acd7e08417"
      },
      "execution_count": null,
      "outputs": [
        {
          "output_type": "execute_result",
          "data": {
            "text/plain": [
              "<keras.callbacks.History at 0x7fc927d7eac0>"
            ]
          },
          "metadata": {},
          "execution_count": 35
        }
      ]
    },
    {
      "cell_type": "code",
      "source": [
        "#lets create a model which build automatically by defining the input_shape argument in the first layer\n",
        "tf.random.set_seed(42)\n",
        "#model\n",
        "model = tf.keras.Sequential([\n",
        "    tf.keras.layers.Dense(10,input_shape=[1],name=\"input_layer\"),\n",
        "    tf.keras.layers.Dense(1,name=\"output_layer\")\n",
        "],name=\"Model\")\n",
        "\n",
        "#compile\n",
        "model.compile(loss=tf.keras.losses.mae,\n",
        "    optimizer=tf.keras.optimizers.legacy.Adam(learning_rate=0.01),\n",
        "    metrics=[\"mae\"]\n",
        ")"
      ],
      "metadata": {
        "id": "ulhMOuN-fmCx"
      },
      "execution_count": null,
      "outputs": []
    },
    {
      "cell_type": "code",
      "source": [
        "model.summary()"
      ],
      "metadata": {
        "colab": {
          "base_uri": "https://localhost:8080/"
        },
        "id": "ek5m-G4-hIgo",
        "outputId": "a3526b1a-00d8-4e6e-ee4e-258147a14fec"
      },
      "execution_count": null,
      "outputs": [
        {
          "output_type": "stream",
          "name": "stdout",
          "text": [
            "Model: \"Model\"\n",
            "_________________________________________________________________\n",
            " Layer (type)                Output Shape              Param #   \n",
            "=================================================================\n",
            " input_layer (Dense)         (None, 10)                20        \n",
            "                                                                 \n",
            " output_layer (Dense)        (None, 1)                 11        \n",
            "                                                                 \n",
            "=================================================================\n",
            "Total params: 31\n",
            "Trainable params: 31\n",
            "Non-trainable params: 0\n",
            "_________________________________________________________________\n"
          ]
        }
      ]
    },
    {
      "cell_type": "code",
      "source": [
        "model.fit(tf.expand_dims(X_train,axis=-1),Y_train,epochs=100,verbose=0)"
      ],
      "metadata": {
        "colab": {
          "base_uri": "https://localhost:8080/"
        },
        "id": "dvV5WJDVl6sE",
        "outputId": "82b702d8-ce92-4358-da03-b2d026ece6f8"
      },
      "execution_count": null,
      "outputs": [
        {
          "output_type": "execute_result",
          "data": {
            "text/plain": [
              "<keras.callbacks.History at 0x7fc927d7ea00>"
            ]
          },
          "metadata": {},
          "execution_count": 38
        }
      ]
    },
    {
      "cell_type": "code",
      "source": [
        "from tensorflow.keras.utils import plot_model"
      ],
      "metadata": {
        "id": "iDA_dp-dgC1v"
      },
      "execution_count": null,
      "outputs": []
    },
    {
      "cell_type": "code",
      "source": [
        "plot_model(model=model)"
      ],
      "metadata": {
        "colab": {
          "base_uri": "https://localhost:8080/",
          "height": 272
        },
        "id": "cbQQ9vScgLHb",
        "outputId": "48bdd647-617d-4440-fb2a-d6969c388992"
      },
      "execution_count": null,
      "outputs": [
        {
          "output_type": "execute_result",
          "data": {
            "image/png": "[encoded data removed]",
            "text/plain": [
              "<IPython.core.display.Image object>"
            ]
          },
          "metadata": {},
          "execution_count": 40
        }
      ]
    },
    {
      "cell_type": "code",
      "source": [
        "plot_model(model=model,show_shapes=True)"
      ],
      "metadata": {
        "colab": {
          "base_uri": "https://localhost:8080/",
          "height": 312
        },
        "id": "Uq2rA3C4gZ7m",
        "outputId": "ea49d914-9798-4101-f582-cc6766884ab5"
      },
      "execution_count": null,
      "outputs": [
        {
          "output_type": "execute_result",
          "data": {
            "image/png": "[encoded data removed]",
            "text/plain": [
              "<IPython.core.display.Image object>"
            ]
          },
          "metadata": {},
          "execution_count": 41
        }
      ]
    },
    {
      "cell_type": "code",
      "source": [
        "#visualize our model prediction\n",
        "y_pred = model.predict(X_test)\n",
        "y_pred"
      ],
      "metadata": {
        "colab": {
          "base_uri": "https://localhost:8080/"
        },
        "id": "68MhrG1ZhoQI",
        "outputId": "a1a59745-b978-470b-8897-79335a06daf4"
      },
      "execution_count": null,
      "outputs": [
        {
          "output_type": "stream",
          "name": "stdout",
          "text": [
            "1/1 [==============================] - 0s 63ms/step\n"
          ]
        },
        {
          "output_type": "execute_result",
          "data": {
            "text/plain": [
              "array([[ 69.932625],\n",
              "       [ 73.937126],\n",
              "       [ 77.94163 ],\n",
              "       [ 81.94612 ],\n",
              "       [ 85.95062 ],\n",
              "       [ 89.955124],\n",
              "       [ 93.959625],\n",
              "       [ 97.964134],\n",
              "       [101.96862 ],\n",
              "       [105.97313 ]], dtype=float32)"
            ]
          },
          "metadata": {},
          "execution_count": 42
        }
      ]
    },
    {
      "cell_type": "code",
      "source": [
        "Y_test"
      ],
      "metadata": {
        "colab": {
          "base_uri": "https://localhost:8080/"
        },
        "id": "CIz0iDJziJfx",
        "outputId": "82f3d41a-691c-4ebd-9cfb-c3897aaa1aa2"
      },
      "execution_count": null,
      "outputs": [
        {
          "output_type": "execute_result",
          "data": {
            "text/plain": [
              "<tf.Tensor: shape=(10,), dtype=int32, numpy=array([ 70,  74,  78,  82,  86,  90,  94,  98, 102, 106], dtype=int32)>"
            ]
          },
          "metadata": {},
          "execution_count": 43
        }
      ]
    },
    {
      "cell_type": "code",
      "source": [
        "#let's create a plotting function\n",
        "def plot_prediction(train_data=X_train,train_labels=Y_train,\n",
        "                    test_data=X_test,test_labels=Y_test,\n",
        "                    predictions=y_pred):\n",
        "  '''Plots training data test data and compares to ground truth labels'''\n",
        "  plt.figure(figsize=(10,7))\n",
        "\n",
        "  #plot training data in blue\n",
        "  plt.scatter(train_data,train_labels,c=\"b\",label=\"training data\")\n",
        "\n",
        "  #plot testing data in green\n",
        "  plt.scatter(test_data,test_labels,c=\"g\",label=\"Testing data\")\n",
        "\n",
        "  #plot model prediction\n",
        "  plt.scatter(test_data,predictions,c=\"r\",label=\"predictions\")\n",
        "\n",
        "  plt.legend()"
      ],
      "metadata": {
        "id": "OStK8RtEiNnU"
      },
      "execution_count": null,
      "outputs": []
    },
    {
      "cell_type": "code",
      "source": [
        "plot_prediction()"
      ],
      "metadata": {
        "colab": {
          "base_uri": "https://localhost:8080/",
          "height": 428
        },
        "id": "VRFkXK1PkTT5",
        "outputId": "28509124-a5d6-4a4d-88a1-74b17b091f69"
      },
      "execution_count": null,
      "outputs": [
        {
          "output_type": "display_data",
          "data": {
            "text/plain": [
              "<Figure size 720x504 with 1 Axes>"
            ],
            "image/png": "[encoded data removed]"
          },
          "metadata": {
            "needs_background": "light"
          }
        }
      ]
    },
    {
      "cell_type": "markdown",
      "source": [
        "# Evaluting our model's predictions with regression evaluation metrics\n",
        "\n",
        "Depending on the problem you're working on, there will be different evaluation metrics to evaluate your model's performance.\n",
        "\n",
        "Since we're working on a regression, two of the main metrics:\n",
        "\n",
        "* MAE - mean absolute error, \"on average, how\n",
        "wrong is each of my model's predictions\"\n",
        "* MSE - mean square error, \"square the average errors\""
      ],
      "metadata": {
        "id": "oR4TR83A2K58"
      }
    },
    {
      "cell_type": "code",
      "source": [
        "#evaluate the model on the test by default mae method\n",
        "model.evaluate(X_test,Y_test)"
      ],
      "metadata": {
        "colab": {
          "base_uri": "https://localhost:8080/"
        },
        "id": "jsx6pCWt2wI0",
        "outputId": "d28c3da9-d177-4cb2-a552-b9026fedc703"
      },
      "execution_count": null,
      "outputs": [
        {
          "output_type": "stream",
          "name": "stdout",
          "text": [
            "1/1 [==============================] - 0s 170ms/step - loss: 0.0471 - mae: 0.0471\n"
          ]
        },
        {
          "output_type": "execute_result",
          "data": {
            "text/plain": [
              "[0.04712371900677681, 0.04712371900677681]"
            ]
          },
          "metadata": {},
          "execution_count": 46
        }
      ]
    },
    {
      "cell_type": "code",
      "source": [
        "#calculate the mean absolute error\n",
        "mae=tf.metrics.mean_absolute_error(y_true=Y_test,y_pred=tf.squeeze(tf.constant(y_pred))) #here y_pred was not in same shape as Y_test so we converted the y_pred into a tensor and make it of same shape as Y_test with the squeeze function\n",
        "mae"
      ],
      "metadata": {
        "colab": {
          "base_uri": "https://localhost:8080/"
        },
        "id": "Z8rZIl-J7HNs",
        "outputId": "fa7d72d3-699d-4222-eed5-72af1fb4036a"
      },
      "execution_count": null,
      "outputs": [
        {
          "output_type": "execute_result",
          "data": {
            "text/plain": [
              "<tf.Tensor: shape=(), dtype=float32, numpy=0.047124483>"
            ]
          },
          "metadata": {},
          "execution_count": 47
        }
      ]
    },
    {
      "cell_type": "code",
      "source": [
        "#calculate the mean square error\n",
        "mse=tf.keras.losses.MSE(y_true=Y_test,y_pred=tf.squeeze(tf.constant(y_pred))) #here also y_pred was not in same shape as Y_test so we converted the y_pred into a tensor and make it of same shape as Y_test with the squeeze function\n",
        "mse"
      ],
      "metadata": {
        "colab": {
          "base_uri": "https://localhost:8080/"
        },
        "id": "sJY5C3Vz8Cyg",
        "outputId": "d8a44653-8f95-423a-9654-ad85f883c007"
      },
      "execution_count": null,
      "outputs": [
        {
          "output_type": "execute_result",
          "data": {
            "text/plain": [
              "<tf.Tensor: shape=(), dtype=float32, numpy=0.0023877998>"
            ]
          },
          "metadata": {},
          "execution_count": 48
        }
      ]
    },
    {
      "cell_type": "code",
      "source": [
        "#make some function to use mae and mse\n",
        "\n",
        "def MAE(Y_true,y_pred):\n",
        "  mae=tf.metrics.mean_absolute_error(y_true=Y_test,y_pred=tf.squeeze(tf.constant(y_pred)))\n",
        "  return mae;\n",
        "\n",
        "def MSE(Y_true,y_pred):\n",
        "  mse=tf.keras.losses.MSE(y_true=Y_test,y_pred=tf.squeeze(tf.constant(y_pred)))\n",
        "  return mse;"
      ],
      "metadata": {
        "id": "_BfEDHY_95g_"
      },
      "execution_count": null,
      "outputs": []
    },
    {
      "cell_type": "code",
      "source": [
        "MAE(Y_test,y_pred)"
      ],
      "metadata": {
        "colab": {
          "base_uri": "https://localhost:8080/"
        },
        "id": "C6Jw46Tg-hOZ",
        "outputId": "e67239f4-4211-4883-e2af-f1f6c063104a"
      },
      "execution_count": null,
      "outputs": [
        {
          "output_type": "execute_result",
          "data": {
            "text/plain": [
              "<tf.Tensor: shape=(), dtype=float32, numpy=0.047124483>"
            ]
          },
          "metadata": {},
          "execution_count": 50
        }
      ]
    },
    {
      "cell_type": "markdown",
      "source": [
        "**Runnig Experiment to improve the accuracy of our model**\n",
        "\n",
        "\n",
        "\n",
        "1.   Get more data - get more examples for your model to train on (more opportunities to learn patterns or relationships between features and labels).\n",
        "2.   Make your model larger (using a more complex model) - this might come in the form of more layers or more hidden units in each layer.\n",
        "3. Train for longer - give your model more of a chance to find patterns in the data.\n",
        "\n",
        "Let's do 3 modelling experiments:\n",
        "\n",
        "\n",
        "1.   model_1 - same as the original model, 1 layer, trained for 100 epochs\n",
        "2.   model_2 - 2 layers, trained for 100 epochs\n",
        "3. model_3 - 2 layers, trained for 500 epochs\n",
        "\n",
        "\n"
      ],
      "metadata": {
        "id": "tsCCUSV_-9cZ"
      }
    },
    {
      "cell_type": "code",
      "source": [
        "X_train,Y_train"
      ],
      "metadata": {
        "colab": {
          "base_uri": "https://localhost:8080/"
        },
        "id": "gQtB9nm9_9nM",
        "outputId": "7f85549a-5374-4ab5-9ccb-c113e97605fb"
      },
      "execution_count": null,
      "outputs": [
        {
          "output_type": "execute_result",
          "data": {
            "text/plain": [
              "(<tf.Tensor: shape=(40,), dtype=int32, numpy=\n",
              " array([-100,  -96,  -92,  -88,  -84,  -80,  -76,  -72,  -68,  -64,  -60,\n",
              "         -56,  -52,  -48,  -44,  -40,  -36,  -32,  -28,  -24,  -20,  -16,\n",
              "         -12,   -8,   -4,    0,    4,    8,   12,   16,   20,   24,   28,\n",
              "          32,   36,   40,   44,   48,   52,   56], dtype=int32)>,\n",
              " <tf.Tensor: shape=(40,), dtype=int32, numpy=\n",
              " array([-90, -86, -82, -78, -74, -70, -66, -62, -58, -54, -50, -46, -42,\n",
              "        -38, -34, -30, -26, -22, -18, -14, -10,  -6,  -2,   2,   6,  10,\n",
              "         14,  18,  22,  26,  30,  34,  38,  42,  46,  50,  54,  58,  62,\n",
              "         66], dtype=int32)>)"
            ]
          },
          "metadata": {},
          "execution_count": 51
        }
      ]
    },
    {
      "cell_type": "markdown",
      "source": [
        "**Model_1**"
      ],
      "metadata": {
        "id": "RPfg5V0Q_5VP"
      }
    },
    {
      "cell_type": "code",
      "source": [
        "# 1. Build a model\n",
        "model_1 = tf.keras.Sequential([\n",
        "    tf.keras.layers.Dense(1)\n",
        "])\n",
        "# 2.compile the model\n",
        "model_1.compile(loss=tf.keras.losses.mae,\n",
        "                optimizer=tf.keras.optimizers.legacy.Adam(learning_rate=0.01),\n",
        "                metrics=[\"mae\"])\n",
        "# 3.fit the model\n",
        "model_1.fit(tf.expand_dims(X_train,axis=-1),Y_train,epochs=100)"
      ],
      "metadata": {
        "colab": {
          "base_uri": "https://localhost:8080/"
        },
        "id": "QcisnJ8O__4R",
        "outputId": "8986a819-2774-4644-c47b-c1624ebffe1a"
      },
      "execution_count": null,
      "outputs": [
        {
          "output_type": "stream",
          "name": "stdout",
          "text": [
            "Epoch 1/100\n",
            "2/2 [==============================] - 1s 19ms/step - loss: 93.9665 - mae: 93.9665\n",
            "Epoch 2/100\n",
            "2/2 [==============================] - 0s 9ms/step - loss: 93.0892 - mae: 93.0892\n",
            "Epoch 3/100\n",
            "2/2 [==============================] - 0s 10ms/step - loss: 92.2423 - mae: 92.2423\n",
            "Epoch 4/100\n",
            "2/2 [==============================] - 0s 8ms/step - loss: 91.3814 - mae: 91.3814\n",
            "Epoch 5/100\n",
            "2/2 [==============================] - 0s 9ms/step - loss: 90.5363 - mae: 90.5363\n",
            "Epoch 6/100\n",
            "2/2 [==============================] - 0s 8ms/step - loss: 89.6835 - mae: 89.6835\n",
            "Epoch 7/100\n",
            "2/2 [==============================] - 0s 10ms/step - loss: 88.8234 - mae: 88.8234\n",
            "Epoch 8/100\n",
            "2/2 [==============================] - 0s 10ms/step - loss: 87.9307 - mae: 87.9307\n",
            "Epoch 9/100\n",
            "2/2 [==============================] - 0s 10ms/step - loss: 87.1022 - mae: 87.1022\n",
            "Epoch 10/100\n",
            "2/2 [==============================] - 0s 9ms/step - loss: 86.2642 - mae: 86.2642\n",
            "Epoch 11/100\n",
            "2/2 [==============================] - 0s 9ms/step - loss: 85.3685 - mae: 85.3685\n",
            "Epoch 12/100\n",
            "2/2 [==============================] - 0s 8ms/step - loss: 84.5192 - mae: 84.5192\n",
            "Epoch 13/100\n",
            "2/2 [==============================] - 0s 9ms/step - loss: 83.6329 - mae: 83.6329\n",
            "Epoch 14/100\n",
            "2/2 [==============================] - 0s 9ms/step - loss: 82.7798 - mae: 82.7798\n",
            "Epoch 15/100\n",
            "2/2 [==============================] - 0s 9ms/step - loss: 81.9313 - mae: 81.9313\n",
            "Epoch 16/100\n",
            "2/2 [==============================] - 0s 11ms/step - loss: 81.0449 - mae: 81.0449\n",
            "Epoch 17/100\n",
            "2/2 [==============================] - 0s 17ms/step - loss: 80.1789 - mae: 80.1789\n",
            "Epoch 18/100\n",
            "2/2 [==============================] - 0s 9ms/step - loss: 79.3177 - mae: 79.3177\n",
            "Epoch 19/100\n",
            "2/2 [==============================] - 0s 8ms/step - loss: 78.4748 - mae: 78.4748\n",
            "Epoch 20/100\n",
            "2/2 [==============================] - 0s 8ms/step - loss: 77.6013 - mae: 77.6013\n",
            "Epoch 21/100\n",
            "2/2 [==============================] - 0s 8ms/step - loss: 76.7443 - mae: 76.7443\n",
            "Epoch 22/100\n",
            "2/2 [==============================] - 0s 9ms/step - loss: 75.9209 - mae: 75.9209\n",
            "Epoch 23/100\n",
            "2/2 [==============================] - 0s 7ms/step - loss: 75.0698 - mae: 75.0698\n",
            "Epoch 24/100\n",
            "2/2 [==============================] - 0s 10ms/step - loss: 74.2096 - mae: 74.2096\n",
            "Epoch 25/100\n",
            "2/2 [==============================] - 0s 16ms/step - loss: 73.3660 - mae: 73.3660\n",
            "Epoch 26/100\n",
            "2/2 [==============================] - 0s 9ms/step - loss: 72.5390 - mae: 72.5390\n",
            "Epoch 27/100\n",
            "2/2 [==============================] - 0s 11ms/step - loss: 71.6696 - mae: 71.6696\n",
            "Epoch 28/100\n",
            "2/2 [==============================] - 0s 8ms/step - loss: 70.8409 - mae: 70.8409\n",
            "Epoch 29/100\n",
            "2/2 [==============================] - 0s 7ms/step - loss: 69.9396 - mae: 69.9396\n",
            "Epoch 30/100\n",
            "2/2 [==============================] - 0s 7ms/step - loss: 69.0574 - mae: 69.0574\n",
            "Epoch 31/100\n",
            "2/2 [==============================] - 0s 7ms/step - loss: 68.2348 - mae: 68.2348\n",
            "Epoch 32/100\n",
            "2/2 [==============================] - 0s 7ms/step - loss: 67.3403 - mae: 67.3403\n",
            "Epoch 33/100\n",
            "2/2 [==============================] - 0s 7ms/step - loss: 66.4611 - mae: 66.4611\n",
            "Epoch 34/100\n",
            "2/2 [==============================] - 0s 7ms/step - loss: 65.6088 - mae: 65.6088\n",
            "Epoch 35/100\n",
            "2/2 [==============================] - 0s 7ms/step - loss: 64.7254 - mae: 64.7254\n",
            "Epoch 36/100\n",
            "2/2 [==============================] - 0s 7ms/step - loss: 63.9072 - mae: 63.9072\n",
            "Epoch 37/100\n",
            "2/2 [==============================] - 0s 10ms/step - loss: 63.0444 - mae: 63.0444\n",
            "Epoch 38/100\n",
            "2/2 [==============================] - 0s 8ms/step - loss: 62.2082 - mae: 62.2082\n",
            "Epoch 39/100\n",
            "2/2 [==============================] - 0s 7ms/step - loss: 61.3771 - mae: 61.3771\n",
            "Epoch 40/100\n",
            "2/2 [==============================] - 0s 8ms/step - loss: 60.5511 - mae: 60.5511\n",
            "Epoch 41/100\n",
            "2/2 [==============================] - 0s 8ms/step - loss: 59.7180 - mae: 59.7180\n",
            "Epoch 42/100\n",
            "2/2 [==============================] - 0s 8ms/step - loss: 58.9089 - mae: 58.9089\n",
            "Epoch 43/100\n",
            "2/2 [==============================] - 0s 8ms/step - loss: 58.0378 - mae: 58.0378\n",
            "Epoch 44/100\n",
            "2/2 [==============================] - 0s 8ms/step - loss: 57.2404 - mae: 57.2404\n",
            "Epoch 45/100\n",
            "2/2 [==============================] - 0s 7ms/step - loss: 56.4045 - mae: 56.4045\n",
            "Epoch 46/100\n",
            "2/2 [==============================] - 0s 7ms/step - loss: 55.6069 - mae: 55.6069\n",
            "Epoch 47/100\n",
            "2/2 [==============================] - 0s 7ms/step - loss: 54.7567 - mae: 54.7567\n",
            "Epoch 48/100\n",
            "2/2 [==============================] - 0s 6ms/step - loss: 53.9593 - mae: 53.9593\n",
            "Epoch 49/100\n",
            "2/2 [==============================] - 0s 7ms/step - loss: 53.1569 - mae: 53.1569\n",
            "Epoch 50/100\n",
            "2/2 [==============================] - 0s 7ms/step - loss: 52.3697 - mae: 52.3697\n",
            "Epoch 51/100\n",
            "2/2 [==============================] - 0s 7ms/step - loss: 51.5320 - mae: 51.5320\n",
            "Epoch 52/100\n",
            "2/2 [==============================] - 0s 7ms/step - loss: 50.7481 - mae: 50.7481\n",
            "Epoch 53/100\n",
            "2/2 [==============================] - 0s 7ms/step - loss: 49.9003 - mae: 49.9003\n",
            "Epoch 54/100\n",
            "2/2 [==============================] - 0s 6ms/step - loss: 49.0668 - mae: 49.0668\n",
            "Epoch 55/100\n",
            "2/2 [==============================] - 0s 9ms/step - loss: 48.2502 - mae: 48.2502\n",
            "Epoch 56/100\n",
            "2/2 [==============================] - 0s 6ms/step - loss: 47.3831 - mae: 47.3831\n",
            "Epoch 57/100\n",
            "2/2 [==============================] - 0s 7ms/step - loss: 46.5533 - mae: 46.5533\n",
            "Epoch 58/100\n",
            "2/2 [==============================] - 0s 6ms/step - loss: 45.7084 - mae: 45.7084\n",
            "Epoch 59/100\n",
            "2/2 [==============================] - 0s 7ms/step - loss: 44.8810 - mae: 44.8810\n",
            "Epoch 60/100\n",
            "2/2 [==============================] - 0s 9ms/step - loss: 44.0566 - mae: 44.0566\n",
            "Epoch 61/100\n",
            "2/2 [==============================] - 0s 7ms/step - loss: 43.2376 - mae: 43.2376\n",
            "Epoch 62/100\n",
            "2/2 [==============================] - 0s 7ms/step - loss: 42.4266 - mae: 42.4266\n",
            "Epoch 63/100\n",
            "2/2 [==============================] - 0s 7ms/step - loss: 41.6065 - mae: 41.6065\n",
            "Epoch 64/100\n",
            "2/2 [==============================] - 0s 7ms/step - loss: 40.7848 - mae: 40.7848\n",
            "Epoch 65/100\n",
            "2/2 [==============================] - 0s 7ms/step - loss: 39.9602 - mae: 39.9602\n",
            "Epoch 66/100\n",
            "2/2 [==============================] - 0s 7ms/step - loss: 39.1386 - mae: 39.1386\n",
            "Epoch 67/100\n",
            "2/2 [==============================] - 0s 7ms/step - loss: 38.3194 - mae: 38.3194\n",
            "Epoch 68/100\n",
            "2/2 [==============================] - 0s 7ms/step - loss: 37.4871 - mae: 37.4871\n",
            "Epoch 69/100\n",
            "2/2 [==============================] - 0s 7ms/step - loss: 36.6771 - mae: 36.6771\n",
            "Epoch 70/100\n",
            "2/2 [==============================] - 0s 7ms/step - loss: 35.8538 - mae: 35.8538\n",
            "Epoch 71/100\n",
            "2/2 [==============================] - 0s 7ms/step - loss: 35.0472 - mae: 35.0472\n",
            "Epoch 72/100\n",
            "2/2 [==============================] - 0s 6ms/step - loss: 34.2485 - mae: 34.2485\n",
            "Epoch 73/100\n",
            "2/2 [==============================] - 0s 7ms/step - loss: 33.4088 - mae: 33.4088\n",
            "Epoch 74/100\n",
            "2/2 [==============================] - 0s 7ms/step - loss: 32.6392 - mae: 32.6392\n",
            "Epoch 75/100\n",
            "2/2 [==============================] - 0s 7ms/step - loss: 31.7948 - mae: 31.7948\n",
            "Epoch 76/100\n",
            "2/2 [==============================] - 0s 7ms/step - loss: 30.9840 - mae: 30.9840\n",
            "Epoch 77/100\n",
            "2/2 [==============================] - 0s 7ms/step - loss: 30.1675 - mae: 30.1675\n",
            "Epoch 78/100\n",
            "2/2 [==============================] - 0s 7ms/step - loss: 29.3293 - mae: 29.3293\n",
            "Epoch 79/100\n",
            "2/2 [==============================] - 0s 7ms/step - loss: 28.4909 - mae: 28.4909\n",
            "Epoch 80/100\n",
            "2/2 [==============================] - 0s 7ms/step - loss: 27.6899 - mae: 27.6899\n",
            "Epoch 81/100\n",
            "2/2 [==============================] - 0s 7ms/step - loss: 26.9197 - mae: 26.9197\n",
            "Epoch 82/100\n",
            "2/2 [==============================] - 0s 6ms/step - loss: 26.0789 - mae: 26.0789\n",
            "Epoch 83/100\n",
            "2/2 [==============================] - 0s 8ms/step - loss: 25.3231 - mae: 25.3231\n",
            "Epoch 84/100\n",
            "2/2 [==============================] - 0s 7ms/step - loss: 24.5142 - mae: 24.5142\n",
            "Epoch 85/100\n",
            "2/2 [==============================] - 0s 7ms/step - loss: 23.7764 - mae: 23.7764\n",
            "Epoch 86/100\n",
            "2/2 [==============================] - 0s 11ms/step - loss: 23.0083 - mae: 23.0083\n",
            "Epoch 87/100\n",
            "2/2 [==============================] - 0s 7ms/step - loss: 22.2125 - mae: 22.2125\n",
            "Epoch 88/100\n",
            "2/2 [==============================] - 0s 11ms/step - loss: 21.4686 - mae: 21.4686\n",
            "Epoch 89/100\n",
            "2/2 [==============================] - 0s 7ms/step - loss: 20.6801 - mae: 20.6801\n",
            "Epoch 90/100\n",
            "2/2 [==============================] - 0s 8ms/step - loss: 19.9250 - mae: 19.9250\n",
            "Epoch 91/100\n",
            "2/2 [==============================] - 0s 7ms/step - loss: 19.1383 - mae: 19.1383\n",
            "Epoch 92/100\n",
            "2/2 [==============================] - 0s 7ms/step - loss: 18.3926 - mae: 18.3926\n",
            "Epoch 93/100\n",
            "2/2 [==============================] - 0s 6ms/step - loss: 17.6398 - mae: 17.6398\n",
            "Epoch 94/100\n",
            "2/2 [==============================] - 0s 7ms/step - loss: 16.8812 - mae: 16.8812\n",
            "Epoch 95/100\n",
            "2/2 [==============================] - 0s 7ms/step - loss: 16.1594 - mae: 16.1594\n",
            "Epoch 96/100\n",
            "2/2 [==============================] - 0s 10ms/step - loss: 15.4141 - mae: 15.4141\n",
            "Epoch 97/100\n",
            "2/2 [==============================] - 0s 7ms/step - loss: 14.7567 - mae: 14.7567\n",
            "Epoch 98/100\n",
            "2/2 [==============================] - 0s 7ms/step - loss: 14.0402 - mae: 14.0402\n",
            "Epoch 99/100\n",
            "2/2 [==============================] - 0s 7ms/step - loss: 13.3551 - mae: 13.3551\n",
            "Epoch 100/100\n",
            "2/2 [==============================] - 0s 6ms/step - loss: 12.7276 - mae: 12.7276\n"
          ]
        },
        {
          "output_type": "execute_result",
          "data": {
            "text/plain": [
              "<keras.callbacks.History at 0x7fc9253aa520>"
            ]
          },
          "metadata": {},
          "execution_count": 52
        }
      ]
    },
    {
      "cell_type": "code",
      "source": [
        "# make and plot predictions for model_1\n",
        "y_pred_1 = model_1.predict(X_test)\n",
        "plot_prediction(predictions=y_pred_1)"
      ],
      "metadata": {
        "colab": {
          "base_uri": "https://localhost:8080/",
          "height": 484
        },
        "id": "GqlQ7WbSB8GB",
        "outputId": "3fe1b3c1-340b-4c54-c10b-d192bf998c47"
      },
      "execution_count": null,
      "outputs": [
        {
          "output_type": "stream",
          "name": "stderr",
          "text": [
            "WARNING:tensorflow:5 out of the last 5 calls to <function Model.make_predict_function.<locals>.predict_function at 0x7fc93b547a60> triggered tf.function retracing. Tracing is expensive and the excessive number of tracings could be due to (1) creating @tf.function repeatedly in a loop, (2) passing tensors with different shapes, (3) passing Python objects instead of tensors. For (1), please define your @tf.function outside of the loop. For (2), @tf.function has reduce_retracing=True option that can avoid unnecessary retracing. For (3), please refer to https://www.tensorflow.org/guide/function#controlling_retracing and https://www.tensorflow.org/api_docs/python/tf/function for  more details.\n"
          ]
        },
        {
          "output_type": "stream",
          "name": "stdout",
          "text": [
            "1/1 [==============================] - 0s 99ms/step\n"
          ]
        },
        {
          "output_type": "display_data",
          "data": {
            "text/plain": [
              "<Figure size 720x504 with 1 Axes>"
            ],
            "image/png": "[encoded data removed]"
          },
          "metadata": {
            "needs_background": "light"
          }
        }
      ]
    },
    {
      "cell_type": "code",
      "source": [
        "#calculate model_1 evaluation mwtrics\n",
        "mae_1 = MAE(Y_test,y_pred_1)\n",
        "mse_1 = MSE(Y_test,y_pred_1)\n",
        "mae_1,mse_1"
      ],
      "metadata": {
        "colab": {
          "base_uri": "https://localhost:8080/"
        },
        "id": "mJqE3YPPCdPM",
        "outputId": "3edf48b3-dcbf-43e3-bac5-7cc46f4ca452"
      },
      "execution_count": null,
      "outputs": [
        {
          "output_type": "execute_result",
          "data": {
            "text/plain": [
              "(<tf.Tensor: shape=(), dtype=float32, numpy=33.879948>,\n",
              " <tf.Tensor: shape=(), dtype=float32, numpy=1159.2399>)"
            ]
          },
          "metadata": {},
          "execution_count": 54
        }
      ]
    },
    {
      "cell_type": "markdown",
      "source": [
        "**Model 2**"
      ],
      "metadata": {
        "id": "4aRJN6hfDB1m"
      }
    },
    {
      "cell_type": "code",
      "source": [
        "# model 2\n",
        "model_2 = tf.keras.Sequential([\n",
        "    # tf.keras.layers.Dense(100,activation=\"relu\"),\n",
        "    # tf.keras.layers.Dense(100,activation=\"relu\"),\n",
        "    tf.keras.layers.Dense(100,activation=None),\n",
        "    tf.keras.layers.Dense(1)\n",
        "])\n",
        "\n",
        "# compile the model\n",
        "model_2.compile(loss=tf.keras.losses.mae,\n",
        "                optimizer=tf.keras.optimizers.legacy.Adam(learning_rate=0.01),\n",
        "                metrics=[\"mae\"])\n",
        "\n",
        "#fit the model\n",
        "model_2.fit(tf.expand_dims(X_train,axis=-1),Y_train,epochs=100)"
      ],
      "metadata": {
        "id": "-N7kCMziDF2X",
        "colab": {
          "base_uri": "https://localhost:8080/"
        },
        "outputId": "9643efe7-3d4c-4f9d-d117-839e8a09591d"
      },
      "execution_count": null,
      "outputs": [
        {
          "output_type": "stream",
          "name": "stdout",
          "text": [
            "Epoch 1/100\n",
            "2/2 [==============================] - 1s 11ms/step - loss: 35.1564 - mae: 35.1564\n",
            "Epoch 2/100\n",
            "2/2 [==============================] - 0s 13ms/step - loss: 15.0473 - mae: 15.0473\n",
            "Epoch 3/100\n",
            "2/2 [==============================] - 0s 11ms/step - loss: 10.8153 - mae: 10.8153\n",
            "Epoch 4/100\n",
            "2/2 [==============================] - 0s 8ms/step - loss: 13.2735 - mae: 13.2735\n",
            "Epoch 5/100\n",
            "2/2 [==============================] - 0s 10ms/step - loss: 12.4522 - mae: 12.4522\n",
            "Epoch 6/100\n",
            "2/2 [==============================] - 0s 11ms/step - loss: 9.5706 - mae: 9.5706\n",
            "Epoch 7/100\n",
            "2/2 [==============================] - 0s 10ms/step - loss: 7.2185 - mae: 7.2185\n",
            "Epoch 8/100\n",
            "2/2 [==============================] - 0s 8ms/step - loss: 9.3499 - mae: 9.3499\n",
            "Epoch 9/100\n",
            "2/2 [==============================] - 0s 9ms/step - loss: 7.0643 - mae: 7.0643\n",
            "Epoch 10/100\n",
            "2/2 [==============================] - 0s 8ms/step - loss: 8.0245 - mae: 8.0245\n",
            "Epoch 11/100\n",
            "2/2 [==============================] - 0s 9ms/step - loss: 9.1692 - mae: 9.1692\n",
            "Epoch 12/100\n",
            "2/2 [==============================] - 0s 12ms/step - loss: 7.9734 - mae: 7.9734\n",
            "Epoch 13/100\n",
            "2/2 [==============================] - 0s 11ms/step - loss: 6.6897 - mae: 6.6897\n",
            "Epoch 14/100\n",
            "2/2 [==============================] - 0s 10ms/step - loss: 7.1791 - mae: 7.1791\n",
            "Epoch 15/100\n",
            "2/2 [==============================] - 0s 8ms/step - loss: 5.6956 - mae: 5.6956\n",
            "Epoch 16/100\n",
            "2/2 [==============================] - 0s 9ms/step - loss: 6.7966 - mae: 6.7966\n",
            "Epoch 17/100\n",
            "2/2 [==============================] - 0s 11ms/step - loss: 6.5450 - mae: 6.5450\n",
            "Epoch 18/100\n",
            "2/2 [==============================] - 0s 8ms/step - loss: 5.0682 - mae: 5.0682\n",
            "Epoch 19/100\n",
            "2/2 [==============================] - 0s 8ms/step - loss: 5.2461 - mae: 5.2461\n",
            "Epoch 20/100\n",
            "2/2 [==============================] - 0s 7ms/step - loss: 4.7391 - mae: 4.7391\n",
            "Epoch 21/100\n",
            "2/2 [==============================] - 0s 8ms/step - loss: 4.5477 - mae: 4.5477\n",
            "Epoch 22/100\n",
            "2/2 [==============================] - 0s 7ms/step - loss: 4.4217 - mae: 4.4217\n",
            "Epoch 23/100\n",
            "2/2 [==============================] - 0s 10ms/step - loss: 4.3143 - mae: 4.3143\n",
            "Epoch 24/100\n",
            "2/2 [==============================] - 0s 8ms/step - loss: 3.9961 - mae: 3.9961\n",
            "Epoch 25/100\n",
            "2/2 [==============================] - 0s 7ms/step - loss: 3.6835 - mae: 3.6835\n",
            "Epoch 26/100\n",
            "2/2 [==============================] - 0s 8ms/step - loss: 3.3687 - mae: 3.3687\n",
            "Epoch 27/100\n",
            "2/2 [==============================] - 0s 8ms/step - loss: 3.1379 - mae: 3.1379\n",
            "Epoch 28/100\n",
            "2/2 [==============================] - 0s 7ms/step - loss: 2.8188 - mae: 2.8188\n",
            "Epoch 29/100\n",
            "2/2 [==============================] - 0s 8ms/step - loss: 2.6039 - mae: 2.6039\n",
            "Epoch 30/100\n",
            "2/2 [==============================] - 0s 8ms/step - loss: 2.3843 - mae: 2.3843\n",
            "Epoch 31/100\n",
            "2/2 [==============================] - 0s 7ms/step - loss: 3.0873 - mae: 3.0873\n",
            "Epoch 32/100\n",
            "2/2 [==============================] - 0s 9ms/step - loss: 3.4900 - mae: 3.4900\n",
            "Epoch 33/100\n",
            "2/2 [==============================] - 0s 8ms/step - loss: 1.8574 - mae: 1.8574\n",
            "Epoch 34/100\n",
            "2/2 [==============================] - 0s 8ms/step - loss: 2.0562 - mae: 2.0562\n",
            "Epoch 35/100\n",
            "2/2 [==============================] - 0s 9ms/step - loss: 2.0651 - mae: 2.0651\n",
            "Epoch 36/100\n",
            "2/2 [==============================] - 0s 11ms/step - loss: 0.5832 - mae: 0.5832\n",
            "Epoch 37/100\n",
            "2/2 [==============================] - 0s 8ms/step - loss: 0.9514 - mae: 0.9514\n",
            "Epoch 38/100\n",
            "2/2 [==============================] - 0s 9ms/step - loss: 1.2958 - mae: 1.2958\n",
            "Epoch 39/100\n",
            "2/2 [==============================] - 0s 7ms/step - loss: 0.4774 - mae: 0.4774\n",
            "Epoch 40/100\n",
            "2/2 [==============================] - 0s 7ms/step - loss: 0.5938 - mae: 0.5938\n",
            "Epoch 41/100\n",
            "2/2 [==============================] - 0s 9ms/step - loss: 1.2011 - mae: 1.2011\n",
            "Epoch 42/100\n",
            "2/2 [==============================] - 0s 8ms/step - loss: 1.2012 - mae: 1.2012\n",
            "Epoch 43/100\n",
            "2/2 [==============================] - 0s 8ms/step - loss: 0.2063 - mae: 0.2063\n",
            "Epoch 44/100\n",
            "2/2 [==============================] - 0s 7ms/step - loss: 1.8546 - mae: 1.8546\n",
            "Epoch 45/100\n",
            "2/2 [==============================] - 0s 8ms/step - loss: 0.7717 - mae: 0.7717\n",
            "Epoch 46/100\n",
            "2/2 [==============================] - 0s 7ms/step - loss: 3.1375 - mae: 3.1375\n",
            "Epoch 47/100\n",
            "2/2 [==============================] - 0s 8ms/step - loss: 0.9142 - mae: 0.9142\n",
            "Epoch 48/100\n",
            "2/2 [==============================] - 0s 8ms/step - loss: 3.9342 - mae: 3.9342\n",
            "Epoch 49/100\n",
            "2/2 [==============================] - 0s 9ms/step - loss: 1.8370 - mae: 1.8370\n",
            "Epoch 50/100\n",
            "2/2 [==============================] - 0s 8ms/step - loss: 2.2982 - mae: 2.2982\n",
            "Epoch 51/100\n",
            "2/2 [==============================] - 0s 6ms/step - loss: 0.9981 - mae: 0.9981\n",
            "Epoch 52/100\n",
            "2/2 [==============================] - 0s 6ms/step - loss: 1.7283 - mae: 1.7283\n",
            "Epoch 53/100\n",
            "2/2 [==============================] - 0s 11ms/step - loss: 2.3575 - mae: 2.3575\n",
            "Epoch 54/100\n",
            "2/2 [==============================] - 0s 6ms/step - loss: 1.7180 - mae: 1.7180\n",
            "Epoch 55/100\n",
            "2/2 [==============================] - 0s 8ms/step - loss: 3.1325 - mae: 3.1325\n",
            "Epoch 56/100\n",
            "2/2 [==============================] - 0s 9ms/step - loss: 3.7568 - mae: 3.7568\n",
            "Epoch 57/100\n",
            "2/2 [==============================] - 0s 8ms/step - loss: 0.4987 - mae: 0.4987\n",
            "Epoch 58/100\n",
            "2/2 [==============================] - 0s 11ms/step - loss: 1.6615 - mae: 1.6615\n",
            "Epoch 59/100\n",
            "2/2 [==============================] - 0s 9ms/step - loss: 1.5235 - mae: 1.5235\n",
            "Epoch 60/100\n",
            "2/2 [==============================] - 0s 9ms/step - loss: 1.1103 - mae: 1.1103\n",
            "Epoch 61/100\n",
            "2/2 [==============================] - 0s 7ms/step - loss: 1.2030 - mae: 1.2030\n",
            "Epoch 62/100\n",
            "2/2 [==============================] - 0s 8ms/step - loss: 1.6538 - mae: 1.6538\n",
            "Epoch 63/100\n",
            "2/2 [==============================] - 0s 8ms/step - loss: 1.1974 - mae: 1.1974\n",
            "Epoch 64/100\n",
            "2/2 [==============================] - 0s 8ms/step - loss: 1.0410 - mae: 1.0410\n",
            "Epoch 65/100\n",
            "2/2 [==============================] - 0s 10ms/step - loss: 1.8417 - mae: 1.8417\n",
            "Epoch 66/100\n",
            "2/2 [==============================] - 0s 8ms/step - loss: 1.2782 - mae: 1.2782\n",
            "Epoch 67/100\n",
            "2/2 [==============================] - 0s 7ms/step - loss: 0.8853 - mae: 0.8853\n",
            "Epoch 68/100\n",
            "2/2 [==============================] - 0s 8ms/step - loss: 1.8311 - mae: 1.8311\n",
            "Epoch 69/100\n",
            "2/2 [==============================] - 0s 8ms/step - loss: 1.2790 - mae: 1.2790\n",
            "Epoch 70/100\n",
            "2/2 [==============================] - 0s 7ms/step - loss: 1.4932 - mae: 1.4932\n",
            "Epoch 71/100\n",
            "2/2 [==============================] - 0s 8ms/step - loss: 0.5438 - mae: 0.5438\n",
            "Epoch 72/100\n",
            "2/2 [==============================] - 0s 8ms/step - loss: 0.2300 - mae: 0.2300\n",
            "Epoch 73/100\n",
            "2/2 [==============================] - 0s 7ms/step - loss: 0.6984 - mae: 0.6984\n",
            "Epoch 74/100\n",
            "2/2 [==============================] - 0s 8ms/step - loss: 1.6380 - mae: 1.6380\n",
            "Epoch 75/100\n",
            "2/2 [==============================] - 0s 7ms/step - loss: 1.2136 - mae: 1.2136\n",
            "Epoch 76/100\n",
            "2/2 [==============================] - 0s 9ms/step - loss: 0.4948 - mae: 0.4948\n",
            "Epoch 77/100\n",
            "2/2 [==============================] - 0s 8ms/step - loss: 0.3618 - mae: 0.3618\n",
            "Epoch 78/100\n",
            "2/2 [==============================] - 0s 7ms/step - loss: 1.1346 - mae: 1.1346\n",
            "Epoch 79/100\n",
            "2/2 [==============================] - 0s 8ms/step - loss: 2.3672 - mae: 2.3672\n",
            "Epoch 80/100\n",
            "2/2 [==============================] - 0s 6ms/step - loss: 2.1477 - mae: 2.1477\n",
            "Epoch 81/100\n",
            "2/2 [==============================] - 0s 8ms/step - loss: 2.0834 - mae: 2.0834\n",
            "Epoch 82/100\n",
            "2/2 [==============================] - 0s 8ms/step - loss: 3.6366 - mae: 3.6366\n",
            "Epoch 83/100\n",
            "2/2 [==============================] - 0s 7ms/step - loss: 1.6091 - mae: 1.6091\n",
            "Epoch 84/100\n",
            "2/2 [==============================] - 0s 7ms/step - loss: 2.6942 - mae: 2.6942\n",
            "Epoch 85/100\n",
            "2/2 [==============================] - 0s 9ms/step - loss: 1.5634 - mae: 1.5634\n",
            "Epoch 86/100\n",
            "2/2 [==============================] - 0s 7ms/step - loss: 1.1552 - mae: 1.1552\n",
            "Epoch 87/100\n",
            "2/2 [==============================] - 0s 7ms/step - loss: 0.3552 - mae: 0.3552\n",
            "Epoch 88/100\n",
            "2/2 [==============================] - 0s 8ms/step - loss: 0.4469 - mae: 0.4469\n",
            "Epoch 89/100\n",
            "2/2 [==============================] - 0s 7ms/step - loss: 0.8797 - mae: 0.8797\n",
            "Epoch 90/100\n",
            "2/2 [==============================] - 0s 7ms/step - loss: 0.4803 - mae: 0.4803\n",
            "Epoch 91/100\n",
            "2/2 [==============================] - 0s 12ms/step - loss: 0.4654 - mae: 0.4654\n",
            "Epoch 92/100\n",
            "2/2 [==============================] - 0s 10ms/step - loss: 1.1126 - mae: 1.1126\n",
            "Epoch 93/100\n",
            "2/2 [==============================] - 0s 10ms/step - loss: 0.5812 - mae: 0.5812\n",
            "Epoch 94/100\n",
            "2/2 [==============================] - 0s 11ms/step - loss: 1.7530 - mae: 1.7530\n",
            "Epoch 95/100\n",
            "2/2 [==============================] - 0s 9ms/step - loss: 0.6208 - mae: 0.6208\n",
            "Epoch 96/100\n",
            "2/2 [==============================] - 0s 8ms/step - loss: 0.6296 - mae: 0.6296\n",
            "Epoch 97/100\n",
            "2/2 [==============================] - 0s 7ms/step - loss: 0.9345 - mae: 0.9345\n",
            "Epoch 98/100\n",
            "2/2 [==============================] - 0s 9ms/step - loss: 1.8144 - mae: 1.8144\n",
            "Epoch 99/100\n",
            "2/2 [==============================] - 0s 7ms/step - loss: 1.3121 - mae: 1.3121\n",
            "Epoch 100/100\n",
            "2/2 [==============================] - 0s 7ms/step - loss: 2.7866 - mae: 2.7866\n"
          ]
        },
        {
          "output_type": "execute_result",
          "data": {
            "text/plain": [
              "<keras.callbacks.History at 0x7fc93b4346d0>"
            ]
          },
          "metadata": {},
          "execution_count": 55
        }
      ]
    },
    {
      "cell_type": "code",
      "source": [
        "# make and plot predictions for model_2\n",
        "y_pred_2 = model_2.predict(X_test)\n",
        "plot_prediction(predictions=y_pred_2)"
      ],
      "metadata": {
        "colab": {
          "base_uri": "https://localhost:8080/",
          "height": 484
        },
        "id": "ekWkoDAED0RM",
        "outputId": "0a79c62d-a069-407c-c8ae-9a5477f753a3"
      },
      "execution_count": null,
      "outputs": [
        {
          "output_type": "stream",
          "name": "stderr",
          "text": [
            "WARNING:tensorflow:6 out of the last 6 calls to <function Model.make_predict_function.<locals>.predict_function at 0x7fc93b3d30d0> triggered tf.function retracing. Tracing is expensive and the excessive number of tracings could be due to (1) creating @tf.function repeatedly in a loop, (2) passing tensors with different shapes, (3) passing Python objects instead of tensors. For (1), please define your @tf.function outside of the loop. For (2), @tf.function has reduce_retracing=True option that can avoid unnecessary retracing. For (3), please refer to https://www.tensorflow.org/guide/function#controlling_retracing and https://www.tensorflow.org/api_docs/python/tf/function for  more details.\n"
          ]
        },
        {
          "output_type": "stream",
          "name": "stdout",
          "text": [
            "1/1 [==============================] - 0s 56ms/step\n"
          ]
        },
        {
          "output_type": "display_data",
          "data": {
            "text/plain": [
              "<Figure size 720x504 with 1 Axes>"
            ],
            "image/png": "[encoded data removed]"
          },
          "metadata": {
            "needs_background": "light"
          }
        }
      ]
    },
    {
      "cell_type": "code",
      "source": [
        "#calculate model_2 evaluation metrics\n",
        "mae_2 = MAE(Y_test,y_pred_2)\n",
        "mse_2 = MSE(Y_test,y_pred_2)\n",
        "mae_2,mse_2"
      ],
      "metadata": {
        "colab": {
          "base_uri": "https://localhost:8080/"
        },
        "id": "L0dtTDkEEE4e",
        "outputId": "360003b6-a456-452f-be9c-b9a3b6fe89fd"
      },
      "execution_count": null,
      "outputs": [
        {
          "output_type": "execute_result",
          "data": {
            "text/plain": [
              "(<tf.Tensor: shape=(), dtype=float32, numpy=6.9017744>,\n",
              " <tf.Tensor: shape=(), dtype=float32, numpy=48.692383>)"
            ]
          },
          "metadata": {},
          "execution_count": 57
        }
      ]
    },
    {
      "cell_type": "code",
      "source": [
        "#model 3\n",
        "model_3 = tf.keras.Sequential([\n",
        "    # tf.keras.layers.Dense(100,activation=\"relu\"),\n",
        "    # tf.keras.layers.Dense(100,activation=\"relu\"),\n",
        "    # tf.keras.layers.Dense(100,activation=\"relu\"),\n",
        "    # tf.keras.layers.Dense(100,activation=\"relu\"),\n",
        "    tf.keras.layers.Dense(100,activation=None),\n",
        "    tf.keras.layers.Dense(1)\n",
        "])\n",
        "\n",
        "#compile the model\n",
        "model_3.compile(loss=tf.keras.losses.mae,\n",
        "    optimizer=tf.keras.optimizers.legacy.Adam(learning_rate=0.1),\n",
        "    metrics=[\"mae\"]\n",
        ")\n",
        "\n",
        "#fit the model\n",
        "model_3.fit(tf.expand_dims(X_train,axis=-1),Y_train,epochs=500)"
      ],
      "metadata": {
        "colab": {
          "base_uri": "https://localhost:8080/"
        },
        "id": "HyO5e3P6Es-s",
        "outputId": "fbdc4ff7-d724-4ab8-95c7-1e109c66326c"
      },
      "execution_count": null,
      "outputs": [
        {
          "output_type": "stream",
          "name": "stdout",
          "text": [
            "Epoch 1/500\n",
            "2/2 [==============================] - 0s 8ms/step - loss: 37.1909 - mae: 37.1909\n",
            "Epoch 2/500\n",
            "2/2 [==============================] - 0s 7ms/step - loss: 42.1684 - mae: 42.1684\n",
            "Epoch 3/500\n",
            "2/2 [==============================] - 0s 7ms/step - loss: 19.8384 - mae: 19.8384\n",
            "Epoch 4/500\n",
            "2/2 [==============================] - 0s 7ms/step - loss: 20.4966 - mae: 20.4966\n",
            "Epoch 5/500\n",
            "2/2 [==============================] - 0s 7ms/step - loss: 10.0541 - mae: 10.0541\n",
            "Epoch 6/500\n",
            "2/2 [==============================] - 0s 7ms/step - loss: 25.5747 - mae: 25.5747\n",
            "Epoch 7/500\n",
            "2/2 [==============================] - 0s 7ms/step - loss: 12.8091 - mae: 12.8091\n",
            "Epoch 8/500\n",
            "2/2 [==============================] - 0s 7ms/step - loss: 10.1610 - mae: 10.1610\n",
            "Epoch 9/500\n",
            "2/2 [==============================] - 0s 7ms/step - loss: 8.0516 - mae: 8.0516\n",
            "Epoch 10/500\n",
            "2/2 [==============================] - 0s 7ms/step - loss: 9.0182 - mae: 9.0182\n",
            "Epoch 11/500\n",
            "2/2 [==============================] - 0s 8ms/step - loss: 10.5239 - mae: 10.5239\n",
            "Epoch 12/500\n",
            "2/2 [==============================] - 0s 7ms/step - loss: 4.6724 - mae: 4.6724\n",
            "Epoch 13/500\n",
            "2/2 [==============================] - 0s 9ms/step - loss: 11.2289 - mae: 11.2289\n",
            "Epoch 14/500\n",
            "2/2 [==============================] - 0s 9ms/step - loss: 2.7565 - mae: 2.7565\n",
            "Epoch 15/500\n",
            "2/2 [==============================] - 0s 10ms/step - loss: 2.6393 - mae: 2.6393\n",
            "Epoch 16/500\n",
            "2/2 [==============================] - 0s 7ms/step - loss: 9.5680 - mae: 9.5680\n",
            "Epoch 17/500\n",
            "2/2 [==============================] - 0s 7ms/step - loss: 3.9403 - mae: 3.9403\n",
            "Epoch 18/500\n",
            "2/2 [==============================] - 0s 7ms/step - loss: 9.7571 - mae: 9.7571\n",
            "Epoch 19/500\n",
            "2/2 [==============================] - 0s 7ms/step - loss: 3.1809 - mae: 3.1809\n",
            "Epoch 20/500\n",
            "2/2 [==============================] - 0s 7ms/step - loss: 3.6867 - mae: 3.6867\n",
            "Epoch 21/500\n",
            "2/2 [==============================] - 0s 7ms/step - loss: 2.3888 - mae: 2.3888\n",
            "Epoch 22/500\n",
            "2/2 [==============================] - 0s 9ms/step - loss: 1.0390 - mae: 1.0390\n",
            "Epoch 23/500\n",
            "2/2 [==============================] - 0s 8ms/step - loss: 3.5582 - mae: 3.5582\n",
            "Epoch 24/500\n",
            "2/2 [==============================] - 0s 8ms/step - loss: 1.6681 - mae: 1.6681\n",
            "Epoch 25/500\n",
            "2/2 [==============================] - 0s 8ms/step - loss: 0.6997 - mae: 0.6997\n",
            "Epoch 26/500\n",
            "2/2 [==============================] - 0s 7ms/step - loss: 1.3783 - mae: 1.3783\n",
            "Epoch 27/500\n",
            "2/2 [==============================] - 0s 14ms/step - loss: 4.9055 - mae: 4.9055\n",
            "Epoch 28/500\n",
            "2/2 [==============================] - 0s 9ms/step - loss: 1.7496 - mae: 1.7496\n",
            "Epoch 29/500\n",
            "2/2 [==============================] - 0s 11ms/step - loss: 10.1821 - mae: 10.1821\n",
            "Epoch 30/500\n",
            "2/2 [==============================] - 0s 8ms/step - loss: 4.4107 - mae: 4.4107\n",
            "Epoch 31/500\n",
            "2/2 [==============================] - 0s 8ms/step - loss: 1.6473 - mae: 1.6473\n",
            "Epoch 32/500\n",
            "2/2 [==============================] - 0s 7ms/step - loss: 1.3323 - mae: 1.3323\n",
            "Epoch 33/500\n",
            "2/2 [==============================] - 0s 8ms/step - loss: 3.4015 - mae: 3.4015\n",
            "Epoch 34/500\n",
            "2/2 [==============================] - 0s 9ms/step - loss: 2.0276 - mae: 2.0276\n",
            "Epoch 35/500\n",
            "2/2 [==============================] - 0s 9ms/step - loss: 1.8031 - mae: 1.8031\n",
            "Epoch 36/500\n",
            "2/2 [==============================] - 0s 8ms/step - loss: 2.2259 - mae: 2.2259\n",
            "Epoch 37/500\n",
            "2/2 [==============================] - 0s 8ms/step - loss: 4.5474 - mae: 4.5474\n",
            "Epoch 38/500\n",
            "2/2 [==============================] - 0s 9ms/step - loss: 3.6015 - mae: 3.6015\n",
            "Epoch 39/500\n",
            "2/2 [==============================] - 0s 8ms/step - loss: 2.8621 - mae: 2.8621\n",
            "Epoch 40/500\n",
            "2/2 [==============================] - 0s 8ms/step - loss: 2.8861 - mae: 2.8861\n",
            "Epoch 41/500\n",
            "2/2 [==============================] - 0s 8ms/step - loss: 6.6369 - mae: 6.6369\n",
            "Epoch 42/500\n",
            "2/2 [==============================] - 0s 7ms/step - loss: 6.1706 - mae: 6.1706\n",
            "Epoch 43/500\n",
            "2/2 [==============================] - 0s 8ms/step - loss: 5.3807 - mae: 5.3807\n",
            "Epoch 44/500\n",
            "2/2 [==============================] - 0s 8ms/step - loss: 3.3896 - mae: 3.3896\n",
            "Epoch 45/500\n",
            "2/2 [==============================] - 0s 7ms/step - loss: 8.4262 - mae: 8.4262\n",
            "Epoch 46/500\n",
            "2/2 [==============================] - 0s 7ms/step - loss: 1.5139 - mae: 1.5139\n",
            "Epoch 47/500\n",
            "2/2 [==============================] - 0s 12ms/step - loss: 9.4890 - mae: 9.4890\n",
            "Epoch 48/500\n",
            "2/2 [==============================] - 0s 7ms/step - loss: 2.6580 - mae: 2.6580\n",
            "Epoch 49/500\n",
            "2/2 [==============================] - 0s 11ms/step - loss: 2.0942 - mae: 2.0942\n",
            "Epoch 50/500\n",
            "2/2 [==============================] - 0s 9ms/step - loss: 4.7488 - mae: 4.7488\n",
            "Epoch 51/500\n",
            "2/2 [==============================] - 0s 7ms/step - loss: 1.8647 - mae: 1.8647\n",
            "Epoch 52/500\n",
            "2/2 [==============================] - 0s 8ms/step - loss: 1.5243 - mae: 1.5243\n",
            "Epoch 53/500\n",
            "2/2 [==============================] - 0s 8ms/step - loss: 2.9382 - mae: 2.9382\n",
            "Epoch 54/500\n",
            "2/2 [==============================] - 0s 8ms/step - loss: 1.4948 - mae: 1.4948\n",
            "Epoch 55/500\n",
            "2/2 [==============================] - 0s 9ms/step - loss: 2.8357 - mae: 2.8357\n",
            "Epoch 56/500\n",
            "2/2 [==============================] - 0s 8ms/step - loss: 1.2766 - mae: 1.2766\n",
            "Epoch 57/500\n",
            "2/2 [==============================] - 0s 9ms/step - loss: 1.9836 - mae: 1.9836\n",
            "Epoch 58/500\n",
            "2/2 [==============================] - 0s 8ms/step - loss: 2.1241 - mae: 2.1241\n",
            "Epoch 59/500\n",
            "2/2 [==============================] - 0s 8ms/step - loss: 1.6297 - mae: 1.6297\n",
            "Epoch 60/500\n",
            "2/2 [==============================] - 0s 8ms/step - loss: 2.0685 - mae: 2.0685\n",
            "Epoch 61/500\n",
            "2/2 [==============================] - 0s 10ms/step - loss: 1.6884 - mae: 1.6884\n",
            "Epoch 62/500\n",
            "2/2 [==============================] - 0s 9ms/step - loss: 1.5541 - mae: 1.5541\n",
            "Epoch 63/500\n",
            "2/2 [==============================] - 0s 10ms/step - loss: 3.0068 - mae: 3.0068\n",
            "Epoch 64/500\n",
            "2/2 [==============================] - 0s 9ms/step - loss: 5.3604 - mae: 5.3604\n",
            "Epoch 65/500\n",
            "2/2 [==============================] - 0s 9ms/step - loss: 3.5148 - mae: 3.5148\n",
            "Epoch 66/500\n",
            "2/2 [==============================] - 0s 10ms/step - loss: 3.1276 - mae: 3.1276\n",
            "Epoch 67/500\n",
            "2/2 [==============================] - 0s 8ms/step - loss: 2.9888 - mae: 2.9888\n",
            "Epoch 68/500\n",
            "2/2 [==============================] - 0s 8ms/step - loss: 1.6889 - mae: 1.6889\n",
            "Epoch 69/500\n",
            "2/2 [==============================] - 0s 8ms/step - loss: 4.7156 - mae: 4.7156\n",
            "Epoch 70/500\n",
            "2/2 [==============================] - 0s 10ms/step - loss: 1.5072 - mae: 1.5072\n",
            "Epoch 71/500\n",
            "2/2 [==============================] - 0s 8ms/step - loss: 0.9509 - mae: 0.9509\n",
            "Epoch 72/500\n",
            "2/2 [==============================] - 0s 6ms/step - loss: 2.9328 - mae: 2.9328\n",
            "Epoch 73/500\n",
            "2/2 [==============================] - 0s 7ms/step - loss: 0.6872 - mae: 0.6872\n",
            "Epoch 74/500\n",
            "2/2 [==============================] - 0s 9ms/step - loss: 3.6394 - mae: 3.6394\n",
            "Epoch 75/500\n",
            "2/2 [==============================] - 0s 8ms/step - loss: 2.0394 - mae: 2.0394\n",
            "Epoch 76/500\n",
            "2/2 [==============================] - 0s 8ms/step - loss: 4.5087 - mae: 4.5087\n",
            "Epoch 77/500\n",
            "2/2 [==============================] - 0s 8ms/step - loss: 1.0856 - mae: 1.0856\n",
            "Epoch 78/500\n",
            "2/2 [==============================] - 0s 8ms/step - loss: 0.4040 - mae: 0.4040\n",
            "Epoch 79/500\n",
            "2/2 [==============================] - 0s 8ms/step - loss: 4.3669 - mae: 4.3669\n",
            "Epoch 80/500\n",
            "2/2 [==============================] - 0s 8ms/step - loss: 1.9192 - mae: 1.9192\n",
            "Epoch 81/500\n",
            "2/2 [==============================] - 0s 8ms/step - loss: 7.7080 - mae: 7.7080\n",
            "Epoch 82/500\n",
            "2/2 [==============================] - 0s 9ms/step - loss: 4.4812 - mae: 4.4812\n",
            "Epoch 83/500\n",
            "2/2 [==============================] - 0s 8ms/step - loss: 6.2363 - mae: 6.2363\n",
            "Epoch 84/500\n",
            "2/2 [==============================] - 0s 12ms/step - loss: 4.8351 - mae: 4.8351\n",
            "Epoch 85/500\n",
            "2/2 [==============================] - 0s 8ms/step - loss: 2.4915 - mae: 2.4915\n",
            "Epoch 86/500\n",
            "2/2 [==============================] - 0s 9ms/step - loss: 1.4993 - mae: 1.4993\n",
            "Epoch 87/500\n",
            "2/2 [==============================] - 0s 9ms/step - loss: 0.9938 - mae: 0.9938\n",
            "Epoch 88/500\n",
            "2/2 [==============================] - 0s 13ms/step - loss: 3.3932 - mae: 3.3932\n",
            "Epoch 89/500\n",
            "2/2 [==============================] - 0s 8ms/step - loss: 2.3691 - mae: 2.3691\n",
            "Epoch 90/500\n",
            "2/2 [==============================] - 0s 8ms/step - loss: 2.0031 - mae: 2.0031\n",
            "Epoch 91/500\n",
            "2/2 [==============================] - 0s 9ms/step - loss: 1.4955 - mae: 1.4955\n",
            "Epoch 92/500\n",
            "2/2 [==============================] - 0s 8ms/step - loss: 1.8615 - mae: 1.8615\n",
            "Epoch 93/500\n",
            "2/2 [==============================] - 0s 8ms/step - loss: 1.3576 - mae: 1.3576\n",
            "Epoch 94/500\n",
            "2/2 [==============================] - 0s 8ms/step - loss: 2.1976 - mae: 2.1976\n",
            "Epoch 95/500\n",
            "2/2 [==============================] - 0s 8ms/step - loss: 2.1667 - mae: 2.1667\n",
            "Epoch 96/500\n",
            "2/2 [==============================] - 0s 8ms/step - loss: 0.2590 - mae: 0.2590\n",
            "Epoch 97/500\n",
            "2/2 [==============================] - 0s 10ms/step - loss: 2.5355 - mae: 2.5355\n",
            "Epoch 98/500\n",
            "2/2 [==============================] - 0s 8ms/step - loss: 1.1623 - mae: 1.1623\n",
            "Epoch 99/500\n",
            "2/2 [==============================] - 0s 8ms/step - loss: 1.4368 - mae: 1.4368\n",
            "Epoch 100/500\n",
            "2/2 [==============================] - 0s 8ms/step - loss: 2.7666 - mae: 2.7666\n",
            "Epoch 101/500\n",
            "2/2 [==============================] - 0s 8ms/step - loss: 1.6399 - mae: 1.6399\n",
            "Epoch 102/500\n",
            "2/2 [==============================] - 0s 10ms/step - loss: 4.6877 - mae: 4.6877\n",
            "Epoch 103/500\n",
            "2/2 [==============================] - 0s 9ms/step - loss: 2.2352 - mae: 2.2352\n",
            "Epoch 104/500\n",
            "2/2 [==============================] - 0s 8ms/step - loss: 1.4974 - mae: 1.4974\n",
            "Epoch 105/500\n",
            "2/2 [==============================] - 0s 8ms/step - loss: 4.4473 - mae: 4.4473\n",
            "Epoch 106/500\n",
            "2/2 [==============================] - 0s 9ms/step - loss: 4.6946 - mae: 4.6946\n",
            "Epoch 107/500\n",
            "2/2 [==============================] - 0s 8ms/step - loss: 2.9311 - mae: 2.9311\n",
            "Epoch 108/500\n",
            "2/2 [==============================] - 0s 8ms/step - loss: 6.3300 - mae: 6.3300\n",
            "Epoch 109/500\n",
            "2/2 [==============================] - 0s 8ms/step - loss: 9.7404 - mae: 9.7404\n",
            "Epoch 110/500\n",
            "2/2 [==============================] - 0s 10ms/step - loss: 5.6433 - mae: 5.6433\n",
            "Epoch 111/500\n",
            "2/2 [==============================] - 0s 8ms/step - loss: 7.0618 - mae: 7.0618\n",
            "Epoch 112/500\n",
            "2/2 [==============================] - 0s 9ms/step - loss: 11.5711 - mae: 11.5711\n",
            "Epoch 113/500\n",
            "2/2 [==============================] - 0s 8ms/step - loss: 7.1250 - mae: 7.1250\n",
            "Epoch 114/500\n",
            "2/2 [==============================] - 0s 7ms/step - loss: 8.1984 - mae: 8.1984\n",
            "Epoch 115/500\n",
            "2/2 [==============================] - 0s 8ms/step - loss: 4.3315 - mae: 4.3315\n",
            "Epoch 116/500\n",
            "2/2 [==============================] - 0s 8ms/step - loss: 2.0073 - mae: 2.0073\n",
            "Epoch 117/500\n",
            "2/2 [==============================] - 0s 8ms/step - loss: 4.5298 - mae: 4.5298\n",
            "Epoch 118/500\n",
            "2/2 [==============================] - 0s 8ms/step - loss: 4.4702 - mae: 4.4702\n",
            "Epoch 119/500\n",
            "2/2 [==============================] - 0s 8ms/step - loss: 3.4705 - mae: 3.4705\n",
            "Epoch 120/500\n",
            "2/2 [==============================] - 0s 8ms/step - loss: 2.3593 - mae: 2.3593\n",
            "Epoch 121/500\n",
            "2/2 [==============================] - 0s 13ms/step - loss: 1.8205 - mae: 1.8205\n",
            "Epoch 122/500\n",
            "2/2 [==============================] - 0s 10ms/step - loss: 2.3400 - mae: 2.3400\n",
            "Epoch 123/500\n",
            "2/2 [==============================] - 0s 8ms/step - loss: 2.4090 - mae: 2.4090\n",
            "Epoch 124/500\n",
            "2/2 [==============================] - 0s 7ms/step - loss: 0.9908 - mae: 0.9908\n",
            "Epoch 125/500\n",
            "2/2 [==============================] - 0s 7ms/step - loss: 2.6357 - mae: 2.6357\n",
            "Epoch 126/500\n",
            "2/2 [==============================] - 0s 9ms/step - loss: 2.4060 - mae: 2.4060\n",
            "Epoch 127/500\n",
            "2/2 [==============================] - 0s 8ms/step - loss: 1.9490 - mae: 1.9490\n",
            "Epoch 128/500\n",
            "2/2 [==============================] - 0s 8ms/step - loss: 0.9300 - mae: 0.9300\n",
            "Epoch 129/500\n",
            "2/2 [==============================] - 0s 8ms/step - loss: 2.2034 - mae: 2.2034\n",
            "Epoch 130/500\n",
            "2/2 [==============================] - 0s 8ms/step - loss: 0.8427 - mae: 0.8427\n",
            "Epoch 131/500\n",
            "2/2 [==============================] - 0s 9ms/step - loss: 1.8655 - mae: 1.8655\n",
            "Epoch 132/500\n",
            "2/2 [==============================] - 0s 8ms/step - loss: 0.9845 - mae: 0.9845\n",
            "Epoch 133/500\n",
            "2/2 [==============================] - 0s 11ms/step - loss: 1.5613 - mae: 1.5613\n",
            "Epoch 134/500\n",
            "2/2 [==============================] - 0s 9ms/step - loss: 1.5195 - mae: 1.5195\n",
            "Epoch 135/500\n",
            "2/2 [==============================] - 0s 8ms/step - loss: 0.7354 - mae: 0.7354\n",
            "Epoch 136/500\n",
            "2/2 [==============================] - 0s 9ms/step - loss: 2.6192 - mae: 2.6192\n",
            "Epoch 137/500\n",
            "2/2 [==============================] - 0s 8ms/step - loss: 1.2315 - mae: 1.2315\n",
            "Epoch 138/500\n",
            "2/2 [==============================] - 0s 8ms/step - loss: 5.6219 - mae: 5.6219\n",
            "Epoch 139/500\n",
            "2/2 [==============================] - 0s 9ms/step - loss: 1.7768 - mae: 1.7768\n",
            "Epoch 140/500\n",
            "2/2 [==============================] - 0s 10ms/step - loss: 4.1333 - mae: 4.1333\n",
            "Epoch 141/500\n",
            "2/2 [==============================] - 0s 8ms/step - loss: 2.5932 - mae: 2.5932\n",
            "Epoch 142/500\n",
            "2/2 [==============================] - 0s 8ms/step - loss: 1.4414 - mae: 1.4414\n",
            "Epoch 143/500\n",
            "2/2 [==============================] - 0s 8ms/step - loss: 2.6288 - mae: 2.6288\n",
            "Epoch 144/500\n",
            "2/2 [==============================] - 0s 8ms/step - loss: 0.4935 - mae: 0.4935\n",
            "Epoch 145/500\n",
            "2/2 [==============================] - 0s 8ms/step - loss: 3.1659 - mae: 3.1659\n",
            "Epoch 146/500\n",
            "2/2 [==============================] - 0s 8ms/step - loss: 1.6388 - mae: 1.6388\n",
            "Epoch 147/500\n",
            "2/2 [==============================] - 0s 8ms/step - loss: 0.6980 - mae: 0.6980\n",
            "Epoch 148/500\n",
            "2/2 [==============================] - 0s 8ms/step - loss: 1.3392 - mae: 1.3392\n",
            "Epoch 149/500\n",
            "2/2 [==============================] - 0s 8ms/step - loss: 0.6932 - mae: 0.6932\n",
            "Epoch 150/500\n",
            "2/2 [==============================] - 0s 8ms/step - loss: 0.7983 - mae: 0.7983\n",
            "Epoch 151/500\n",
            "2/2 [==============================] - 0s 8ms/step - loss: 1.5294 - mae: 1.5294\n",
            "Epoch 152/500\n",
            "2/2 [==============================] - 0s 8ms/step - loss: 1.4533 - mae: 1.4533\n",
            "Epoch 153/500\n",
            "2/2 [==============================] - 0s 8ms/step - loss: 0.5546 - mae: 0.5546\n",
            "Epoch 154/500\n",
            "2/2 [==============================] - 0s 8ms/step - loss: 0.9898 - mae: 0.9898\n",
            "Epoch 155/500\n",
            "2/2 [==============================] - 0s 8ms/step - loss: 1.8272 - mae: 1.8272\n",
            "Epoch 156/500\n",
            "2/2 [==============================] - 0s 8ms/step - loss: 4.5201 - mae: 4.5201\n",
            "Epoch 157/500\n",
            "2/2 [==============================] - 0s 8ms/step - loss: 3.3033 - mae: 3.3033\n",
            "Epoch 158/500\n",
            "2/2 [==============================] - 0s 8ms/step - loss: 2.6770 - mae: 2.6770\n",
            "Epoch 159/500\n",
            "2/2 [==============================] - 0s 8ms/step - loss: 0.8124 - mae: 0.8124\n",
            "Epoch 160/500\n",
            "2/2 [==============================] - 0s 8ms/step - loss: 3.3526 - mae: 3.3526\n",
            "Epoch 161/500\n",
            "2/2 [==============================] - 0s 8ms/step - loss: 2.0067 - mae: 2.0067\n",
            "Epoch 162/500\n",
            "2/2 [==============================] - 0s 9ms/step - loss: 1.6543 - mae: 1.6543\n",
            "Epoch 163/500\n",
            "2/2 [==============================] - 0s 10ms/step - loss: 0.6849 - mae: 0.6849\n",
            "Epoch 164/500\n",
            "2/2 [==============================] - 0s 9ms/step - loss: 1.2116 - mae: 1.2116\n",
            "Epoch 165/500\n",
            "2/2 [==============================] - 0s 10ms/step - loss: 3.8476 - mae: 3.8476\n",
            "Epoch 166/500\n",
            "2/2 [==============================] - 0s 9ms/step - loss: 2.4315 - mae: 2.4315\n",
            "Epoch 167/500\n",
            "2/2 [==============================] - 0s 9ms/step - loss: 1.5958 - mae: 1.5958\n",
            "Epoch 168/500\n",
            "2/2 [==============================] - 0s 10ms/step - loss: 5.4439 - mae: 5.4439\n",
            "Epoch 169/500\n",
            "2/2 [==============================] - 0s 9ms/step - loss: 2.0940 - mae: 2.0940\n",
            "Epoch 170/500\n",
            "2/2 [==============================] - 0s 9ms/step - loss: 0.8187 - mae: 0.8187\n",
            "Epoch 171/500\n",
            "2/2 [==============================] - 0s 9ms/step - loss: 4.1285 - mae: 4.1285\n",
            "Epoch 172/500\n",
            "2/2 [==============================] - 0s 8ms/step - loss: 2.4175 - mae: 2.4175\n",
            "Epoch 173/500\n",
            "2/2 [==============================] - 0s 8ms/step - loss: 2.6460 - mae: 2.6460\n",
            "Epoch 174/500\n",
            "2/2 [==============================] - 0s 8ms/step - loss: 1.2911 - mae: 1.2911\n",
            "Epoch 175/500\n",
            "2/2 [==============================] - 0s 10ms/step - loss: 1.7502 - mae: 1.7502\n",
            "Epoch 176/500\n",
            "2/2 [==============================] - 0s 8ms/step - loss: 2.6705 - mae: 2.6705\n",
            "Epoch 177/500\n",
            "2/2 [==============================] - 0s 9ms/step - loss: 2.0068 - mae: 2.0068\n",
            "Epoch 178/500\n",
            "2/2 [==============================] - 0s 11ms/step - loss: 2.4499 - mae: 2.4499\n",
            "Epoch 179/500\n",
            "2/2 [==============================] - 0s 8ms/step - loss: 1.0177 - mae: 1.0177\n",
            "Epoch 180/500\n",
            "2/2 [==============================] - 0s 7ms/step - loss: 6.6546 - mae: 6.6546\n",
            "Epoch 181/500\n",
            "2/2 [==============================] - 0s 8ms/step - loss: 2.3984 - mae: 2.3984\n",
            "Epoch 182/500\n",
            "2/2 [==============================] - 0s 8ms/step - loss: 3.3219 - mae: 3.3219\n",
            "Epoch 183/500\n",
            "2/2 [==============================] - 0s 8ms/step - loss: 2.8806 - mae: 2.8806\n",
            "Epoch 184/500\n",
            "2/2 [==============================] - 0s 8ms/step - loss: 1.6632 - mae: 1.6632\n",
            "Epoch 185/500\n",
            "2/2 [==============================] - 0s 10ms/step - loss: 2.1846 - mae: 2.1846\n",
            "Epoch 186/500\n",
            "2/2 [==============================] - 0s 11ms/step - loss: 2.0125 - mae: 2.0125\n",
            "Epoch 187/500\n",
            "2/2 [==============================] - 0s 11ms/step - loss: 0.7675 - mae: 0.7675\n",
            "Epoch 188/500\n",
            "2/2 [==============================] - 0s 11ms/step - loss: 4.5962 - mae: 4.5962\n",
            "Epoch 189/500\n",
            "2/2 [==============================] - 0s 9ms/step - loss: 2.2978 - mae: 2.2978\n",
            "Epoch 190/500\n",
            "2/2 [==============================] - 0s 8ms/step - loss: 4.8576 - mae: 4.8576\n",
            "Epoch 191/500\n",
            "2/2 [==============================] - 0s 9ms/step - loss: 3.2616 - mae: 3.2616\n",
            "Epoch 192/500\n",
            "2/2 [==============================] - 0s 8ms/step - loss: 1.8202 - mae: 1.8202\n",
            "Epoch 193/500\n",
            "2/2 [==============================] - 0s 8ms/step - loss: 4.0884 - mae: 4.0884\n",
            "Epoch 194/500\n",
            "2/2 [==============================] - 0s 8ms/step - loss: 5.3127 - mae: 5.3127\n",
            "Epoch 195/500\n",
            "2/2 [==============================] - 0s 8ms/step - loss: 3.0702 - mae: 3.0702\n",
            "Epoch 196/500\n",
            "2/2 [==============================] - 0s 8ms/step - loss: 8.0678 - mae: 8.0678\n",
            "Epoch 197/500\n",
            "2/2 [==============================] - 0s 8ms/step - loss: 2.9648 - mae: 2.9648\n",
            "Epoch 198/500\n",
            "2/2 [==============================] - 0s 9ms/step - loss: 6.1006 - mae: 6.1006\n",
            "Epoch 199/500\n",
            "2/2 [==============================] - 0s 8ms/step - loss: 3.6502 - mae: 3.6502\n",
            "Epoch 200/500\n",
            "2/2 [==============================] - 0s 8ms/step - loss: 2.2934 - mae: 2.2934\n",
            "Epoch 201/500\n",
            "2/2 [==============================] - 0s 8ms/step - loss: 2.6278 - mae: 2.6278\n",
            "Epoch 202/500\n",
            "2/2 [==============================] - 0s 9ms/step - loss: 1.4657 - mae: 1.4657\n",
            "Epoch 203/500\n",
            "2/2 [==============================] - 0s 8ms/step - loss: 2.7818 - mae: 2.7818\n",
            "Epoch 204/500\n",
            "2/2 [==============================] - 0s 8ms/step - loss: 3.9897 - mae: 3.9897\n",
            "Epoch 205/500\n",
            "2/2 [==============================] - 0s 8ms/step - loss: 1.7177 - mae: 1.7177\n",
            "Epoch 206/500\n",
            "2/2 [==============================] - 0s 8ms/step - loss: 2.6676 - mae: 2.6676\n",
            "Epoch 207/500\n",
            "2/2 [==============================] - 0s 8ms/step - loss: 2.1497 - mae: 2.1497\n",
            "Epoch 208/500\n",
            "2/2 [==============================] - 0s 8ms/step - loss: 2.1339 - mae: 2.1339\n",
            "Epoch 209/500\n",
            "2/2 [==============================] - 0s 9ms/step - loss: 1.8992 - mae: 1.8992\n",
            "Epoch 210/500\n",
            "2/2 [==============================] - 0s 9ms/step - loss: 0.7073 - mae: 0.7073\n",
            "Epoch 211/500\n",
            "2/2 [==============================] - 0s 8ms/step - loss: 0.8294 - mae: 0.8294\n",
            "Epoch 212/500\n",
            "2/2 [==============================] - 0s 8ms/step - loss: 2.2639 - mae: 2.2639\n",
            "Epoch 213/500\n",
            "2/2 [==============================] - 0s 8ms/step - loss: 1.4868 - mae: 1.4868\n",
            "Epoch 214/500\n",
            "2/2 [==============================] - 0s 9ms/step - loss: 0.9526 - mae: 0.9526\n",
            "Epoch 215/500\n",
            "2/2 [==============================] - 0s 8ms/step - loss: 4.1486 - mae: 4.1486\n",
            "Epoch 216/500\n",
            "2/2 [==============================] - 0s 8ms/step - loss: 2.6918 - mae: 2.6918\n",
            "Epoch 217/500\n",
            "2/2 [==============================] - 0s 8ms/step - loss: 2.4844 - mae: 2.4844\n",
            "Epoch 218/500\n",
            "2/2 [==============================] - 0s 8ms/step - loss: 1.6478 - mae: 1.6478\n",
            "Epoch 219/500\n",
            "2/2 [==============================] - 0s 8ms/step - loss: 1.0926 - mae: 1.0926\n",
            "Epoch 220/500\n",
            "2/2 [==============================] - 0s 8ms/step - loss: 1.6323 - mae: 1.6323\n",
            "Epoch 221/500\n",
            "2/2 [==============================] - 0s 9ms/step - loss: 0.5248 - mae: 0.5248\n",
            "Epoch 222/500\n",
            "2/2 [==============================] - 0s 10ms/step - loss: 1.3919 - mae: 1.3919\n",
            "Epoch 223/500\n",
            "2/2 [==============================] - 0s 10ms/step - loss: 1.6323 - mae: 1.6323\n",
            "Epoch 224/500\n",
            "2/2 [==============================] - 0s 9ms/step - loss: 2.6419 - mae: 2.6419\n",
            "Epoch 225/500\n",
            "2/2 [==============================] - 0s 10ms/step - loss: 1.1390 - mae: 1.1390\n",
            "Epoch 226/500\n",
            "2/2 [==============================] - 0s 10ms/step - loss: 6.4506 - mae: 6.4506\n",
            "Epoch 227/500\n",
            "2/2 [==============================] - 0s 10ms/step - loss: 0.5939 - mae: 0.5939\n",
            "Epoch 228/500\n",
            "2/2 [==============================] - 0s 10ms/step - loss: 2.5958 - mae: 2.5958\n",
            "Epoch 229/500\n",
            "2/2 [==============================] - 0s 9ms/step - loss: 2.7780 - mae: 2.7780\n",
            "Epoch 230/500\n",
            "2/2 [==============================] - 0s 16ms/step - loss: 1.2502 - mae: 1.2502\n",
            "Epoch 231/500\n",
            "2/2 [==============================] - 0s 13ms/step - loss: 3.1551 - mae: 3.1551\n",
            "Epoch 232/500\n",
            "2/2 [==============================] - 0s 9ms/step - loss: 1.7868 - mae: 1.7868\n",
            "Epoch 233/500\n",
            "2/2 [==============================] - 0s 10ms/step - loss: 1.5428 - mae: 1.5428\n",
            "Epoch 234/500\n",
            "2/2 [==============================] - 0s 10ms/step - loss: 1.3310 - mae: 1.3310\n",
            "Epoch 235/500\n",
            "2/2 [==============================] - 0s 10ms/step - loss: 1.7847 - mae: 1.7847\n",
            "Epoch 236/500\n",
            "2/2 [==============================] - 0s 11ms/step - loss: 1.3108 - mae: 1.3108\n",
            "Epoch 237/500\n",
            "2/2 [==============================] - 0s 10ms/step - loss: 1.0121 - mae: 1.0121\n",
            "Epoch 238/500\n",
            "2/2 [==============================] - 0s 10ms/step - loss: 1.9506 - mae: 1.9506\n",
            "Epoch 239/500\n",
            "2/2 [==============================] - 0s 10ms/step - loss: 3.2169 - mae: 3.2169\n",
            "Epoch 240/500\n",
            "2/2 [==============================] - 0s 9ms/step - loss: 1.5339 - mae: 1.5339\n",
            "Epoch 241/500\n",
            "2/2 [==============================] - 0s 10ms/step - loss: 5.1420 - mae: 5.1420\n",
            "Epoch 242/500\n",
            "2/2 [==============================] - 0s 12ms/step - loss: 2.8200 - mae: 2.8200\n",
            "Epoch 243/500\n",
            "2/2 [==============================] - 0s 10ms/step - loss: 1.6064 - mae: 1.6064\n",
            "Epoch 244/500\n",
            "2/2 [==============================] - 0s 10ms/step - loss: 0.2147 - mae: 0.2147\n",
            "Epoch 245/500\n",
            "2/2 [==============================] - 0s 11ms/step - loss: 2.1436 - mae: 2.1436\n",
            "Epoch 246/500\n",
            "2/2 [==============================] - 0s 11ms/step - loss: 3.5725 - mae: 3.5725\n",
            "Epoch 247/500\n",
            "2/2 [==============================] - 0s 11ms/step - loss: 1.6985 - mae: 1.6985\n",
            "Epoch 248/500\n",
            "2/2 [==============================] - 0s 10ms/step - loss: 5.2289 - mae: 5.2289\n",
            "Epoch 249/500\n",
            "2/2 [==============================] - 0s 10ms/step - loss: 2.1881 - mae: 2.1881\n",
            "Epoch 250/500\n",
            "2/2 [==============================] - 0s 10ms/step - loss: 3.6073 - mae: 3.6073\n",
            "Epoch 251/500\n",
            "2/2 [==============================] - 0s 8ms/step - loss: 2.5826 - mae: 2.5826\n",
            "Epoch 252/500\n",
            "2/2 [==============================] - 0s 8ms/step - loss: 0.6554 - mae: 0.6554\n",
            "Epoch 253/500\n",
            "2/2 [==============================] - 0s 8ms/step - loss: 1.2536 - mae: 1.2536\n",
            "Epoch 254/500\n",
            "2/2 [==============================] - 0s 9ms/step - loss: 3.1931 - mae: 3.1931\n",
            "Epoch 255/500\n",
            "2/2 [==============================] - 0s 9ms/step - loss: 0.9555 - mae: 0.9555\n",
            "Epoch 256/500\n",
            "2/2 [==============================] - 0s 9ms/step - loss: 3.2104 - mae: 3.2104\n",
            "Epoch 257/500\n",
            "2/2 [==============================] - 0s 13ms/step - loss: 5.7314 - mae: 5.7314\n",
            "Epoch 258/500\n",
            "2/2 [==============================] - 0s 9ms/step - loss: 2.9856 - mae: 2.9856\n",
            "Epoch 259/500\n",
            "2/2 [==============================] - 0s 13ms/step - loss: 2.9133 - mae: 2.9133\n",
            "Epoch 260/500\n",
            "2/2 [==============================] - 0s 10ms/step - loss: 1.4563 - mae: 1.4563\n",
            "Epoch 261/500\n",
            "2/2 [==============================] - 0s 10ms/step - loss: 1.5796 - mae: 1.5796\n",
            "Epoch 262/500\n",
            "2/2 [==============================] - 0s 9ms/step - loss: 1.5713 - mae: 1.5713\n",
            "Epoch 263/500\n",
            "2/2 [==============================] - 0s 9ms/step - loss: 1.2126 - mae: 1.2126\n",
            "Epoch 264/500\n",
            "2/2 [==============================] - 0s 9ms/step - loss: 1.0697 - mae: 1.0697\n",
            "Epoch 265/500\n",
            "2/2 [==============================] - 0s 9ms/step - loss: 1.1304 - mae: 1.1304\n",
            "Epoch 266/500\n",
            "2/2 [==============================] - 0s 10ms/step - loss: 2.3165 - mae: 2.3165\n",
            "Epoch 267/500\n",
            "2/2 [==============================] - 0s 9ms/step - loss: 2.5518 - mae: 2.5518\n",
            "Epoch 268/500\n",
            "2/2 [==============================] - 0s 11ms/step - loss: 4.3331 - mae: 4.3331\n",
            "Epoch 269/500\n",
            "2/2 [==============================] - 0s 9ms/step - loss: 2.5606 - mae: 2.5606\n",
            "Epoch 270/500\n",
            "2/2 [==============================] - 0s 9ms/step - loss: 7.0538 - mae: 7.0538\n",
            "Epoch 271/500\n",
            "2/2 [==============================] - 0s 9ms/step - loss: 2.8829 - mae: 2.8829\n",
            "Epoch 272/500\n",
            "2/2 [==============================] - 0s 8ms/step - loss: 2.3418 - mae: 2.3418\n",
            "Epoch 273/500\n",
            "2/2 [==============================] - 0s 9ms/step - loss: 1.4960 - mae: 1.4960\n",
            "Epoch 274/500\n",
            "2/2 [==============================] - 0s 10ms/step - loss: 4.9259 - mae: 4.9259\n",
            "Epoch 275/500\n",
            "2/2 [==============================] - 0s 10ms/step - loss: 1.0788 - mae: 1.0788\n",
            "Epoch 276/500\n",
            "2/2 [==============================] - 0s 8ms/step - loss: 1.0468 - mae: 1.0468\n",
            "Epoch 277/500\n",
            "2/2 [==============================] - 0s 8ms/step - loss: 7.1978 - mae: 7.1978\n",
            "Epoch 278/500\n",
            "2/2 [==============================] - 0s 10ms/step - loss: 3.1114 - mae: 3.1114\n",
            "Epoch 279/500\n",
            "2/2 [==============================] - 0s 8ms/step - loss: 2.6717 - mae: 2.6717\n",
            "Epoch 280/500\n",
            "2/2 [==============================] - 0s 9ms/step - loss: 2.0028 - mae: 2.0028\n",
            "Epoch 281/500\n",
            "2/2 [==============================] - 0s 8ms/step - loss: 3.9086 - mae: 3.9086\n",
            "Epoch 282/500\n",
            "2/2 [==============================] - 0s 8ms/step - loss: 6.1004 - mae: 6.1004\n",
            "Epoch 283/500\n",
            "2/2 [==============================] - 0s 7ms/step - loss: 1.9460 - mae: 1.9460\n",
            "Epoch 284/500\n",
            "2/2 [==============================] - 0s 8ms/step - loss: 4.4794 - mae: 4.4794\n",
            "Epoch 285/500\n",
            "2/2 [==============================] - 0s 9ms/step - loss: 7.4126 - mae: 7.4126\n",
            "Epoch 286/500\n",
            "2/2 [==============================] - 0s 9ms/step - loss: 4.0601 - mae: 4.0601\n",
            "Epoch 287/500\n",
            "2/2 [==============================] - 0s 12ms/step - loss: 4.4200 - mae: 4.4200\n",
            "Epoch 288/500\n",
            "2/2 [==============================] - 0s 8ms/step - loss: 3.0255 - mae: 3.0255\n",
            "Epoch 289/500\n",
            "2/2 [==============================] - 0s 11ms/step - loss: 3.6710 - mae: 3.6710\n",
            "Epoch 290/500\n",
            "2/2 [==============================] - 0s 8ms/step - loss: 1.4596 - mae: 1.4596\n",
            "Epoch 291/500\n",
            "2/2 [==============================] - 0s 8ms/step - loss: 2.5971 - mae: 2.5971\n",
            "Epoch 292/500\n",
            "2/2 [==============================] - 0s 8ms/step - loss: 1.6138 - mae: 1.6138\n",
            "Epoch 293/500\n",
            "2/2 [==============================] - 0s 8ms/step - loss: 1.3510 - mae: 1.3510\n",
            "Epoch 294/500\n",
            "2/2 [==============================] - 0s 8ms/step - loss: 0.7669 - mae: 0.7669\n",
            "Epoch 295/500\n",
            "2/2 [==============================] - 0s 8ms/step - loss: 0.9503 - mae: 0.9503\n",
            "Epoch 296/500\n",
            "2/2 [==============================] - 0s 8ms/step - loss: 1.1269 - mae: 1.1269\n",
            "Epoch 297/500\n",
            "2/2 [==============================] - 0s 8ms/step - loss: 1.0058 - mae: 1.0058\n",
            "Epoch 298/500\n",
            "2/2 [==============================] - 0s 8ms/step - loss: 1.3901 - mae: 1.3901\n",
            "Epoch 299/500\n",
            "2/2 [==============================] - 0s 8ms/step - loss: 2.1574 - mae: 2.1574\n",
            "Epoch 300/500\n",
            "2/2 [==============================] - 0s 8ms/step - loss: 3.1082 - mae: 3.1082\n",
            "Epoch 301/500\n",
            "2/2 [==============================] - 0s 11ms/step - loss: 2.4023 - mae: 2.4023\n",
            "Epoch 302/500\n",
            "2/2 [==============================] - 0s 11ms/step - loss: 1.7455 - mae: 1.7455\n",
            "Epoch 303/500\n",
            "2/2 [==============================] - 0s 9ms/step - loss: 1.7809 - mae: 1.7809\n",
            "Epoch 304/500\n",
            "2/2 [==============================] - 0s 8ms/step - loss: 1.2155 - mae: 1.2155\n",
            "Epoch 305/500\n",
            "2/2 [==============================] - 0s 8ms/step - loss: 1.6812 - mae: 1.6812\n",
            "Epoch 306/500\n",
            "2/2 [==============================] - 0s 8ms/step - loss: 0.6487 - mae: 0.6487\n",
            "Epoch 307/500\n",
            "2/2 [==============================] - 0s 8ms/step - loss: 2.3050 - mae: 2.3050\n",
            "Epoch 308/500\n",
            "2/2 [==============================] - 0s 8ms/step - loss: 3.1667 - mae: 3.1667\n",
            "Epoch 309/500\n",
            "2/2 [==============================] - 0s 8ms/step - loss: 2.1383 - mae: 2.1383\n",
            "Epoch 310/500\n",
            "2/2 [==============================] - 0s 8ms/step - loss: 2.0366 - mae: 2.0366\n",
            "Epoch 311/500\n",
            "2/2 [==============================] - 0s 8ms/step - loss: 1.6098 - mae: 1.6098\n",
            "Epoch 312/500\n",
            "2/2 [==============================] - 0s 8ms/step - loss: 4.8966 - mae: 4.8966\n",
            "Epoch 313/500\n",
            "2/2 [==============================] - 0s 8ms/step - loss: 3.9380 - mae: 3.9380\n",
            "Epoch 314/500\n",
            "2/2 [==============================] - 0s 8ms/step - loss: 1.9294 - mae: 1.9294\n",
            "Epoch 315/500\n",
            "2/2 [==============================] - 0s 9ms/step - loss: 1.5790 - mae: 1.5790\n",
            "Epoch 316/500\n",
            "2/2 [==============================] - 0s 8ms/step - loss: 0.9330 - mae: 0.9330\n",
            "Epoch 317/500\n",
            "2/2 [==============================] - 0s 9ms/step - loss: 4.2542 - mae: 4.2542\n",
            "Epoch 318/500\n",
            "2/2 [==============================] - 0s 9ms/step - loss: 0.7363 - mae: 0.7363\n",
            "Epoch 319/500\n",
            "2/2 [==============================] - 0s 8ms/step - loss: 0.7272 - mae: 0.7272\n",
            "Epoch 320/500\n",
            "2/2 [==============================] - 0s 8ms/step - loss: 1.2390 - mae: 1.2390\n",
            "Epoch 321/500\n",
            "2/2 [==============================] - 0s 8ms/step - loss: 4.0267 - mae: 4.0267\n",
            "Epoch 322/500\n",
            "2/2 [==============================] - 0s 8ms/step - loss: 0.6578 - mae: 0.6578\n",
            "Epoch 323/500\n",
            "2/2 [==============================] - 0s 8ms/step - loss: 1.3576 - mae: 1.3576\n",
            "Epoch 324/500\n",
            "2/2 [==============================] - 0s 8ms/step - loss: 2.3576 - mae: 2.3576\n",
            "Epoch 325/500\n",
            "2/2 [==============================] - 0s 8ms/step - loss: 1.2571 - mae: 1.2571\n",
            "Epoch 326/500\n",
            "2/2 [==============================] - 0s 8ms/step - loss: 3.5937 - mae: 3.5937\n",
            "Epoch 327/500\n",
            "2/2 [==============================] - 0s 8ms/step - loss: 1.8018 - mae: 1.8018\n",
            "Epoch 328/500\n",
            "2/2 [==============================] - 0s 8ms/step - loss: 0.3157 - mae: 0.3157\n",
            "Epoch 329/500\n",
            "2/2 [==============================] - 0s 7ms/step - loss: 1.9129 - mae: 1.9129\n",
            "Epoch 330/500\n",
            "2/2 [==============================] - 0s 8ms/step - loss: 1.5704 - mae: 1.5704\n",
            "Epoch 331/500\n",
            "2/2 [==============================] - 0s 8ms/step - loss: 2.6387 - mae: 2.6387\n",
            "Epoch 332/500\n",
            "2/2 [==============================] - 0s 7ms/step - loss: 2.9791 - mae: 2.9791\n",
            "Epoch 333/500\n",
            "2/2 [==============================] - 0s 8ms/step - loss: 3.2036 - mae: 3.2036\n",
            "Epoch 334/500\n",
            "2/2 [==============================] - 0s 8ms/step - loss: 2.3400 - mae: 2.3400\n",
            "Epoch 335/500\n",
            "2/2 [==============================] - 0s 10ms/step - loss: 3.2809 - mae: 3.2809\n",
            "Epoch 336/500\n",
            "2/2 [==============================] - 0s 8ms/step - loss: 0.8528 - mae: 0.8528\n",
            "Epoch 337/500\n",
            "2/2 [==============================] - 0s 8ms/step - loss: 2.5530 - mae: 2.5530\n",
            "Epoch 338/500\n",
            "2/2 [==============================] - 0s 8ms/step - loss: 0.3014 - mae: 0.3014\n",
            "Epoch 339/500\n",
            "2/2 [==============================] - 0s 8ms/step - loss: 2.3133 - mae: 2.3133\n",
            "Epoch 340/500\n",
            "2/2 [==============================] - 0s 8ms/step - loss: 1.0436 - mae: 1.0436\n",
            "Epoch 341/500\n",
            "2/2 [==============================] - 0s 8ms/step - loss: 1.3065 - mae: 1.3065\n",
            "Epoch 342/500\n",
            "2/2 [==============================] - 0s 8ms/step - loss: 0.2982 - mae: 0.2982\n",
            "Epoch 343/500\n",
            "2/2 [==============================] - 0s 8ms/step - loss: 0.5433 - mae: 0.5433\n",
            "Epoch 344/500\n",
            "2/2 [==============================] - 0s 8ms/step - loss: 2.9841 - mae: 2.9841\n",
            "Epoch 345/500\n",
            "2/2 [==============================] - 0s 9ms/step - loss: 1.1990 - mae: 1.1990\n",
            "Epoch 346/500\n",
            "2/2 [==============================] - 0s 8ms/step - loss: 1.0762 - mae: 1.0762\n",
            "Epoch 347/500\n",
            "2/2 [==============================] - 0s 8ms/step - loss: 2.4058 - mae: 2.4058\n",
            "Epoch 348/500\n",
            "2/2 [==============================] - 0s 8ms/step - loss: 3.7998 - mae: 3.7998\n",
            "Epoch 349/500\n",
            "2/2 [==============================] - 0s 8ms/step - loss: 2.2425 - mae: 2.2425\n",
            "Epoch 350/500\n",
            "2/2 [==============================] - 0s 8ms/step - loss: 3.8815 - mae: 3.8815\n",
            "Epoch 351/500\n",
            "2/2 [==============================] - 0s 11ms/step - loss: 8.4207 - mae: 8.4207\n",
            "Epoch 352/500\n",
            "2/2 [==============================] - 0s 12ms/step - loss: 4.0179 - mae: 4.0179\n",
            "Epoch 353/500\n",
            "2/2 [==============================] - 0s 8ms/step - loss: 16.2465 - mae: 16.2465\n",
            "Epoch 354/500\n",
            "2/2 [==============================] - 0s 13ms/step - loss: 10.7500 - mae: 10.7500\n",
            "Epoch 355/500\n",
            "2/2 [==============================] - 0s 13ms/step - loss: 4.5210 - mae: 4.5210\n",
            "Epoch 356/500\n",
            "2/2 [==============================] - 0s 10ms/step - loss: 4.2930 - mae: 4.2930\n",
            "Epoch 357/500\n",
            "2/2 [==============================] - 0s 13ms/step - loss: 12.9950 - mae: 12.9950\n",
            "Epoch 358/500\n",
            "2/2 [==============================] - 0s 12ms/step - loss: 3.1260 - mae: 3.1260\n",
            "Epoch 359/500\n",
            "2/2 [==============================] - 0s 9ms/step - loss: 5.4476 - mae: 5.4476\n",
            "Epoch 360/500\n",
            "2/2 [==============================] - 0s 9ms/step - loss: 9.8636 - mae: 9.8636\n",
            "Epoch 361/500\n",
            "2/2 [==============================] - 0s 10ms/step - loss: 3.5299 - mae: 3.5299\n",
            "Epoch 362/500\n",
            "2/2 [==============================] - 0s 7ms/step - loss: 10.8066 - mae: 10.8066\n",
            "Epoch 363/500\n",
            "2/2 [==============================] - 0s 9ms/step - loss: 25.5875 - mae: 25.5875\n",
            "Epoch 364/500\n",
            "2/2 [==============================] - 0s 8ms/step - loss: 10.0422 - mae: 10.0422\n",
            "Epoch 365/500\n",
            "2/2 [==============================] - 0s 9ms/step - loss: 21.5427 - mae: 21.5427\n",
            "Epoch 366/500\n",
            "2/2 [==============================] - 0s 9ms/step - loss: 12.4509 - mae: 12.4509\n",
            "Epoch 367/500\n",
            "2/2 [==============================] - 0s 8ms/step - loss: 26.2190 - mae: 26.2190\n",
            "Epoch 368/500\n",
            "2/2 [==============================] - 0s 8ms/step - loss: 15.7190 - mae: 15.7190\n",
            "Epoch 369/500\n",
            "2/2 [==============================] - 0s 8ms/step - loss: 5.1702 - mae: 5.1702\n",
            "Epoch 370/500\n",
            "2/2 [==============================] - 0s 8ms/step - loss: 12.1729 - mae: 12.1729\n",
            "Epoch 371/500\n",
            "2/2 [==============================] - 0s 8ms/step - loss: 2.1910 - mae: 2.1910\n",
            "Epoch 372/500\n",
            "2/2 [==============================] - 0s 9ms/step - loss: 2.7761 - mae: 2.7761\n",
            "Epoch 373/500\n",
            "2/2 [==============================] - 0s 8ms/step - loss: 9.8309 - mae: 9.8309\n",
            "Epoch 374/500\n",
            "2/2 [==============================] - 0s 8ms/step - loss: 4.1627 - mae: 4.1627\n",
            "Epoch 375/500\n",
            "2/2 [==============================] - 0s 9ms/step - loss: 8.4539 - mae: 8.4539\n",
            "Epoch 376/500\n",
            "2/2 [==============================] - 0s 10ms/step - loss: 5.1627 - mae: 5.1627\n",
            "Epoch 377/500\n",
            "2/2 [==============================] - 0s 11ms/step - loss: 2.2639 - mae: 2.2639\n",
            "Epoch 378/500\n",
            "2/2 [==============================] - 0s 13ms/step - loss: 9.8142 - mae: 9.8142\n",
            "Epoch 379/500\n",
            "2/2 [==============================] - 0s 7ms/step - loss: 4.1995 - mae: 4.1995\n",
            "Epoch 380/500\n",
            "2/2 [==============================] - 0s 11ms/step - loss: 1.6381 - mae: 1.6381\n",
            "Epoch 381/500\n",
            "2/2 [==============================] - 0s 17ms/step - loss: 5.6505 - mae: 5.6505\n",
            "Epoch 382/500\n",
            "2/2 [==============================] - 0s 9ms/step - loss: 8.3024 - mae: 8.3024\n",
            "Epoch 383/500\n",
            "2/2 [==============================] - 0s 12ms/step - loss: 4.7430 - mae: 4.7430\n",
            "Epoch 384/500\n",
            "2/2 [==============================] - 0s 8ms/step - loss: 6.4949 - mae: 6.4949\n",
            "Epoch 385/500\n",
            "2/2 [==============================] - 0s 8ms/step - loss: 6.6710 - mae: 6.6710\n",
            "Epoch 386/500\n",
            "2/2 [==============================] - 0s 12ms/step - loss: 1.2587 - mae: 1.2587\n",
            "Epoch 387/500\n",
            "2/2 [==============================] - 0s 12ms/step - loss: 1.9543 - mae: 1.9543\n",
            "Epoch 388/500\n",
            "2/2 [==============================] - 0s 11ms/step - loss: 5.5926 - mae: 5.5926\n",
            "Epoch 389/500\n",
            "2/2 [==============================] - 0s 15ms/step - loss: 6.2683 - mae: 6.2683\n",
            "Epoch 390/500\n",
            "2/2 [==============================] - 0s 9ms/step - loss: 3.1906 - mae: 3.1906\n",
            "Epoch 391/500\n",
            "2/2 [==============================] - 0s 7ms/step - loss: 6.8875 - mae: 6.8875\n",
            "Epoch 392/500\n",
            "2/2 [==============================] - 0s 9ms/step - loss: 5.0457 - mae: 5.0457\n",
            "Epoch 393/500\n",
            "2/2 [==============================] - 0s 7ms/step - loss: 2.3165 - mae: 2.3165\n",
            "Epoch 394/500\n",
            "2/2 [==============================] - 0s 11ms/step - loss: 8.6865 - mae: 8.6865\n",
            "Epoch 395/500\n",
            "2/2 [==============================] - 0s 11ms/step - loss: 5.9367 - mae: 5.9367\n",
            "Epoch 396/500\n",
            "2/2 [==============================] - 0s 9ms/step - loss: 2.5846 - mae: 2.5846\n",
            "Epoch 397/500\n",
            "2/2 [==============================] - 0s 11ms/step - loss: 10.5341 - mae: 10.5341\n",
            "Epoch 398/500\n",
            "2/2 [==============================] - 0s 9ms/step - loss: 1.5973 - mae: 1.5973\n",
            "Epoch 399/500\n",
            "2/2 [==============================] - 0s 7ms/step - loss: 0.5540 - mae: 0.5540\n",
            "Epoch 400/500\n",
            "2/2 [==============================] - 0s 8ms/step - loss: 7.2788 - mae: 7.2788\n",
            "Epoch 401/500\n",
            "2/2 [==============================] - 0s 9ms/step - loss: 1.1941 - mae: 1.1941\n",
            "Epoch 402/500\n",
            "2/2 [==============================] - 0s 7ms/step - loss: 5.9706 - mae: 5.9706\n",
            "Epoch 403/500\n",
            "2/2 [==============================] - 0s 8ms/step - loss: 2.0302 - mae: 2.0302\n",
            "Epoch 404/500\n",
            "2/2 [==============================] - 0s 8ms/step - loss: 2.5840 - mae: 2.5840\n",
            "Epoch 405/500\n",
            "2/2 [==============================] - 0s 9ms/step - loss: 2.2329 - mae: 2.2329\n",
            "Epoch 406/500\n",
            "2/2 [==============================] - 0s 9ms/step - loss: 0.7584 - mae: 0.7584\n",
            "Epoch 407/500\n",
            "2/2 [==============================] - 0s 8ms/step - loss: 1.9224 - mae: 1.9224\n",
            "Epoch 408/500\n",
            "2/2 [==============================] - 0s 7ms/step - loss: 2.8596 - mae: 2.8596\n",
            "Epoch 409/500\n",
            "2/2 [==============================] - 0s 7ms/step - loss: 3.8694 - mae: 3.8694\n",
            "Epoch 410/500\n",
            "2/2 [==============================] - 0s 7ms/step - loss: 2.4036 - mae: 2.4036\n",
            "Epoch 411/500\n",
            "2/2 [==============================] - 0s 7ms/step - loss: 0.9794 - mae: 0.9794\n",
            "Epoch 412/500\n",
            "2/2 [==============================] - 0s 8ms/step - loss: 1.2055 - mae: 1.2055\n",
            "Epoch 413/500\n",
            "2/2 [==============================] - 0s 8ms/step - loss: 1.5586 - mae: 1.5586\n",
            "Epoch 414/500\n",
            "2/2 [==============================] - 0s 8ms/step - loss: 2.1017 - mae: 2.1017\n",
            "Epoch 415/500\n",
            "2/2 [==============================] - 0s 8ms/step - loss: 1.1545 - mae: 1.1545\n",
            "Epoch 416/500\n",
            "2/2 [==============================] - 0s 8ms/step - loss: 1.2176 - mae: 1.2176\n",
            "Epoch 417/500\n",
            "2/2 [==============================] - 0s 8ms/step - loss: 0.9325 - mae: 0.9325\n",
            "Epoch 418/500\n",
            "2/2 [==============================] - 0s 8ms/step - loss: 1.1488 - mae: 1.1488\n",
            "Epoch 419/500\n",
            "2/2 [==============================] - 0s 7ms/step - loss: 0.6828 - mae: 0.6828\n",
            "Epoch 420/500\n",
            "2/2 [==============================] - 0s 7ms/step - loss: 0.4589 - mae: 0.4589\n",
            "Epoch 421/500\n",
            "2/2 [==============================] - 0s 9ms/step - loss: 0.5591 - mae: 0.5591\n",
            "Epoch 422/500\n",
            "2/2 [==============================] - 0s 9ms/step - loss: 0.9761 - mae: 0.9761\n",
            "Epoch 423/500\n",
            "2/2 [==============================] - 0s 10ms/step - loss: 0.9485 - mae: 0.9485\n",
            "Epoch 424/500\n",
            "2/2 [==============================] - 0s 8ms/step - loss: 1.2721 - mae: 1.2721\n",
            "Epoch 425/500\n",
            "2/2 [==============================] - 0s 10ms/step - loss: 2.6596 - mae: 2.6596\n",
            "Epoch 426/500\n",
            "2/2 [==============================] - 0s 11ms/step - loss: 1.6523 - mae: 1.6523\n",
            "Epoch 427/500\n",
            "2/2 [==============================] - 0s 9ms/step - loss: 1.1660 - mae: 1.1660\n",
            "Epoch 428/500\n",
            "2/2 [==============================] - 0s 9ms/step - loss: 2.3115 - mae: 2.3115\n",
            "Epoch 429/500\n",
            "2/2 [==============================] - 0s 11ms/step - loss: 1.2337 - mae: 1.2337\n",
            "Epoch 430/500\n",
            "2/2 [==============================] - 0s 9ms/step - loss: 2.3961 - mae: 2.3961\n",
            "Epoch 431/500\n",
            "2/2 [==============================] - 0s 9ms/step - loss: 1.4796 - mae: 1.4796\n",
            "Epoch 432/500\n",
            "2/2 [==============================] - 0s 9ms/step - loss: 0.8779 - mae: 0.8779\n",
            "Epoch 433/500\n",
            "2/2 [==============================] - 0s 8ms/step - loss: 1.4332 - mae: 1.4332\n",
            "Epoch 434/500\n",
            "2/2 [==============================] - 0s 8ms/step - loss: 3.6825 - mae: 3.6825\n",
            "Epoch 435/500\n",
            "2/2 [==============================] - 0s 9ms/step - loss: 2.3143 - mae: 2.3143\n",
            "Epoch 436/500\n",
            "2/2 [==============================] - 0s 9ms/step - loss: 0.2279 - mae: 0.2279\n",
            "Epoch 437/500\n",
            "2/2 [==============================] - 0s 13ms/step - loss: 0.5735 - mae: 0.5735\n",
            "Epoch 438/500\n",
            "2/2 [==============================] - 0s 12ms/step - loss: 1.3562 - mae: 1.3562\n",
            "Epoch 439/500\n",
            "2/2 [==============================] - 0s 13ms/step - loss: 1.5750 - mae: 1.5750\n",
            "Epoch 440/500\n",
            "2/2 [==============================] - 0s 13ms/step - loss: 1.5522 - mae: 1.5522\n",
            "Epoch 441/500\n",
            "2/2 [==============================] - 0s 10ms/step - loss: 1.1522 - mae: 1.1522\n",
            "Epoch 442/500\n",
            "2/2 [==============================] - 0s 14ms/step - loss: 0.4284 - mae: 0.4284\n",
            "Epoch 443/500\n",
            "2/2 [==============================] - 0s 15ms/step - loss: 1.1857 - mae: 1.1857\n",
            "Epoch 444/500\n",
            "2/2 [==============================] - 0s 20ms/step - loss: 1.4575 - mae: 1.4575\n",
            "Epoch 445/500\n",
            "2/2 [==============================] - 0s 13ms/step - loss: 0.8969 - mae: 0.8969\n",
            "Epoch 446/500\n",
            "2/2 [==============================] - 0s 12ms/step - loss: 1.0590 - mae: 1.0590\n",
            "Epoch 447/500\n",
            "2/2 [==============================] - 0s 9ms/step - loss: 0.1557 - mae: 0.1557\n",
            "Epoch 448/500\n",
            "2/2 [==============================] - 0s 10ms/step - loss: 0.8713 - mae: 0.8713\n",
            "Epoch 449/500\n",
            "2/2 [==============================] - 0s 11ms/step - loss: 0.8659 - mae: 0.8659\n",
            "Epoch 450/500\n",
            "2/2 [==============================] - 0s 10ms/step - loss: 0.7384 - mae: 0.7384\n",
            "Epoch 451/500\n",
            "2/2 [==============================] - 0s 15ms/step - loss: 0.6705 - mae: 0.6705\n",
            "Epoch 452/500\n",
            "2/2 [==============================] - 0s 9ms/step - loss: 0.5832 - mae: 0.5832\n",
            "Epoch 453/500\n",
            "2/2 [==============================] - 0s 9ms/step - loss: 1.3741 - mae: 1.3741\n",
            "Epoch 454/500\n",
            "2/2 [==============================] - 0s 8ms/step - loss: 2.8563 - mae: 2.8563\n",
            "Epoch 455/500\n",
            "2/2 [==============================] - 0s 10ms/step - loss: 3.3445 - mae: 3.3445\n",
            "Epoch 456/500\n",
            "2/2 [==============================] - 0s 9ms/step - loss: 0.9454 - mae: 0.9454\n",
            "Epoch 457/500\n",
            "2/2 [==============================] - 0s 16ms/step - loss: 0.8427 - mae: 0.8427\n",
            "Epoch 458/500\n",
            "2/2 [==============================] - 0s 11ms/step - loss: 2.2280 - mae: 2.2280\n",
            "Epoch 459/500\n",
            "2/2 [==============================] - 0s 11ms/step - loss: 2.6199 - mae: 2.6199\n",
            "Epoch 460/500\n",
            "2/2 [==============================] - 0s 8ms/step - loss: 1.7648 - mae: 1.7648\n",
            "Epoch 461/500\n",
            "2/2 [==============================] - 0s 19ms/step - loss: 3.1772 - mae: 3.1772\n",
            "Epoch 462/500\n",
            "2/2 [==============================] - 0s 18ms/step - loss: 3.4494 - mae: 3.4494\n",
            "Epoch 463/500\n",
            "2/2 [==============================] - 0s 12ms/step - loss: 1.2057 - mae: 1.2057\n",
            "Epoch 464/500\n",
            "2/2 [==============================] - 0s 15ms/step - loss: 4.6308 - mae: 4.6308\n",
            "Epoch 465/500\n",
            "2/2 [==============================] - 0s 10ms/step - loss: 11.7788 - mae: 11.7788\n",
            "Epoch 466/500\n",
            "2/2 [==============================] - 0s 7ms/step - loss: 5.0732 - mae: 5.0732\n",
            "Epoch 467/500\n",
            "2/2 [==============================] - 0s 7ms/step - loss: 7.6621 - mae: 7.6621\n",
            "Epoch 468/500\n",
            "2/2 [==============================] - 0s 8ms/step - loss: 4.1311 - mae: 4.1311\n",
            "Epoch 469/500\n",
            "2/2 [==============================] - 0s 7ms/step - loss: 1.1779 - mae: 1.1779\n",
            "Epoch 470/500\n",
            "2/2 [==============================] - 0s 8ms/step - loss: 2.6528 - mae: 2.6528\n",
            "Epoch 471/500\n",
            "2/2 [==============================] - 0s 8ms/step - loss: 5.8697 - mae: 5.8697\n",
            "Epoch 472/500\n",
            "2/2 [==============================] - 0s 7ms/step - loss: 3.3793 - mae: 3.3793\n",
            "Epoch 473/500\n",
            "2/2 [==============================] - 0s 8ms/step - loss: 1.4715 - mae: 1.4715\n",
            "Epoch 474/500\n",
            "2/2 [==============================] - 0s 8ms/step - loss: 0.6251 - mae: 0.6251\n",
            "Epoch 475/500\n",
            "2/2 [==============================] - 0s 7ms/step - loss: 2.9350 - mae: 2.9350\n",
            "Epoch 476/500\n",
            "2/2 [==============================] - 0s 11ms/step - loss: 3.2998 - mae: 3.2998\n",
            "Epoch 477/500\n",
            "2/2 [==============================] - 0s 13ms/step - loss: 2.0764 - mae: 2.0764\n",
            "Epoch 478/500\n",
            "2/2 [==============================] - 0s 8ms/step - loss: 1.5023 - mae: 1.5023\n",
            "Epoch 479/500\n",
            "2/2 [==============================] - 0s 10ms/step - loss: 3.7415 - mae: 3.7415\n",
            "Epoch 480/500\n",
            "2/2 [==============================] - 0s 9ms/step - loss: 2.1504 - mae: 2.1504\n",
            "Epoch 481/500\n",
            "2/2 [==============================] - 0s 13ms/step - loss: 1.9011 - mae: 1.9011\n",
            "Epoch 482/500\n",
            "2/2 [==============================] - 0s 8ms/step - loss: 1.5004 - mae: 1.5004\n",
            "Epoch 483/500\n",
            "2/2 [==============================] - 0s 8ms/step - loss: 0.8274 - mae: 0.8274\n",
            "Epoch 484/500\n",
            "2/2 [==============================] - 0s 11ms/step - loss: 1.3753 - mae: 1.3753\n",
            "Epoch 485/500\n",
            "2/2 [==============================] - 0s 8ms/step - loss: 2.3209 - mae: 2.3209\n",
            "Epoch 486/500\n",
            "2/2 [==============================] - 0s 11ms/step - loss: 1.0031 - mae: 1.0031\n",
            "Epoch 487/500\n",
            "2/2 [==============================] - 0s 12ms/step - loss: 3.6692 - mae: 3.6692\n",
            "Epoch 488/500\n",
            "2/2 [==============================] - 0s 10ms/step - loss: 1.2607 - mae: 1.2607\n",
            "Epoch 489/500\n",
            "2/2 [==============================] - 0s 8ms/step - loss: 0.8206 - mae: 0.8206\n",
            "Epoch 490/500\n",
            "2/2 [==============================] - 0s 20ms/step - loss: 3.3226 - mae: 3.3226\n",
            "Epoch 491/500\n",
            "2/2 [==============================] - 0s 14ms/step - loss: 2.1503 - mae: 2.1503\n",
            "Epoch 492/500\n",
            "2/2 [==============================] - 0s 8ms/step - loss: 1.7179 - mae: 1.7179\n",
            "Epoch 493/500\n",
            "2/2 [==============================] - 0s 9ms/step - loss: 2.5800 - mae: 2.5800\n",
            "Epoch 494/500\n",
            "2/2 [==============================] - 0s 8ms/step - loss: 2.0500 - mae: 2.0500\n",
            "Epoch 495/500\n",
            "2/2 [==============================] - 0s 8ms/step - loss: 1.0588 - mae: 1.0588\n",
            "Epoch 496/500\n",
            "2/2 [==============================] - 0s 8ms/step - loss: 4.2437 - mae: 4.2437\n",
            "Epoch 497/500\n",
            "2/2 [==============================] - 0s 8ms/step - loss: 1.6330 - mae: 1.6330\n",
            "Epoch 498/500\n",
            "2/2 [==============================] - 0s 7ms/step - loss: 2.9413 - mae: 2.9413\n",
            "Epoch 499/500\n",
            "2/2 [==============================] - 0s 7ms/step - loss: 2.6248 - mae: 2.6248\n",
            "Epoch 500/500\n",
            "2/2 [==============================] - 0s 8ms/step - loss: 3.8834 - mae: 3.8834\n"
          ]
        },
        {
          "output_type": "execute_result",
          "data": {
            "text/plain": [
              "<keras.callbacks.History at 0x7fc93b2ac970>"
            ]
          },
          "metadata": {},
          "execution_count": 58
        }
      ]
    },
    {
      "cell_type": "code",
      "source": [
        "# make and plot predictions for model_3\n",
        "y_pred_3 = model_3.predict(X_test)\n",
        "plot_prediction(predictions=y_pred_3)"
      ],
      "metadata": {
        "colab": {
          "base_uri": "https://localhost:8080/",
          "height": 446
        },
        "id": "my3bLdTbF0Gw",
        "outputId": "02c47d1b-2d67-43d2-fad9-c176872941f5"
      },
      "execution_count": null,
      "outputs": [
        {
          "output_type": "stream",
          "name": "stdout",
          "text": [
            "1/1 [==============================] - 0s 166ms/step\n"
          ]
        },
        {
          "output_type": "display_data",
          "data": {
            "text/plain": [
              "<Figure size 720x504 with 1 Axes>"
            ],
            "image/png": "[encoded data removed]"
          },
          "metadata": {
            "needs_background": "light"
          }
        }
      ]
    },
    {
      "cell_type": "code",
      "source": [
        "#calculate model_3 evaluation mwtrics\n",
        "mae_3 = MAE(Y_test,y_pred_3)\n",
        "mse_3 = MSE(Y_test,y_pred_3)\n",
        "mae_3,mse_3"
      ],
      "metadata": {
        "colab": {
          "base_uri": "https://localhost:8080/"
        },
        "id": "Y6872p_2GMoU",
        "outputId": "1a55c69b-2122-4a32-c1db-e85a9e133e0c"
      },
      "execution_count": null,
      "outputs": [
        {
          "output_type": "execute_result",
          "data": {
            "text/plain": [
              "(<tf.Tensor: shape=(), dtype=float32, numpy=2.1217918>,\n",
              " <tf.Tensor: shape=(), dtype=float32, numpy=4.65964>)"
            ]
          },
          "metadata": {},
          "execution_count": 60
        }
      ]
    },
    {
      "cell_type": "code",
      "source": [
        "#comparing the result of the models we have trained using pandas dataframe\n",
        "import pandas as pd\n",
        "\n",
        "model_results = [[\"model_1\",mae_1.numpy(),mse_1.numpy()],\n",
        "                 [\"model_2\",mae_2.numpy(),mse_2.numpy()],\n",
        "                 [\"model_3\",mae_3.numpy(),mse_3.numpy()]]\n",
        "\n",
        "all_results = pd.DataFrame(model_results,columns=[\"model\",\"mae\",\"mse\"])\n",
        "all_results"
      ],
      "metadata": {
        "colab": {
          "base_uri": "https://localhost:8080/",
          "height": 143
        },
        "id": "sVF9rhN1HHes",
        "outputId": "b1f5e02e-439c-4e06-b8e1-d571bf74cf52"
      },
      "execution_count": null,
      "outputs": [
        {
          "output_type": "execute_result",
          "data": {
            "text/plain": [
              "     model        mae          mse\n",
              "0  model_1  33.879948  1159.239868\n",
              "1  model_2   6.901774    48.692383\n",
              "2  model_3   2.121792     4.659640"
            ],
            "text/html": [
              "\n",
              "  <div id=\"df-7b80f6f3-39c6-4f3b-bd61-395d05f22df7\">\n",
              "    <div class=\"colab-df-container\">\n",
              "      <div>\n",
              "<style scoped>\n",
              "    .dataframe tbody tr th:only-of-type {\n",
              "        vertical-align: middle;\n",
              "    }\n",
              "\n",
              "    .dataframe tbody tr th {\n",
              "        vertical-align: top;\n",
              "    }\n",
              "\n",
              "    .dataframe thead th {\n",
              "        text-align: right;\n",
              "    }\n",
              "</style>\n",
              "<table border=\"1\" class=\"dataframe\">\n",
              "  <thead>\n",
              "    <tr style=\"text-align: right;\">\n",
              "      <th></th>\n",
              "      <th>model</th>\n",
              "      <th>mae</th>\n",
              "      <th>mse</th>\n",
              "    </tr>\n",
              "  </thead>\n",
              "  <tbody>\n",
              "    <tr>\n",
              "      <th>0</th>\n",
              "      <td>model_1</td>\n",
              "      <td>33.879948</td>\n",
              "      <td>1159.239868</td>\n",
              "    </tr>\n",
              "    <tr>\n",
              "      <th>1</th>\n",
              "      <td>model_2</td>\n",
              "      <td>6.901774</td>\n",
              "      <td>48.692383</td>\n",
              "    </tr>\n",
              "    <tr>\n",
              "      <th>2</th>\n",
              "      <td>model_3</td>\n",
              "      <td>2.121792</td>\n",
              "      <td>4.659640</td>\n",
              "    </tr>\n",
              "  </tbody>\n",
              "</table>\n",
              "</div>\n",
              "      <button class=\"colab-df-convert\" onclick=\"convertToInteractive('df-7b80f6f3-39c6-4f3b-bd61-395d05f22df7')\"\n",
              "              title=\"Convert this dataframe to an interactive table.\"\n",
              "              style=\"display:none;\">\n",
              "        \n",
              "  <svg xmlns=\"http://www.w3.org/2000/svg\" height=\"24px\"viewBox=\"0 0 24 24\"\n",
              "       width=\"24px\">\n",
              "    <path d=\"M0 0h24v24H0V0z\" fill=\"none\"/>\n",
              "    <path d=\"M18.56 5.44l.94 2.06.94-2.06 2.06-.94-2.06-.94-.94-2.06-.94 2.06-2.06.94zm-11 1L8.5 8.5l.94-2.06 2.06-.94-2.06-.94L8.5 2.5l-.94 2.06-2.06.94zm10 10l.94 2.06.94-2.06 2.06-.94-2.06-.94-.94-2.06-.94 2.06-2.06.94z\"/><path d=\"M17.41 7.96l-1.37-1.37c-.4-.4-.92-.59-1.43-.59-.52 0-1.04.2-1.43.59L10.3 9.45l-7.72 7.72c-.78.78-.78 2.05 0 2.83L4 21.41c.39.39.9.59 1.41.59.51 0 1.02-.2 1.41-.59l7.78-7.78 2.81-2.81c.8-.78.8-2.07 0-2.86zM5.41 20L4 18.59l7.72-7.72 1.47 1.35L5.41 20z\"/>\n",
              "  </svg>\n",
              "      </button>\n",
              "      \n",
              "  <style>\n",
              "    .colab-df-container {\n",
              "      display:flex;\n",
              "      flex-wrap:wrap;\n",
              "      gap: 12px;\n",
              "    }\n",
              "\n",
              "    .colab-df-convert {\n",
              "      background-color: #E8F0FE;\n",
              "      border: none;\n",
              "      border-radius: 50%;\n",
              "      cursor: pointer;\n",
              "      display: none;\n",
              "      fill: #1967D2;\n",
              "      height: 32px;\n",
              "      padding: 0 0 0 0;\n",
              "      width: 32px;\n",
              "    }\n",
              "\n",
              "    .colab-df-convert:hover {\n",
              "      background-color: #E2EBFA;\n",
              "      box-shadow: 0px 1px 2px rgba(60, 64, 67, 0.3), 0px 1px 3px 1px rgba(60, 64, 67, 0.15);\n",
              "      fill: #174EA6;\n",
              "    }\n",
              "\n",
              "    [theme=dark] .colab-df-convert {\n",
              "      background-color: #3B4455;\n",
              "      fill: #D2E3FC;\n",
              "    }\n",
              "\n",
              "    [theme=dark] .colab-df-convert:hover {\n",
              "      background-color: #434B5C;\n",
              "      box-shadow: 0px 1px 3px 1px rgba(0, 0, 0, 0.15);\n",
              "      filter: drop-shadow(0px 1px 2px rgba(0, 0, 0, 0.3));\n",
              "      fill: #FFFFFF;\n",
              "    }\n",
              "  </style>\n",
              "\n",
              "      <script>\n",
              "        const buttonEl =\n",
              "          document.querySelector('#df-7b80f6f3-39c6-4f3b-bd61-395d05f22df7 button.colab-df-convert');\n",
              "        buttonEl.style.display =\n",
              "          google.colab.kernel.accessAllowed ? 'block' : 'none';\n",
              "\n",
              "        async function convertToInteractive(key) {\n",
              "          const element = document.querySelector('#df-7b80f6f3-39c6-4f3b-bd61-395d05f22df7');\n",
              "          const dataTable =\n",
              "            await google.colab.kernel.invokeFunction('convertToInteractive',\n",
              "                                                     [key], {});\n",
              "          if (!dataTable) return;\n",
              "\n",
              "          const docLinkHtml = 'Like what you see? Visit the ' +\n",
              "            '<a target=\"_blank\" href=https://colab.research.google.com/notebooks/data_table.ipynb>data table notebook</a>'\n",
              "            + ' to learn more about interactive tables.';\n",
              "          element.innerHTML = '';\n",
              "          dataTable['output_type'] = 'display_data';\n",
              "          await google.colab.output.renderOutput(dataTable, element);\n",
              "          const docLink = document.createElement('div');\n",
              "          docLink.innerHTML = docLinkHtml;\n",
              "          element.appendChild(docLink);\n",
              "        }\n",
              "      </script>\n",
              "    </div>\n",
              "  </div>\n",
              "  "
            ]
          },
          "metadata": {},
          "execution_count": 61
        }
      ]
    },
    {
      "cell_type": "markdown",
      "source": [
        "Looks like model 3 performed the best"
      ],
      "metadata": {
        "id": "K44xKwU8IhPB"
      }
    },
    {
      "cell_type": "markdown",
      "source": [
        "# Tracking your experiments\n",
        "One really good habit in machine learning modelling is to track the results of your experiments.\n",
        "And when doing so, it can be tedious if you're running lots of experiments.\n",
        "Luckily, there are tools to help us!\n",
        "\n",
        "📖 Resource: As you build more models, you'll want to look into using:\n",
        "\n",
        "\n",
        "*   ensorBoard - a component of the TensorFlow library to help track modelling experiments (we'll see this one later).\n",
        "*   Weights & Biases - a tool for tracking all of kinds of machine learning experiments (plugs straight into TensorBoard).\n",
        "\n"
      ],
      "metadata": {
        "id": "AjjZFZiUJENm"
      }
    },
    {
      "cell_type": "markdown",
      "source": [
        "# Saving our models\n",
        "Saving our models allows us to use them outside of Google Colab (or wherever they were trained) such as in a web application or a mobile app.\n",
        "\n",
        "There are two main formats we can save our model's too:\n",
        "\n",
        "\n",
        "*   The SavedModel format\n",
        "*   The HDF5 format\n",
        "\n"
      ],
      "metadata": {
        "id": "tME1mi-LJoIS"
      }
    },
    {
      "cell_type": "code",
      "source": [
        "#saving our model\n",
        "model_3.save(\"best_model_yet\")"
      ],
      "metadata": {
        "id": "Lv5UIbvZLctx"
      },
      "execution_count": null,
      "outputs": []
    },
    {
      "cell_type": "code",
      "source": [
        "#saving our model in HDF5 format\n",
        "model_3.save(\"best_model_yet.h5\")"
      ],
      "metadata": {
        "id": "6eJrRW3AKP9R"
      },
      "execution_count": null,
      "outputs": []
    },
    {
      "cell_type": "code",
      "source": [
        "#to load the saved model - Default Model\n",
        "\n",
        "loaded_model = tf.keras.models.load_model(\"/content/best_model_yet\")\n",
        "loaded_model.summary()"
      ],
      "metadata": {
        "colab": {
          "base_uri": "https://localhost:8080/"
        },
        "id": "4fodzL62LUhR",
        "outputId": "6bbf9601-9883-456b-b019-634b3dbd79bc"
      },
      "execution_count": null,
      "outputs": [
        {
          "output_type": "stream",
          "name": "stdout",
          "text": [
            "Model: \"sequential_8\"\n",
            "_________________________________________________________________\n",
            " Layer (type)                Output Shape              Param #   \n",
            "=================================================================\n",
            " dense_14 (Dense)            (None, 100)               200       \n",
            "                                                                 \n",
            " dense_15 (Dense)            (None, 1)                 101       \n",
            "                                                                 \n",
            "=================================================================\n",
            "Total params: 301\n",
            "Trainable params: 301\n",
            "Non-trainable params: 0\n",
            "_________________________________________________________________\n"
          ]
        }
      ]
    },
    {
      "cell_type": "code",
      "source": [
        "# make and plot predictions for loaded_model to check wether the weights are same or not\n",
        "y_pred_loaded = loaded_model.predict(X_test)\n",
        "plot_prediction(predictions=y_pred_loaded)"
      ],
      "metadata": {
        "colab": {
          "base_uri": "https://localhost:8080/",
          "height": 446
        },
        "id": "jpu4fPnjMxVf",
        "outputId": "0d4a4fcd-df6b-43d8-a56b-29d6095bc4e4"
      },
      "execution_count": null,
      "outputs": [
        {
          "output_type": "stream",
          "name": "stdout",
          "text": [
            "1/1 [==============================] - 0s 87ms/step\n"
          ]
        },
        {
          "output_type": "display_data",
          "data": {
            "text/plain": [
              "<Figure size 720x504 with 1 Axes>"
            ],
            "image/png": "[encoded data removed]"
          },
          "metadata": {
            "needs_background": "light"
          }
        }
      ]
    },
    {
      "cell_type": "markdown",
      "source": [
        "# Download a model (or any other file) from Google Colab"
      ],
      "metadata": {
        "id": "qqCDOCu_N7Xi"
      }
    },
    {
      "cell_type": "code",
      "source": [
        "#download the model\n",
        "from google.colab import files\n",
        "files.download(\"/content/best_model_yet.h5\")"
      ],
      "metadata": {
        "colab": {
          "base_uri": "https://localhost:8080/",
          "height": 17
        },
        "id": "Bx9ltaK0OM1O",
        "outputId": "95c28eb9-702d-4a8c-9af6-f84994d34e2c"
      },
      "execution_count": null,
      "outputs": [
        {
          "output_type": "display_data",
          "data": {
            "text/plain": [
              "<IPython.core.display.Javascript object>"
            ],
            "application/javascript": [
              "\n",
              "    async function download(id, filename, size) {\n",
              "      if (!google.colab.kernel.accessAllowed) {\n",
              "        return;\n",
              "      }\n",
              "      const div = document.createElement('div');\n",
              "      const label = document.createElement('label');\n",
              "      label.textContent = `Downloading \"${filename}\": `;\n",
              "      div.appendChild(label);\n",
              "      const progress = document.createElement('progress');\n",
              "      progress.max = size;\n",
              "      div.appendChild(progress);\n",
              "      document.body.appendChild(div);\n",
              "\n",
              "      const buffers = [];\n",
              "      let downloaded = 0;\n",
              "\n",
              "      const channel = await google.colab.kernel.comms.open(id);\n",
              "      // Send a message to notify the kernel that we're ready.\n",
              "      channel.send({})\n",
              "\n",
              "      for await (const message of channel.messages) {\n",
              "        // Send a message to notify the kernel that we're ready.\n",
              "        channel.send({})\n",
              "        if (message.buffers) {\n",
              "          for (const buffer of message.buffers) {\n",
              "            buffers.push(buffer);\n",
              "            downloaded += buffer.byteLength;\n",
              "            progress.value = downloaded;\n",
              "          }\n",
              "        }\n",
              "      }\n",
              "      const blob = new Blob(buffers, {type: 'application/binary'});\n",
              "      const a = document.createElement('a');\n",
              "      a.href = window.URL.createObjectURL(blob);\n",
              "      a.download = filename;\n",
              "      div.appendChild(a);\n",
              "      a.click();\n",
              "      div.remove();\n",
              "    }\n",
              "  "
            ]
          },
          "metadata": {}
        },
        {
          "output_type": "display_data",
          "data": {
            "text/plain": [
              "<IPython.core.display.Javascript object>"
            ],
            "application/javascript": [
              "download(\"download_7dab9a22-e59c-41ad-a9ac-52d9759aa99f\", \"best_model_yet.h5\", 28248)"
            ]
          },
          "metadata": {}
        }
      ]
    },
    {
      "cell_type": "code",
      "source": [
        "#save it to google drive directly without downloading it\n",
        "# --> !cp /content/best_model_yet.h5 TensorFlowCourse"
      ],
      "metadata": {
        "id": "bpVnRCTDOkCq"
      },
      "execution_count": null,
      "outputs": []
    },
    {
      "cell_type": "markdown",
      "source": [
        "**Larger Dataset**"
      ],
      "metadata": {
        "id": "xb5TCbRcPYFJ"
      }
    },
    {
      "cell_type": "code",
      "source": [
        "# Read in the insurance dataset\n",
        "insurance = pd.read_csv(\"https://raw.githubusercontent.com/stedy/Machine-Learning-with-R-datasets/master/insurance.csv\")\n",
        "insurance"
      ],
      "metadata": {
        "colab": {
          "base_uri": "https://localhost:8080/",
          "height": 424
        },
        "id": "rLJ1fe5SPeGk",
        "outputId": "a0e39e5c-b9c8-4cfe-cd07-4797f4372ca0"
      },
      "execution_count": null,
      "outputs": [
        {
          "output_type": "execute_result",
          "data": {
            "text/plain": [
              "      age     sex     bmi  children smoker     region      charges\n",
              "0      19  female  27.900         0    yes  southwest  16884.92400\n",
              "1      18    male  33.770         1     no  southeast   1725.55230\n",
              "2      28    male  33.000         3     no  southeast   4449.46200\n",
              "3      33    male  22.705         0     no  northwest  21984.47061\n",
              "4      32    male  28.880         0     no  northwest   3866.85520\n",
              "...   ...     ...     ...       ...    ...        ...          ...\n",
              "1333   50    male  30.970         3     no  northwest  10600.54830\n",
              "1334   18  female  31.920         0     no  northeast   2205.98080\n",
              "1335   18  female  36.850         0     no  southeast   1629.83350\n",
              "1336   21  female  25.800         0     no  southwest   2007.94500\n",
              "1337   61  female  29.070         0    yes  northwest  29141.36030\n",
              "\n",
              "[1338 rows x 7 columns]"
            ],
            "text/html": [
              "\n",
              "  <div id=\"df-099f5781-770a-41de-9da3-4be625ce8325\">\n",
              "    <div class=\"colab-df-container\">\n",
              "      <div>\n",
              "<style scoped>\n",
              "    .dataframe tbody tr th:only-of-type {\n",
              "        vertical-align: middle;\n",
              "    }\n",
              "\n",
              "    .dataframe tbody tr th {\n",
              "        vertical-align: top;\n",
              "    }\n",
              "\n",
              "    .dataframe thead th {\n",
              "        text-align: right;\n",
              "    }\n",
              "</style>\n",
              "<table border=\"1\" class=\"dataframe\">\n",
              "  <thead>\n",
              "    <tr style=\"text-align: right;\">\n",
              "      <th></th>\n",
              "      <th>age</th>\n",
              "      <th>sex</th>\n",
              "      <th>bmi</th>\n",
              "      <th>children</th>\n",
              "      <th>smoker</th>\n",
              "      <th>region</th>\n",
              "      <th>charges</th>\n",
              "    </tr>\n",
              "  </thead>\n",
              "  <tbody>\n",
              "    <tr>\n",
              "      <th>0</th>\n",
              "      <td>19</td>\n",
              "      <td>female</td>\n",
              "      <td>27.900</td>\n",
              "      <td>0</td>\n",
              "      <td>yes</td>\n",
              "      <td>southwest</td>\n",
              "      <td>16884.92400</td>\n",
              "    </tr>\n",
              "    <tr>\n",
              "      <th>1</th>\n",
              "      <td>18</td>\n",
              "      <td>male</td>\n",
              "      <td>33.770</td>\n",
              "      <td>1</td>\n",
              "      <td>no</td>\n",
              "      <td>southeast</td>\n",
              "      <td>1725.55230</td>\n",
              "    </tr>\n",
              "    <tr>\n",
              "      <th>2</th>\n",
              "      <td>28</td>\n",
              "      <td>male</td>\n",
              "      <td>33.000</td>\n",
              "      <td>3</td>\n",
              "      <td>no</td>\n",
              "      <td>southeast</td>\n",
              "      <td>4449.46200</td>\n",
              "    </tr>\n",
              "    <tr>\n",
              "      <th>3</th>\n",
              "      <td>33</td>\n",
              "      <td>male</td>\n",
              "      <td>22.705</td>\n",
              "      <td>0</td>\n",
              "      <td>no</td>\n",
              "      <td>northwest</td>\n",
              "      <td>21984.47061</td>\n",
              "    </tr>\n",
              "    <tr>\n",
              "      <th>4</th>\n",
              "      <td>32</td>\n",
              "      <td>male</td>\n",
              "      <td>28.880</td>\n",
              "      <td>0</td>\n",
              "      <td>no</td>\n",
              "      <td>northwest</td>\n",
              "      <td>3866.85520</td>\n",
              "    </tr>\n",
              "    <tr>\n",
              "      <th>...</th>\n",
              "      <td>...</td>\n",
              "      <td>...</td>\n",
              "      <td>...</td>\n",
              "      <td>...</td>\n",
              "      <td>...</td>\n",
              "      <td>...</td>\n",
              "      <td>...</td>\n",
              "    </tr>\n",
              "    <tr>\n",
              "      <th>1333</th>\n",
              "      <td>50</td>\n",
              "      <td>male</td>\n",
              "      <td>30.970</td>\n",
              "      <td>3</td>\n",
              "      <td>no</td>\n",
              "      <td>northwest</td>\n",
              "      <td>10600.54830</td>\n",
              "    </tr>\n",
              "    <tr>\n",
              "      <th>1334</th>\n",
              "      <td>18</td>\n",
              "      <td>female</td>\n",
              "      <td>31.920</td>\n",
              "      <td>0</td>\n",
              "      <td>no</td>\n",
              "      <td>northeast</td>\n",
              "      <td>2205.98080</td>\n",
              "    </tr>\n",
              "    <tr>\n",
              "      <th>1335</th>\n",
              "      <td>18</td>\n",
              "      <td>female</td>\n",
              "      <td>36.850</td>\n",
              "      <td>0</td>\n",
              "      <td>no</td>\n",
              "      <td>southeast</td>\n",
              "      <td>1629.83350</td>\n",
              "    </tr>\n",
              "    <tr>\n",
              "      <th>1336</th>\n",
              "      <td>21</td>\n",
              "      <td>female</td>\n",
              "      <td>25.800</td>\n",
              "      <td>0</td>\n",
              "      <td>no</td>\n",
              "      <td>southwest</td>\n",
              "      <td>2007.94500</td>\n",
              "    </tr>\n",
              "    <tr>\n",
              "      <th>1337</th>\n",
              "      <td>61</td>\n",
              "      <td>female</td>\n",
              "      <td>29.070</td>\n",
              "      <td>0</td>\n",
              "      <td>yes</td>\n",
              "      <td>northwest</td>\n",
              "      <td>29141.36030</td>\n",
              "    </tr>\n",
              "  </tbody>\n",
              "</table>\n",
              "<p>1338 rows × 7 columns</p>\n",
              "</div>\n",
              "      <button class=\"colab-df-convert\" onclick=\"convertToInteractive('df-099f5781-770a-41de-9da3-4be625ce8325')\"\n",
              "              title=\"Convert this dataframe to an interactive table.\"\n",
              "              style=\"display:none;\">\n",
              "        \n",
              "  <svg xmlns=\"http://www.w3.org/2000/svg\" height=\"24px\"viewBox=\"0 0 24 24\"\n",
              "       width=\"24px\">\n",
              "    <path d=\"M0 0h24v24H0V0z\" fill=\"none\"/>\n",
              "    <path d=\"M18.56 5.44l.94 2.06.94-2.06 2.06-.94-2.06-.94-.94-2.06-.94 2.06-2.06.94zm-11 1L8.5 8.5l.94-2.06 2.06-.94-2.06-.94L8.5 2.5l-.94 2.06-2.06.94zm10 10l.94 2.06.94-2.06 2.06-.94-2.06-.94-.94-2.06-.94 2.06-2.06.94z\"/><path d=\"M17.41 7.96l-1.37-1.37c-.4-.4-.92-.59-1.43-.59-.52 0-1.04.2-1.43.59L10.3 9.45l-7.72 7.72c-.78.78-.78 2.05 0 2.83L4 21.41c.39.39.9.59 1.41.59.51 0 1.02-.2 1.41-.59l7.78-7.78 2.81-2.81c.8-.78.8-2.07 0-2.86zM5.41 20L4 18.59l7.72-7.72 1.47 1.35L5.41 20z\"/>\n",
              "  </svg>\n",
              "      </button>\n",
              "      \n",
              "  <style>\n",
              "    .colab-df-container {\n",
              "      display:flex;\n",
              "      flex-wrap:wrap;\n",
              "      gap: 12px;\n",
              "    }\n",
              "\n",
              "    .colab-df-convert {\n",
              "      background-color: #E8F0FE;\n",
              "      border: none;\n",
              "      border-radius: 50%;\n",
              "      cursor: pointer;\n",
              "      display: none;\n",
              "      fill: #1967D2;\n",
              "      height: 32px;\n",
              "      padding: 0 0 0 0;\n",
              "      width: 32px;\n",
              "    }\n",
              "\n",
              "    .colab-df-convert:hover {\n",
              "      background-color: #E2EBFA;\n",
              "      box-shadow: 0px 1px 2px rgba(60, 64, 67, 0.3), 0px 1px 3px 1px rgba(60, 64, 67, 0.15);\n",
              "      fill: #174EA6;\n",
              "    }\n",
              "\n",
              "    [theme=dark] .colab-df-convert {\n",
              "      background-color: #3B4455;\n",
              "      fill: #D2E3FC;\n",
              "    }\n",
              "\n",
              "    [theme=dark] .colab-df-convert:hover {\n",
              "      background-color: #434B5C;\n",
              "      box-shadow: 0px 1px 3px 1px rgba(0, 0, 0, 0.15);\n",
              "      filter: drop-shadow(0px 1px 2px rgba(0, 0, 0, 0.3));\n",
              "      fill: #FFFFFF;\n",
              "    }\n",
              "  </style>\n",
              "\n",
              "      <script>\n",
              "        const buttonEl =\n",
              "          document.querySelector('#df-099f5781-770a-41de-9da3-4be625ce8325 button.colab-df-convert');\n",
              "        buttonEl.style.display =\n",
              "          google.colab.kernel.accessAllowed ? 'block' : 'none';\n",
              "\n",
              "        async function convertToInteractive(key) {\n",
              "          const element = document.querySelector('#df-099f5781-770a-41de-9da3-4be625ce8325');\n",
              "          const dataTable =\n",
              "            await google.colab.kernel.invokeFunction('convertToInteractive',\n",
              "                                                     [key], {});\n",
              "          if (!dataTable) return;\n",
              "\n",
              "          const docLinkHtml = 'Like what you see? Visit the ' +\n",
              "            '<a target=\"_blank\" href=https://colab.research.google.com/notebooks/data_table.ipynb>data table notebook</a>'\n",
              "            + ' to learn more about interactive tables.';\n",
              "          element.innerHTML = '';\n",
              "          dataTable['output_type'] = 'display_data';\n",
              "          await google.colab.output.renderOutput(dataTable, element);\n",
              "          const docLink = document.createElement('div');\n",
              "          docLink.innerHTML = docLinkHtml;\n",
              "          element.appendChild(docLink);\n",
              "        }\n",
              "      </script>\n",
              "    </div>\n",
              "  </div>\n",
              "  "
            ]
          },
          "metadata": {},
          "execution_count": 68
        }
      ]
    },
    {
      "cell_type": "code",
      "source": [
        "insurance[\"smoker\"],insurance[\"age\"]"
      ],
      "metadata": {
        "colab": {
          "base_uri": "https://localhost:8080/"
        },
        "id": "mn2ENC66Qfq_",
        "outputId": "2f582207-4cee-46aa-c3ef-c27247fbe1e1"
      },
      "execution_count": null,
      "outputs": [
        {
          "output_type": "execute_result",
          "data": {
            "text/plain": [
              "(0       yes\n",
              " 1        no\n",
              " 2        no\n",
              " 3        no\n",
              " 4        no\n",
              "        ... \n",
              " 1333     no\n",
              " 1334     no\n",
              " 1335     no\n",
              " 1336     no\n",
              " 1337    yes\n",
              " Name: smoker, Length: 1338, dtype: object, 0       19\n",
              " 1       18\n",
              " 2       28\n",
              " 3       33\n",
              " 4       32\n",
              "         ..\n",
              " 1333    50\n",
              " 1334    18\n",
              " 1335    18\n",
              " 1336    21\n",
              " 1337    61\n",
              " Name: age, Length: 1338, dtype: int64)"
            ]
          },
          "metadata": {},
          "execution_count": 69
        }
      ]
    },
    {
      "cell_type": "markdown",
      "source": [
        "As we can see from above that dtype are different for different columns so for non integer columns we have to convert values of those models into numbers before passing it on to deep learning model by numerical encoding"
      ],
      "metadata": {
        "id": "hWH3ee67RPBL"
      }
    },
    {
      "cell_type": "code",
      "source": [
        "# Let's try one-hot encode our DataFrame so it's all numbers\n",
        "insurance_one_hot = pd.get_dummies(insurance)\n",
        "insurance_one_hot.head()"
      ],
      "metadata": {
        "colab": {
          "base_uri": "https://localhost:8080/",
          "height": 206
        },
        "id": "pJWNsMvURugl",
        "outputId": "9684cbb4-fe96-4a49-a971-7f9845fba28e"
      },
      "execution_count": null,
      "outputs": [
        {
          "output_type": "execute_result",
          "data": {
            "text/plain": [
              "   age     bmi  children      charges  sex_female  sex_male  smoker_no  \\\n",
              "0   19  27.900         0  16884.92400           1         0          0   \n",
              "1   18  33.770         1   1725.55230           0         1          1   \n",
              "2   28  33.000         3   4449.46200           0         1          1   \n",
              "3   33  22.705         0  21984.47061           0         1          1   \n",
              "4   32  28.880         0   3866.85520           0         1          1   \n",
              "\n",
              "   smoker_yes  region_northeast  region_northwest  region_southeast  \\\n",
              "0           1                 0                 0                 0   \n",
              "1           0                 0                 0                 1   \n",
              "2           0                 0                 0                 1   \n",
              "3           0                 0                 1                 0   \n",
              "4           0                 0                 1                 0   \n",
              "\n",
              "   region_southwest  \n",
              "0                 1  \n",
              "1                 0  \n",
              "2                 0  \n",
              "3                 0  \n",
              "4                 0  "
            ],
            "text/html": [
              "\n",
              "  <div id=\"df-fe1ec3dc-7e0c-4d1b-9640-3b19a63ead35\">\n",
              "    <div class=\"colab-df-container\">\n",
              "      <div>\n",
              "<style scoped>\n",
              "    .dataframe tbody tr th:only-of-type {\n",
              "        vertical-align: middle;\n",
              "    }\n",
              "\n",
              "    .dataframe tbody tr th {\n",
              "        vertical-align: top;\n",
              "    }\n",
              "\n",
              "    .dataframe thead th {\n",
              "        text-align: right;\n",
              "    }\n",
              "</style>\n",
              "<table border=\"1\" class=\"dataframe\">\n",
              "  <thead>\n",
              "    <tr style=\"text-align: right;\">\n",
              "      <th></th>\n",
              "      <th>age</th>\n",
              "      <th>bmi</th>\n",
              "      <th>children</th>\n",
              "      <th>charges</th>\n",
              "      <th>sex_female</th>\n",
              "      <th>sex_male</th>\n",
              "      <th>smoker_no</th>\n",
              "      <th>smoker_yes</th>\n",
              "      <th>region_northeast</th>\n",
              "      <th>region_northwest</th>\n",
              "      <th>region_southeast</th>\n",
              "      <th>region_southwest</th>\n",
              "    </tr>\n",
              "  </thead>\n",
              "  <tbody>\n",
              "    <tr>\n",
              "      <th>0</th>\n",
              "      <td>19</td>\n",
              "      <td>27.900</td>\n",
              "      <td>0</td>\n",
              "      <td>16884.92400</td>\n",
              "      <td>1</td>\n",
              "      <td>0</td>\n",
              "      <td>0</td>\n",
              "      <td>1</td>\n",
              "      <td>0</td>\n",
              "      <td>0</td>\n",
              "      <td>0</td>\n",
              "      <td>1</td>\n",
              "    </tr>\n",
              "    <tr>\n",
              "      <th>1</th>\n",
              "      <td>18</td>\n",
              "      <td>33.770</td>\n",
              "      <td>1</td>\n",
              "      <td>1725.55230</td>\n",
              "      <td>0</td>\n",
              "      <td>1</td>\n",
              "      <td>1</td>\n",
              "      <td>0</td>\n",
              "      <td>0</td>\n",
              "      <td>0</td>\n",
              "      <td>1</td>\n",
              "      <td>0</td>\n",
              "    </tr>\n",
              "    <tr>\n",
              "      <th>2</th>\n",
              "      <td>28</td>\n",
              "      <td>33.000</td>\n",
              "      <td>3</td>\n",
              "      <td>4449.46200</td>\n",
              "      <td>0</td>\n",
              "      <td>1</td>\n",
              "      <td>1</td>\n",
              "      <td>0</td>\n",
              "      <td>0</td>\n",
              "      <td>0</td>\n",
              "      <td>1</td>\n",
              "      <td>0</td>\n",
              "    </tr>\n",
              "    <tr>\n",
              "      <th>3</th>\n",
              "      <td>33</td>\n",
              "      <td>22.705</td>\n",
              "      <td>0</td>\n",
              "      <td>21984.47061</td>\n",
              "      <td>0</td>\n",
              "      <td>1</td>\n",
              "      <td>1</td>\n",
              "      <td>0</td>\n",
              "      <td>0</td>\n",
              "      <td>1</td>\n",
              "      <td>0</td>\n",
              "      <td>0</td>\n",
              "    </tr>\n",
              "    <tr>\n",
              "      <th>4</th>\n",
              "      <td>32</td>\n",
              "      <td>28.880</td>\n",
              "      <td>0</td>\n",
              "      <td>3866.85520</td>\n",
              "      <td>0</td>\n",
              "      <td>1</td>\n",
              "      <td>1</td>\n",
              "      <td>0</td>\n",
              "      <td>0</td>\n",
              "      <td>1</td>\n",
              "      <td>0</td>\n",
              "      <td>0</td>\n",
              "    </tr>\n",
              "  </tbody>\n",
              "</table>\n",
              "</div>\n",
              "      <button class=\"colab-df-convert\" onclick=\"convertToInteractive('df-fe1ec3dc-7e0c-4d1b-9640-3b19a63ead35')\"\n",
              "              title=\"Convert this dataframe to an interactive table.\"\n",
              "              style=\"display:none;\">\n",
              "        \n",
              "  <svg xmlns=\"http://www.w3.org/2000/svg\" height=\"24px\"viewBox=\"0 0 24 24\"\n",
              "       width=\"24px\">\n",
              "    <path d=\"M0 0h24v24H0V0z\" fill=\"none\"/>\n",
              "    <path d=\"M18.56 5.44l.94 2.06.94-2.06 2.06-.94-2.06-.94-.94-2.06-.94 2.06-2.06.94zm-11 1L8.5 8.5l.94-2.06 2.06-.94-2.06-.94L8.5 2.5l-.94 2.06-2.06.94zm10 10l.94 2.06.94-2.06 2.06-.94-2.06-.94-.94-2.06-.94 2.06-2.06.94z\"/><path d=\"M17.41 7.96l-1.37-1.37c-.4-.4-.92-.59-1.43-.59-.52 0-1.04.2-1.43.59L10.3 9.45l-7.72 7.72c-.78.78-.78 2.05 0 2.83L4 21.41c.39.39.9.59 1.41.59.51 0 1.02-.2 1.41-.59l7.78-7.78 2.81-2.81c.8-.78.8-2.07 0-2.86zM5.41 20L4 18.59l7.72-7.72 1.47 1.35L5.41 20z\"/>\n",
              "  </svg>\n",
              "      </button>\n",
              "      \n",
              "  <style>\n",
              "    .colab-df-container {\n",
              "      display:flex;\n",
              "      flex-wrap:wrap;\n",
              "      gap: 12px;\n",
              "    }\n",
              "\n",
              "    .colab-df-convert {\n",
              "      background-color: #E8F0FE;\n",
              "      border: none;\n",
              "      border-radius: 50%;\n",
              "      cursor: pointer;\n",
              "      display: none;\n",
              "      fill: #1967D2;\n",
              "      height: 32px;\n",
              "      padding: 0 0 0 0;\n",
              "      width: 32px;\n",
              "    }\n",
              "\n",
              "    .colab-df-convert:hover {\n",
              "      background-color: #E2EBFA;\n",
              "      box-shadow: 0px 1px 2px rgba(60, 64, 67, 0.3), 0px 1px 3px 1px rgba(60, 64, 67, 0.15);\n",
              "      fill: #174EA6;\n",
              "    }\n",
              "\n",
              "    [theme=dark] .colab-df-convert {\n",
              "      background-color: #3B4455;\n",
              "      fill: #D2E3FC;\n",
              "    }\n",
              "\n",
              "    [theme=dark] .colab-df-convert:hover {\n",
              "      background-color: #434B5C;\n",
              "      box-shadow: 0px 1px 3px 1px rgba(0, 0, 0, 0.15);\n",
              "      filter: drop-shadow(0px 1px 2px rgba(0, 0, 0, 0.3));\n",
              "      fill: #FFFFFF;\n",
              "    }\n",
              "  </style>\n",
              "\n",
              "      <script>\n",
              "        const buttonEl =\n",
              "          document.querySelector('#df-fe1ec3dc-7e0c-4d1b-9640-3b19a63ead35 button.colab-df-convert');\n",
              "        buttonEl.style.display =\n",
              "          google.colab.kernel.accessAllowed ? 'block' : 'none';\n",
              "\n",
              "        async function convertToInteractive(key) {\n",
              "          const element = document.querySelector('#df-fe1ec3dc-7e0c-4d1b-9640-3b19a63ead35');\n",
              "          const dataTable =\n",
              "            await google.colab.kernel.invokeFunction('convertToInteractive',\n",
              "                                                     [key], {});\n",
              "          if (!dataTable) return;\n",
              "\n",
              "          const docLinkHtml = 'Like what you see? Visit the ' +\n",
              "            '<a target=\"_blank\" href=https://colab.research.google.com/notebooks/data_table.ipynb>data table notebook</a>'\n",
              "            + ' to learn more about interactive tables.';\n",
              "          element.innerHTML = '';\n",
              "          dataTable['output_type'] = 'display_data';\n",
              "          await google.colab.output.renderOutput(dataTable, element);\n",
              "          const docLink = document.createElement('div');\n",
              "          docLink.innerHTML = docLinkHtml;\n",
              "          element.appendChild(docLink);\n",
              "        }\n",
              "      </script>\n",
              "    </div>\n",
              "  </div>\n",
              "  "
            ]
          },
          "metadata": {},
          "execution_count": 70
        }
      ]
    },
    {
      "cell_type": "code",
      "source": [
        "# Create X & y values (features and labels)\n",
        "X = insurance_one_hot.drop(\"charges\", axis=1)\n",
        "y = insurance_one_hot[\"charges\"]"
      ],
      "metadata": {
        "id": "0-zsn7-6VgAK"
      },
      "execution_count": null,
      "outputs": []
    },
    {
      "cell_type": "code",
      "source": [
        "# View X\n",
        "X.head()"
      ],
      "metadata": {
        "colab": {
          "base_uri": "https://localhost:8080/",
          "height": 206
        },
        "id": "CLnFJwjJWZcw",
        "outputId": "8d8c03dd-6fe3-4df9-f80e-09b470999faf"
      },
      "execution_count": null,
      "outputs": [
        {
          "output_type": "execute_result",
          "data": {
            "text/plain": [
              "   age     bmi  children  sex_female  sex_male  smoker_no  smoker_yes  \\\n",
              "0   19  27.900         0           1         0          0           1   \n",
              "1   18  33.770         1           0         1          1           0   \n",
              "2   28  33.000         3           0         1          1           0   \n",
              "3   33  22.705         0           0         1          1           0   \n",
              "4   32  28.880         0           0         1          1           0   \n",
              "\n",
              "   region_northeast  region_northwest  region_southeast  region_southwest  \n",
              "0                 0                 0                 0                 1  \n",
              "1                 0                 0                 1                 0  \n",
              "2                 0                 0                 1                 0  \n",
              "3                 0                 1                 0                 0  \n",
              "4                 0                 1                 0                 0  "
            ],
            "text/html": [
              "\n",
              "  <div id=\"df-e0c77f41-14a4-422d-9e9f-8b745dfc186c\">\n",
              "    <div class=\"colab-df-container\">\n",
              "      <div>\n",
              "<style scoped>\n",
              "    .dataframe tbody tr th:only-of-type {\n",
              "        vertical-align: middle;\n",
              "    }\n",
              "\n",
              "    .dataframe tbody tr th {\n",
              "        vertical-align: top;\n",
              "    }\n",
              "\n",
              "    .dataframe thead th {\n",
              "        text-align: right;\n",
              "    }\n",
              "</style>\n",
              "<table border=\"1\" class=\"dataframe\">\n",
              "  <thead>\n",
              "    <tr style=\"text-align: right;\">\n",
              "      <th></th>\n",
              "      <th>age</th>\n",
              "      <th>bmi</th>\n",
              "      <th>children</th>\n",
              "      <th>sex_female</th>\n",
              "      <th>sex_male</th>\n",
              "      <th>smoker_no</th>\n",
              "      <th>smoker_yes</th>\n",
              "      <th>region_northeast</th>\n",
              "      <th>region_northwest</th>\n",
              "      <th>region_southeast</th>\n",
              "      <th>region_southwest</th>\n",
              "    </tr>\n",
              "  </thead>\n",
              "  <tbody>\n",
              "    <tr>\n",
              "      <th>0</th>\n",
              "      <td>19</td>\n",
              "      <td>27.900</td>\n",
              "      <td>0</td>\n",
              "      <td>1</td>\n",
              "      <td>0</td>\n",
              "      <td>0</td>\n",
              "      <td>1</td>\n",
              "      <td>0</td>\n",
              "      <td>0</td>\n",
              "      <td>0</td>\n",
              "      <td>1</td>\n",
              "    </tr>\n",
              "    <tr>\n",
              "      <th>1</th>\n",
              "      <td>18</td>\n",
              "      <td>33.770</td>\n",
              "      <td>1</td>\n",
              "      <td>0</td>\n",
              "      <td>1</td>\n",
              "      <td>1</td>\n",
              "      <td>0</td>\n",
              "      <td>0</td>\n",
              "      <td>0</td>\n",
              "      <td>1</td>\n",
              "      <td>0</td>\n",
              "    </tr>\n",
              "    <tr>\n",
              "      <th>2</th>\n",
              "      <td>28</td>\n",
              "      <td>33.000</td>\n",
              "      <td>3</td>\n",
              "      <td>0</td>\n",
              "      <td>1</td>\n",
              "      <td>1</td>\n",
              "      <td>0</td>\n",
              "      <td>0</td>\n",
              "      <td>0</td>\n",
              "      <td>1</td>\n",
              "      <td>0</td>\n",
              "    </tr>\n",
              "    <tr>\n",
              "      <th>3</th>\n",
              "      <td>33</td>\n",
              "      <td>22.705</td>\n",
              "      <td>0</td>\n",
              "      <td>0</td>\n",
              "      <td>1</td>\n",
              "      <td>1</td>\n",
              "      <td>0</td>\n",
              "      <td>0</td>\n",
              "      <td>1</td>\n",
              "      <td>0</td>\n",
              "      <td>0</td>\n",
              "    </tr>\n",
              "    <tr>\n",
              "      <th>4</th>\n",
              "      <td>32</td>\n",
              "      <td>28.880</td>\n",
              "      <td>0</td>\n",
              "      <td>0</td>\n",
              "      <td>1</td>\n",
              "      <td>1</td>\n",
              "      <td>0</td>\n",
              "      <td>0</td>\n",
              "      <td>1</td>\n",
              "      <td>0</td>\n",
              "      <td>0</td>\n",
              "    </tr>\n",
              "  </tbody>\n",
              "</table>\n",
              "</div>\n",
              "      <button class=\"colab-df-convert\" onclick=\"convertToInteractive('df-e0c77f41-14a4-422d-9e9f-8b745dfc186c')\"\n",
              "              title=\"Convert this dataframe to an interactive table.\"\n",
              "              style=\"display:none;\">\n",
              "        \n",
              "  <svg xmlns=\"http://www.w3.org/2000/svg\" height=\"24px\"viewBox=\"0 0 24 24\"\n",
              "       width=\"24px\">\n",
              "    <path d=\"M0 0h24v24H0V0z\" fill=\"none\"/>\n",
              "    <path d=\"M18.56 5.44l.94 2.06.94-2.06 2.06-.94-2.06-.94-.94-2.06-.94 2.06-2.06.94zm-11 1L8.5 8.5l.94-2.06 2.06-.94-2.06-.94L8.5 2.5l-.94 2.06-2.06.94zm10 10l.94 2.06.94-2.06 2.06-.94-2.06-.94-.94-2.06-.94 2.06-2.06.94z\"/><path d=\"M17.41 7.96l-1.37-1.37c-.4-.4-.92-.59-1.43-.59-.52 0-1.04.2-1.43.59L10.3 9.45l-7.72 7.72c-.78.78-.78 2.05 0 2.83L4 21.41c.39.39.9.59 1.41.59.51 0 1.02-.2 1.41-.59l7.78-7.78 2.81-2.81c.8-.78.8-2.07 0-2.86zM5.41 20L4 18.59l7.72-7.72 1.47 1.35L5.41 20z\"/>\n",
              "  </svg>\n",
              "      </button>\n",
              "      \n",
              "  <style>\n",
              "    .colab-df-container {\n",
              "      display:flex;\n",
              "      flex-wrap:wrap;\n",
              "      gap: 12px;\n",
              "    }\n",
              "\n",
              "    .colab-df-convert {\n",
              "      background-color: #E8F0FE;\n",
              "      border: none;\n",
              "      border-radius: 50%;\n",
              "      cursor: pointer;\n",
              "      display: none;\n",
              "      fill: #1967D2;\n",
              "      height: 32px;\n",
              "      padding: 0 0 0 0;\n",
              "      width: 32px;\n",
              "    }\n",
              "\n",
              "    .colab-df-convert:hover {\n",
              "      background-color: #E2EBFA;\n",
              "      box-shadow: 0px 1px 2px rgba(60, 64, 67, 0.3), 0px 1px 3px 1px rgba(60, 64, 67, 0.15);\n",
              "      fill: #174EA6;\n",
              "    }\n",
              "\n",
              "    [theme=dark] .colab-df-convert {\n",
              "      background-color: #3B4455;\n",
              "      fill: #D2E3FC;\n",
              "    }\n",
              "\n",
              "    [theme=dark] .colab-df-convert:hover {\n",
              "      background-color: #434B5C;\n",
              "      box-shadow: 0px 1px 3px 1px rgba(0, 0, 0, 0.15);\n",
              "      filter: drop-shadow(0px 1px 2px rgba(0, 0, 0, 0.3));\n",
              "      fill: #FFFFFF;\n",
              "    }\n",
              "  </style>\n",
              "\n",
              "      <script>\n",
              "        const buttonEl =\n",
              "          document.querySelector('#df-e0c77f41-14a4-422d-9e9f-8b745dfc186c button.colab-df-convert');\n",
              "        buttonEl.style.display =\n",
              "          google.colab.kernel.accessAllowed ? 'block' : 'none';\n",
              "\n",
              "        async function convertToInteractive(key) {\n",
              "          const element = document.querySelector('#df-e0c77f41-14a4-422d-9e9f-8b745dfc186c');\n",
              "          const dataTable =\n",
              "            await google.colab.kernel.invokeFunction('convertToInteractive',\n",
              "                                                     [key], {});\n",
              "          if (!dataTable) return;\n",
              "\n",
              "          const docLinkHtml = 'Like what you see? Visit the ' +\n",
              "            '<a target=\"_blank\" href=https://colab.research.google.com/notebooks/data_table.ipynb>data table notebook</a>'\n",
              "            + ' to learn more about interactive tables.';\n",
              "          element.innerHTML = '';\n",
              "          dataTable['output_type'] = 'display_data';\n",
              "          await google.colab.output.renderOutput(dataTable, element);\n",
              "          const docLink = document.createElement('div');\n",
              "          docLink.innerHTML = docLinkHtml;\n",
              "          element.appendChild(docLink);\n",
              "        }\n",
              "      </script>\n",
              "    </div>\n",
              "  </div>\n",
              "  "
            ]
          },
          "metadata": {},
          "execution_count": 72
        }
      ]
    },
    {
      "cell_type": "code",
      "source": [
        "# View y\n",
        "y.head()"
      ],
      "metadata": {
        "colab": {
          "base_uri": "https://localhost:8080/"
        },
        "id": "Ml22cK_oW0Gd",
        "outputId": "ea344f31-ff24-47a6-fa6e-835f5db8a583"
      },
      "execution_count": null,
      "outputs": [
        {
          "output_type": "execute_result",
          "data": {
            "text/plain": [
              "0    16884.92400\n",
              "1     1725.55230\n",
              "2     4449.46200\n",
              "3    21984.47061\n",
              "4     3866.85520\n",
              "Name: charges, dtype: float64"
            ]
          },
          "metadata": {},
          "execution_count": 73
        }
      ]
    },
    {
      "cell_type": "code",
      "source": [
        "# Create training and test sets\n",
        "from sklearn.model_selection import train_test_split\n",
        "X_train, X_test, y_train, y_test = train_test_split(X, y, test_size=0.2, random_state=42)\n",
        "len(X), len(X_train), len(X_test)"
      ],
      "metadata": {
        "colab": {
          "base_uri": "https://localhost:8080/"
        },
        "id": "8Kp4yDpBW3m9",
        "outputId": "78b3db60-2d27-4085-d4f6-f712d6f2749b"
      },
      "execution_count": null,
      "outputs": [
        {
          "output_type": "execute_result",
          "data": {
            "text/plain": [
              "(1338, 1070, 268)"
            ]
          },
          "metadata": {},
          "execution_count": 74
        }
      ]
    },
    {
      "cell_type": "code",
      "source": [
        "# Build a neural network (sort of like model_2 above)\n",
        "tf.random.set_seed(42)\n",
        "\n",
        "# 1. Create a model\n",
        "insurance_model = tf.keras.Sequential([\n",
        "  tf.keras.layers.Dense(100,activation=\"relu\"),\n",
        "  tf.keras.layers.Dense(100,activation=\"relu\"),\n",
        "  tf.keras.layers.Dense(100,activation=\"relu\"),\n",
        "  tf.keras.layers.Dense(1)\n",
        "])\n",
        "\n",
        "# 2. Compile the model\n",
        "insurance_model.compile(loss=tf.keras.losses.mae,\n",
        "                        optimizer=tf.keras.optimizers.legacy.Adam(learning_rate=0.1),\n",
        "                        metrics=[\"mae\"])\n",
        "\n",
        "# 3. Fit the model\n",
        "history=insurance_model.fit(tf.expand_dims(X_train,axis=-1), y_train, epochs=200)"
      ],
      "metadata": {
        "colab": {
          "base_uri": "https://localhost:8080/"
        },
        "id": "Bf98s9IJYabv",
        "outputId": "d04bf8d3-a413-4b3a-c6d0-50aab4739486"
      },
      "execution_count": null,
      "outputs": [
        {
          "output_type": "stream",
          "name": "stdout",
          "text": [
            "Epoch 1/200\n",
            "34/34 [==============================] - 1s 6ms/step - loss: 10173.1074 - mae: 10173.1074\n",
            "Epoch 2/200\n",
            "34/34 [==============================] - 0s 6ms/step - loss: 8502.7383 - mae: 8502.7383\n",
            "Epoch 3/200\n",
            "34/34 [==============================] - 0s 6ms/step - loss: 8425.7354 - mae: 8425.7354\n",
            "Epoch 4/200\n",
            "34/34 [==============================] - 0s 6ms/step - loss: 8299.4717 - mae: 8299.4717\n",
            "Epoch 5/200\n",
            "34/34 [==============================] - 0s 6ms/step - loss: 8329.9795 - mae: 8329.9795\n",
            "Epoch 6/200\n",
            "34/34 [==============================] - 0s 5ms/step - loss: 8341.9814 - mae: 8341.9814\n",
            "Epoch 7/200\n",
            "34/34 [==============================] - 0s 6ms/step - loss: 8441.0752 - mae: 8441.0752\n",
            "Epoch 8/200\n",
            "34/34 [==============================] - 0s 5ms/step - loss: 8867.6279 - mae: 8867.6279\n",
            "Epoch 9/200\n",
            "34/34 [==============================] - 0s 6ms/step - loss: 8346.1006 - mae: 8346.1006\n",
            "Epoch 10/200\n",
            "34/34 [==============================] - 0s 5ms/step - loss: 8460.9414 - mae: 8460.9414\n",
            "Epoch 11/200\n",
            "34/34 [==============================] - 0s 6ms/step - loss: 8525.2979 - mae: 8525.2979\n",
            "Epoch 12/200\n",
            "34/34 [==============================] - 0s 5ms/step - loss: 8264.4736 - mae: 8264.4736\n",
            "Epoch 13/200\n",
            "34/34 [==============================] - 0s 5ms/step - loss: 8599.5264 - mae: 8599.5264\n",
            "Epoch 14/200\n",
            "34/34 [==============================] - 0s 6ms/step - loss: 8373.3887 - mae: 8373.3887\n",
            "Epoch 15/200\n",
            "34/34 [==============================] - 0s 5ms/step - loss: 8344.5068 - mae: 8344.5068\n",
            "Epoch 16/200\n",
            "34/34 [==============================] - 0s 6ms/step - loss: 8228.6816 - mae: 8228.6816\n",
            "Epoch 17/200\n",
            "34/34 [==============================] - 0s 5ms/step - loss: 8253.4512 - mae: 8253.4512\n",
            "Epoch 18/200\n",
            "34/34 [==============================] - 0s 5ms/step - loss: 8314.5762 - mae: 8314.5762\n",
            "Epoch 19/200\n",
            "34/34 [==============================] - 0s 5ms/step - loss: 8344.7061 - mae: 8344.7061\n",
            "Epoch 20/200\n",
            "34/34 [==============================] - 0s 8ms/step - loss: 8359.7529 - mae: 8359.7529\n",
            "Epoch 21/200\n",
            "34/34 [==============================] - 0s 13ms/step - loss: 8237.4932 - mae: 8237.4932\n",
            "Epoch 22/200\n",
            "34/34 [==============================] - 0s 13ms/step - loss: 8331.1240 - mae: 8331.1240\n",
            "Epoch 23/200\n",
            "34/34 [==============================] - 0s 10ms/step - loss: 8262.4541 - mae: 8262.4541\n",
            "Epoch 24/200\n",
            "34/34 [==============================] - 0s 6ms/step - loss: 8274.0127 - mae: 8274.0127\n",
            "Epoch 25/200\n",
            "34/34 [==============================] - 0s 5ms/step - loss: 8225.8447 - mae: 8225.8447\n",
            "Epoch 26/200\n",
            "34/34 [==============================] - 0s 5ms/step - loss: 8305.8906 - mae: 8305.8906\n",
            "Epoch 27/200\n",
            "34/34 [==============================] - 0s 5ms/step - loss: 8291.5098 - mae: 8291.5098\n",
            "Epoch 28/200\n",
            "34/34 [==============================] - 0s 5ms/step - loss: 8306.1445 - mae: 8306.1445\n",
            "Epoch 29/200\n",
            "34/34 [==============================] - 0s 5ms/step - loss: 8272.0400 - mae: 8272.0400\n",
            "Epoch 30/200\n",
            "34/34 [==============================] - 0s 5ms/step - loss: 8309.6641 - mae: 8309.6641\n",
            "Epoch 31/200\n",
            "34/34 [==============================] - 0s 5ms/step - loss: 8249.2930 - mae: 8249.2930\n",
            "Epoch 32/200\n",
            "34/34 [==============================] - 0s 6ms/step - loss: 8308.2285 - mae: 8308.2285\n",
            "Epoch 33/200\n",
            "34/34 [==============================] - 0s 5ms/step - loss: 8243.7471 - mae: 8243.7471\n",
            "Epoch 34/200\n",
            "34/34 [==============================] - 0s 5ms/step - loss: 8309.1006 - mae: 8309.1006\n",
            "Epoch 35/200\n",
            "34/34 [==============================] - 0s 5ms/step - loss: 8447.9678 - mae: 8447.9678\n",
            "Epoch 36/200\n",
            "34/34 [==============================] - 0s 5ms/step - loss: 8277.5107 - mae: 8277.5107\n",
            "Epoch 37/200\n",
            "34/34 [==============================] - 0s 5ms/step - loss: 8317.0410 - mae: 8317.0410\n",
            "Epoch 38/200\n",
            "34/34 [==============================] - 0s 6ms/step - loss: 8314.2119 - mae: 8314.2119\n",
            "Epoch 39/200\n",
            "34/34 [==============================] - 0s 5ms/step - loss: 8317.4473 - mae: 8317.4473\n",
            "Epoch 40/200\n",
            "34/34 [==============================] - 0s 8ms/step - loss: 8262.5869 - mae: 8262.5869\n",
            "Epoch 41/200\n",
            "34/34 [==============================] - 0s 9ms/step - loss: 8247.2412 - mae: 8247.2412\n",
            "Epoch 42/200\n",
            "34/34 [==============================] - 0s 8ms/step - loss: 8216.8135 - mae: 8216.8135\n",
            "Epoch 43/200\n",
            "34/34 [==============================] - 0s 8ms/step - loss: 8328.6738 - mae: 8328.6738\n",
            "Epoch 44/200\n",
            "34/34 [==============================] - 0s 8ms/step - loss: 8371.1377 - mae: 8371.1377\n",
            "Epoch 45/200\n",
            "34/34 [==============================] - 0s 8ms/step - loss: 8249.4297 - mae: 8249.4297\n",
            "Epoch 46/200\n",
            "34/34 [==============================] - 0s 9ms/step - loss: 8340.7021 - mae: 8340.7021\n",
            "Epoch 47/200\n",
            "34/34 [==============================] - 0s 9ms/step - loss: 8392.4375 - mae: 8392.4375\n",
            "Epoch 48/200\n",
            "34/34 [==============================] - 0s 9ms/step - loss: 8365.7549 - mae: 8365.7549\n",
            "Epoch 49/200\n",
            "34/34 [==============================] - 0s 9ms/step - loss: 8284.5000 - mae: 8284.5000\n",
            "Epoch 50/200\n",
            "34/34 [==============================] - 0s 8ms/step - loss: 8329.6875 - mae: 8329.6875\n",
            "Epoch 51/200\n",
            "34/34 [==============================] - 0s 9ms/step - loss: 8278.4180 - mae: 8278.4180\n",
            "Epoch 52/200\n",
            "34/34 [==============================] - 0s 8ms/step - loss: 8352.6035 - mae: 8352.6035\n",
            "Epoch 53/200\n",
            "34/34 [==============================] - 0s 9ms/step - loss: 8285.6357 - mae: 8285.6357\n",
            "Epoch 54/200\n",
            "34/34 [==============================] - 0s 8ms/step - loss: 8324.7168 - mae: 8324.7168\n",
            "Epoch 55/200\n",
            "34/34 [==============================] - 0s 5ms/step - loss: 8387.3311 - mae: 8387.3311\n",
            "Epoch 56/200\n",
            "34/34 [==============================] - 0s 6ms/step - loss: 8369.2783 - mae: 8369.2783\n",
            "Epoch 57/200\n",
            "34/34 [==============================] - 0s 6ms/step - loss: 8301.6348 - mae: 8301.6348\n",
            "Epoch 58/200\n",
            "34/34 [==============================] - 0s 5ms/step - loss: 8245.3330 - mae: 8245.3330\n",
            "Epoch 59/200\n",
            "34/34 [==============================] - 0s 5ms/step - loss: 8227.0762 - mae: 8227.0762\n",
            "Epoch 60/200\n",
            "34/34 [==============================] - 0s 5ms/step - loss: 8392.7432 - mae: 8392.7432\n",
            "Epoch 61/200\n",
            "34/34 [==============================] - 0s 5ms/step - loss: 8343.1611 - mae: 8343.1611\n",
            "Epoch 62/200\n",
            "34/34 [==============================] - 0s 6ms/step - loss: 8339.6133 - mae: 8339.6133\n",
            "Epoch 63/200\n",
            "34/34 [==============================] - 0s 5ms/step - loss: 8276.3457 - mae: 8276.3457\n",
            "Epoch 64/200\n",
            "34/34 [==============================] - 0s 5ms/step - loss: 8264.6523 - mae: 8264.6523\n",
            "Epoch 65/200\n",
            "34/34 [==============================] - 0s 5ms/step - loss: 8225.4648 - mae: 8225.4648\n",
            "Epoch 66/200\n",
            "34/34 [==============================] - 0s 5ms/step - loss: 8256.9443 - mae: 8256.9443\n",
            "Epoch 67/200\n",
            "34/34 [==============================] - 0s 5ms/step - loss: 8302.5830 - mae: 8302.5830\n",
            "Epoch 68/200\n",
            "34/34 [==============================] - 0s 6ms/step - loss: 8264.7900 - mae: 8264.7900\n",
            "Epoch 69/200\n",
            "34/34 [==============================] - 0s 6ms/step - loss: 8350.8809 - mae: 8350.8809\n",
            "Epoch 70/200\n",
            "34/34 [==============================] - 0s 6ms/step - loss: 8265.9434 - mae: 8265.9434\n",
            "Epoch 71/200\n",
            "34/34 [==============================] - 0s 6ms/step - loss: 8300.3711 - mae: 8300.3711\n",
            "Epoch 72/200\n",
            "34/34 [==============================] - 0s 6ms/step - loss: 8259.2461 - mae: 8259.2461\n",
            "Epoch 73/200\n",
            "34/34 [==============================] - 0s 6ms/step - loss: 8263.5977 - mae: 8263.5977\n",
            "Epoch 74/200\n",
            "34/34 [==============================] - 0s 6ms/step - loss: 8240.9531 - mae: 8240.9531\n",
            "Epoch 75/200\n",
            "34/34 [==============================] - 0s 5ms/step - loss: 8224.2129 - mae: 8224.2129\n",
            "Epoch 76/200\n",
            "34/34 [==============================] - 0s 6ms/step - loss: 8258.2275 - mae: 8258.2275\n",
            "Epoch 77/200\n",
            "34/34 [==============================] - 0s 5ms/step - loss: 8262.0293 - mae: 8262.0293\n",
            "Epoch 78/200\n",
            "34/34 [==============================] - 0s 5ms/step - loss: 8244.0918 - mae: 8244.0918\n",
            "Epoch 79/200\n",
            "34/34 [==============================] - 0s 6ms/step - loss: 8245.5166 - mae: 8245.5166\n",
            "Epoch 80/200\n",
            "34/34 [==============================] - 0s 6ms/step - loss: 8247.7461 - mae: 8247.7461\n",
            "Epoch 81/200\n",
            "34/34 [==============================] - 0s 5ms/step - loss: 8248.8535 - mae: 8248.8535\n",
            "Epoch 82/200\n",
            "34/34 [==============================] - 0s 5ms/step - loss: 8229.0703 - mae: 8229.0703\n",
            "Epoch 83/200\n",
            "34/34 [==============================] - 0s 6ms/step - loss: 8238.8848 - mae: 8238.8848\n",
            "Epoch 84/200\n",
            "34/34 [==============================] - 0s 5ms/step - loss: 8221.8701 - mae: 8221.8701\n",
            "Epoch 85/200\n",
            "34/34 [==============================] - 0s 5ms/step - loss: 8246.3574 - mae: 8246.3574\n",
            "Epoch 86/200\n",
            "34/34 [==============================] - 0s 5ms/step - loss: 8246.8223 - mae: 8246.8223\n",
            "Epoch 87/200\n",
            "34/34 [==============================] - 0s 5ms/step - loss: 8261.2715 - mae: 8261.2715\n",
            "Epoch 88/200\n",
            "34/34 [==============================] - 0s 6ms/step - loss: 8258.1426 - mae: 8258.1426\n",
            "Epoch 89/200\n",
            "34/34 [==============================] - 0s 6ms/step - loss: 8307.3008 - mae: 8307.3008\n",
            "Epoch 90/200\n",
            "34/34 [==============================] - 0s 6ms/step - loss: 8226.7988 - mae: 8226.7988\n",
            "Epoch 91/200\n",
            "34/34 [==============================] - 0s 6ms/step - loss: 8253.9385 - mae: 8253.9385\n",
            "Epoch 92/200\n",
            "34/34 [==============================] - 0s 5ms/step - loss: 8278.9482 - mae: 8278.9482\n",
            "Epoch 93/200\n",
            "34/34 [==============================] - 0s 6ms/step - loss: 8258.8711 - mae: 8258.8711\n",
            "Epoch 94/200\n",
            "34/34 [==============================] - 0s 6ms/step - loss: 8320.2158 - mae: 8320.2158\n",
            "Epoch 95/200\n",
            "34/34 [==============================] - 0s 5ms/step - loss: 8243.6094 - mae: 8243.6094\n",
            "Epoch 96/200\n",
            "34/34 [==============================] - 0s 5ms/step - loss: 8244.4365 - mae: 8244.4365\n",
            "Epoch 97/200\n",
            "34/34 [==============================] - 0s 5ms/step - loss: 8228.8447 - mae: 8228.8447\n",
            "Epoch 98/200\n",
            "34/34 [==============================] - 0s 5ms/step - loss: 8272.6299 - mae: 8272.6299\n",
            "Epoch 99/200\n",
            "34/34 [==============================] - 0s 6ms/step - loss: 8262.6885 - mae: 8262.6885\n",
            "Epoch 100/200\n",
            "34/34 [==============================] - 0s 5ms/step - loss: 8248.6826 - mae: 8248.6826\n",
            "Epoch 101/200\n",
            "34/34 [==============================] - 0s 5ms/step - loss: 8304.8379 - mae: 8304.8379\n",
            "Epoch 102/200\n",
            "34/34 [==============================] - 0s 5ms/step - loss: 8241.3164 - mae: 8241.3164\n",
            "Epoch 103/200\n",
            "34/34 [==============================] - 0s 5ms/step - loss: 8245.3486 - mae: 8245.3486\n",
            "Epoch 104/200\n",
            "34/34 [==============================] - 0s 6ms/step - loss: 8264.4043 - mae: 8264.4043\n",
            "Epoch 105/200\n",
            "34/34 [==============================] - 0s 5ms/step - loss: 8262.6279 - mae: 8262.6279\n",
            "Epoch 106/200\n",
            "34/34 [==============================] - 0s 8ms/step - loss: 8235.6846 - mae: 8235.6846\n",
            "Epoch 107/200\n",
            "34/34 [==============================] - 0s 8ms/step - loss: 8221.2314 - mae: 8221.2314\n",
            "Epoch 108/200\n",
            "34/34 [==============================] - 0s 8ms/step - loss: 8258.7324 - mae: 8258.7324\n",
            "Epoch 109/200\n",
            "34/34 [==============================] - 0s 8ms/step - loss: 8241.0830 - mae: 8241.0830\n",
            "Epoch 110/200\n",
            "34/34 [==============================] - 0s 8ms/step - loss: 8234.2500 - mae: 8234.2500\n",
            "Epoch 111/200\n",
            "34/34 [==============================] - 0s 9ms/step - loss: 8248.7910 - mae: 8248.7910\n",
            "Epoch 112/200\n",
            "34/34 [==============================] - 0s 9ms/step - loss: 8249.5957 - mae: 8249.5957\n",
            "Epoch 113/200\n",
            "34/34 [==============================] - 0s 8ms/step - loss: 8254.0332 - mae: 8254.0332\n",
            "Epoch 114/200\n",
            "34/34 [==============================] - 0s 8ms/step - loss: 8242.9648 - mae: 8242.9648\n",
            "Epoch 115/200\n",
            "34/34 [==============================] - 0s 8ms/step - loss: 8247.9170 - mae: 8247.9170\n",
            "Epoch 116/200\n",
            "34/34 [==============================] - 0s 9ms/step - loss: 8237.2754 - mae: 8237.2754\n",
            "Epoch 117/200\n",
            "34/34 [==============================] - 0s 9ms/step - loss: 8260.5400 - mae: 8260.5400\n",
            "Epoch 118/200\n",
            "34/34 [==============================] - 0s 9ms/step - loss: 8276.9629 - mae: 8276.9629\n",
            "Epoch 119/200\n",
            "34/34 [==============================] - 0s 9ms/step - loss: 8280.8076 - mae: 8280.8076\n",
            "Epoch 120/200\n",
            "34/34 [==============================] - 0s 10ms/step - loss: 8232.8789 - mae: 8232.8789\n",
            "Epoch 121/200\n",
            "34/34 [==============================] - 0s 8ms/step - loss: 8256.7012 - mae: 8256.7012\n",
            "Epoch 122/200\n",
            "34/34 [==============================] - 0s 6ms/step - loss: 8239.5498 - mae: 8239.5498\n",
            "Epoch 123/200\n",
            "34/34 [==============================] - 0s 6ms/step - loss: 8252.6016 - mae: 8252.6016\n",
            "Epoch 124/200\n",
            "34/34 [==============================] - 0s 6ms/step - loss: 8288.5840 - mae: 8288.5840\n",
            "Epoch 125/200\n",
            "34/34 [==============================] - 0s 6ms/step - loss: 8287.3105 - mae: 8287.3105\n",
            "Epoch 126/200\n",
            "34/34 [==============================] - 0s 6ms/step - loss: 8272.0586 - mae: 8272.0586\n",
            "Epoch 127/200\n",
            "34/34 [==============================] - 0s 6ms/step - loss: 8283.6367 - mae: 8283.6367\n",
            "Epoch 128/200\n",
            "34/34 [==============================] - 0s 6ms/step - loss: 8263.4277 - mae: 8263.4277\n",
            "Epoch 129/200\n",
            "34/34 [==============================] - 0s 6ms/step - loss: 8278.5498 - mae: 8278.5498\n",
            "Epoch 130/200\n",
            "34/34 [==============================] - 0s 6ms/step - loss: 8285.6465 - mae: 8285.6465\n",
            "Epoch 131/200\n",
            "34/34 [==============================] - 0s 6ms/step - loss: 8252.5273 - mae: 8252.5273\n",
            "Epoch 132/200\n",
            "34/34 [==============================] - 0s 6ms/step - loss: 8232.1641 - mae: 8232.1641\n",
            "Epoch 133/200\n",
            "34/34 [==============================] - 0s 6ms/step - loss: 8236.4180 - mae: 8236.4180\n",
            "Epoch 134/200\n",
            "34/34 [==============================] - 0s 6ms/step - loss: 8237.1016 - mae: 8237.1016\n",
            "Epoch 135/200\n",
            "34/34 [==============================] - 0s 6ms/step - loss: 8231.9424 - mae: 8231.9424\n",
            "Epoch 136/200\n",
            "34/34 [==============================] - 0s 6ms/step - loss: 8246.7646 - mae: 8246.7646\n",
            "Epoch 137/200\n",
            "34/34 [==============================] - 0s 6ms/step - loss: 8265.4189 - mae: 8265.4189\n",
            "Epoch 138/200\n",
            "34/34 [==============================] - 0s 5ms/step - loss: 8259.8418 - mae: 8259.8418\n",
            "Epoch 139/200\n",
            "34/34 [==============================] - 0s 5ms/step - loss: 8238.9766 - mae: 8238.9766\n",
            "Epoch 140/200\n",
            "34/34 [==============================] - 0s 6ms/step - loss: 8240.3984 - mae: 8240.3984\n",
            "Epoch 141/200\n",
            "34/34 [==============================] - 0s 5ms/step - loss: 8247.1963 - mae: 8247.1963\n",
            "Epoch 142/200\n",
            "34/34 [==============================] - 0s 5ms/step - loss: 8317.5410 - mae: 8317.5410\n",
            "Epoch 143/200\n",
            "34/34 [==============================] - 0s 6ms/step - loss: 8237.8779 - mae: 8237.8779\n",
            "Epoch 144/200\n",
            "34/34 [==============================] - 0s 5ms/step - loss: 8231.6836 - mae: 8231.6836\n",
            "Epoch 145/200\n",
            "34/34 [==============================] - 0s 5ms/step - loss: 8276.3613 - mae: 8276.3613\n",
            "Epoch 146/200\n",
            "34/34 [==============================] - 0s 5ms/step - loss: 8316.7822 - mae: 8316.7822\n",
            "Epoch 147/200\n",
            "34/34 [==============================] - 0s 5ms/step - loss: 8260.5566 - mae: 8260.5566\n",
            "Epoch 148/200\n",
            "34/34 [==============================] - 0s 5ms/step - loss: 8230.5049 - mae: 8230.5049\n",
            "Epoch 149/200\n",
            "34/34 [==============================] - 0s 5ms/step - loss: 8251.5273 - mae: 8251.5273\n",
            "Epoch 150/200\n",
            "34/34 [==============================] - 0s 6ms/step - loss: 8241.6465 - mae: 8241.6465\n",
            "Epoch 151/200\n",
            "34/34 [==============================] - 0s 5ms/step - loss: 8258.3857 - mae: 8258.3857\n",
            "Epoch 152/200\n",
            "34/34 [==============================] - 0s 5ms/step - loss: 8243.6924 - mae: 8243.6924\n",
            "Epoch 153/200\n",
            "34/34 [==============================] - 0s 7ms/step - loss: 8344.2725 - mae: 8344.2725\n",
            "Epoch 154/200\n",
            "34/34 [==============================] - 0s 5ms/step - loss: 8260.5459 - mae: 8260.5459\n",
            "Epoch 155/200\n",
            "34/34 [==============================] - 0s 5ms/step - loss: 8255.4062 - mae: 8255.4062\n",
            "Epoch 156/200\n",
            "34/34 [==============================] - 0s 5ms/step - loss: 8251.4180 - mae: 8251.4180\n",
            "Epoch 157/200\n",
            "34/34 [==============================] - 0s 6ms/step - loss: 8277.7812 - mae: 8277.7812\n",
            "Epoch 158/200\n",
            "34/34 [==============================] - 0s 5ms/step - loss: 8361.9619 - mae: 8361.9619\n",
            "Epoch 159/200\n",
            "34/34 [==============================] - 0s 5ms/step - loss: 8247.0078 - mae: 8247.0078\n",
            "Epoch 160/200\n",
            "34/34 [==============================] - 0s 5ms/step - loss: 8273.1641 - mae: 8273.1641\n",
            "Epoch 161/200\n",
            "34/34 [==============================] - 0s 6ms/step - loss: 8216.5801 - mae: 8216.5801\n",
            "Epoch 162/200\n",
            "34/34 [==============================] - 0s 6ms/step - loss: 8280.0850 - mae: 8280.0850\n",
            "Epoch 163/200\n",
            "34/34 [==============================] - 0s 5ms/step - loss: 8229.2588 - mae: 8229.2588\n",
            "Epoch 164/200\n",
            "34/34 [==============================] - 0s 7ms/step - loss: 8255.3701 - mae: 8255.3701\n",
            "Epoch 165/200\n",
            "34/34 [==============================] - 0s 6ms/step - loss: 8332.1729 - mae: 8332.1729\n",
            "Epoch 166/200\n",
            "34/34 [==============================] - 0s 6ms/step - loss: 8272.9609 - mae: 8272.9609\n",
            "Epoch 167/200\n",
            "34/34 [==============================] - 0s 6ms/step - loss: 8242.7598 - mae: 8242.7598\n",
            "Epoch 168/200\n",
            "34/34 [==============================] - 0s 6ms/step - loss: 8228.6963 - mae: 8228.6963\n",
            "Epoch 169/200\n",
            "34/34 [==============================] - 0s 5ms/step - loss: 8242.0283 - mae: 8242.0283\n",
            "Epoch 170/200\n",
            "34/34 [==============================] - 0s 6ms/step - loss: 8215.7588 - mae: 8215.7588\n",
            "Epoch 171/200\n",
            "34/34 [==============================] - 0s 9ms/step - loss: 8274.4277 - mae: 8274.4277\n",
            "Epoch 172/200\n",
            "34/34 [==============================] - 0s 10ms/step - loss: 8241.0996 - mae: 8241.0996\n",
            "Epoch 173/200\n",
            "34/34 [==============================] - 0s 11ms/step - loss: 8249.6348 - mae: 8249.6348\n",
            "Epoch 174/200\n",
            "34/34 [==============================] - 0s 10ms/step - loss: 8243.2832 - mae: 8243.2832\n",
            "Epoch 175/200\n",
            "34/34 [==============================] - 0s 10ms/step - loss: 8230.7822 - mae: 8230.7822\n",
            "Epoch 176/200\n",
            "34/34 [==============================] - 0s 10ms/step - loss: 8285.5107 - mae: 8285.5107\n",
            "Epoch 177/200\n",
            "34/34 [==============================] - 0s 9ms/step - loss: 8292.1123 - mae: 8292.1123\n",
            "Epoch 178/200\n",
            "34/34 [==============================] - 0s 9ms/step - loss: 8223.9854 - mae: 8223.9854\n",
            "Epoch 179/200\n",
            "34/34 [==============================] - 0s 9ms/step - loss: 8257.8916 - mae: 8257.8916\n",
            "Epoch 180/200\n",
            "34/34 [==============================] - 0s 9ms/step - loss: 8247.2100 - mae: 8247.2100\n",
            "Epoch 181/200\n",
            "34/34 [==============================] - 0s 9ms/step - loss: 8244.7461 - mae: 8244.7461\n",
            "Epoch 182/200\n",
            "34/34 [==============================] - 0s 11ms/step - loss: 8219.3369 - mae: 8219.3369\n",
            "Epoch 183/200\n",
            "34/34 [==============================] - 0s 10ms/step - loss: 8282.4619 - mae: 8282.4619\n",
            "Epoch 184/200\n",
            "34/34 [==============================] - 0s 8ms/step - loss: 8252.7510 - mae: 8252.7510\n",
            "Epoch 185/200\n",
            "34/34 [==============================] - 0s 9ms/step - loss: 8250.9219 - mae: 8250.9219\n",
            "Epoch 186/200\n",
            "34/34 [==============================] - 0s 9ms/step - loss: 8297.7119 - mae: 8297.7119\n",
            "Epoch 187/200\n",
            "34/34 [==============================] - 0s 9ms/step - loss: 8278.4238 - mae: 8278.4238\n",
            "Epoch 188/200\n",
            "34/34 [==============================] - 0s 9ms/step - loss: 8239.6104 - mae: 8239.6104\n",
            "Epoch 189/200\n",
            "34/34 [==============================] - 0s 10ms/step - loss: 8241.4658 - mae: 8241.4658\n",
            "Epoch 190/200\n",
            "34/34 [==============================] - 0s 9ms/step - loss: 8273.3174 - mae: 8273.3174\n",
            "Epoch 191/200\n",
            "34/34 [==============================] - 0s 9ms/step - loss: 8231.8828 - mae: 8231.8828\n",
            "Epoch 192/200\n",
            "34/34 [==============================] - 0s 9ms/step - loss: 8255.3428 - mae: 8255.3428\n",
            "Epoch 193/200\n",
            "34/34 [==============================] - 0s 9ms/step - loss: 8261.5361 - mae: 8261.5361\n",
            "Epoch 194/200\n",
            "34/34 [==============================] - 0s 9ms/step - loss: 8256.5176 - mae: 8256.5176\n",
            "Epoch 195/200\n",
            "34/34 [==============================] - 0s 10ms/step - loss: 8293.7764 - mae: 8293.7764\n",
            "Epoch 196/200\n",
            "34/34 [==============================] - 0s 9ms/step - loss: 8281.8320 - mae: 8281.8320\n",
            "Epoch 197/200\n",
            "34/34 [==============================] - 0s 11ms/step - loss: 8274.6855 - mae: 8274.6855\n",
            "Epoch 198/200\n",
            "34/34 [==============================] - 0s 6ms/step - loss: 8275.2959 - mae: 8275.2959\n",
            "Epoch 199/200\n",
            "34/34 [==============================] - 0s 6ms/step - loss: 8241.6191 - mae: 8241.6191\n",
            "Epoch 200/200\n",
            "34/34 [==============================] - 0s 5ms/step - loss: 8237.9746 - mae: 8237.9746\n"
          ]
        }
      ]
    },
    {
      "cell_type": "code",
      "source": [
        "# Plot history (also known as a loss curve or a training curve)\n",
        "pd.DataFrame(history.history).plot()\n",
        "plt.ylabel(\"loss\")\n",
        "plt.xlabel(\"epochs\")\n"
      ],
      "metadata": {
        "colab": {
          "base_uri": "https://localhost:8080/",
          "height": 299
        },
        "id": "BhnpamFDiqPH",
        "outputId": "ffdba372-d9fe-41b8-a52d-5b6653f01fb8"
      },
      "execution_count": null,
      "outputs": [
        {
          "output_type": "execute_result",
          "data": {
            "text/plain": [
              "Text(0.5, 0, 'epochs')"
            ]
          },
          "metadata": {},
          "execution_count": 76
        },
        {
          "output_type": "display_data",
          "data": {
            "text/plain": [
              "<Figure size 432x288 with 1 Axes>"
            ],
            "image/png": "[encoded data removed]"
          },
          "metadata": {
            "needs_background": "light"
          }
        }
      ]
    },
    {
      "cell_type": "markdown",
      "source": [
        "# Preprocessing data (normalization and standardization)\n",
        "\n",
        "In terms of scaling values, neural networks tend to prefer normalization.\n"
      ],
      "metadata": {
        "id": "FpSy_Sauflon"
      }
    },
    {
      "cell_type": "code",
      "source": [
        "X"
      ],
      "metadata": {
        "colab": {
          "base_uri": "https://localhost:8080/",
          "height": 424
        },
        "id": "Y3X1YZJKgI6I",
        "outputId": "cdc5925d-5aa4-4ee8-deb7-22d6edc64c3b"
      },
      "execution_count": null,
      "outputs": [
        {
          "output_type": "execute_result",
          "data": {
            "text/plain": [
              "      age     bmi  children  sex_female  sex_male  smoker_no  smoker_yes  \\\n",
              "0      19  27.900         0           1         0          0           1   \n",
              "1      18  33.770         1           0         1          1           0   \n",
              "2      28  33.000         3           0         1          1           0   \n",
              "3      33  22.705         0           0         1          1           0   \n",
              "4      32  28.880         0           0         1          1           0   \n",
              "...   ...     ...       ...         ...       ...        ...         ...   \n",
              "1333   50  30.970         3           0         1          1           0   \n",
              "1334   18  31.920         0           1         0          1           0   \n",
              "1335   18  36.850         0           1         0          1           0   \n",
              "1336   21  25.800         0           1         0          1           0   \n",
              "1337   61  29.070         0           1         0          0           1   \n",
              "\n",
              "      region_northeast  region_northwest  region_southeast  region_southwest  \n",
              "0                    0                 0                 0                 1  \n",
              "1                    0                 0                 1                 0  \n",
              "2                    0                 0                 1                 0  \n",
              "3                    0                 1                 0                 0  \n",
              "4                    0                 1                 0                 0  \n",
              "...                ...               ...               ...               ...  \n",
              "1333                 0                 1                 0                 0  \n",
              "1334                 1                 0                 0                 0  \n",
              "1335                 0                 0                 1                 0  \n",
              "1336                 0                 0                 0                 1  \n",
              "1337                 0                 1                 0                 0  \n",
              "\n",
              "[1338 rows x 11 columns]"
            ],
            "text/html": [
              "\n",
              "  <div id=\"df-4354de16-d19a-4ed2-ad79-009527c13511\">\n",
              "    <div class=\"colab-df-container\">\n",
              "      <div>\n",
              "<style scoped>\n",
              "    .dataframe tbody tr th:only-of-type {\n",
              "        vertical-align: middle;\n",
              "    }\n",
              "\n",
              "    .dataframe tbody tr th {\n",
              "        vertical-align: top;\n",
              "    }\n",
              "\n",
              "    .dataframe thead th {\n",
              "        text-align: right;\n",
              "    }\n",
              "</style>\n",
              "<table border=\"1\" class=\"dataframe\">\n",
              "  <thead>\n",
              "    <tr style=\"text-align: right;\">\n",
              "      <th></th>\n",
              "      <th>age</th>\n",
              "      <th>bmi</th>\n",
              "      <th>children</th>\n",
              "      <th>sex_female</th>\n",
              "      <th>sex_male</th>\n",
              "      <th>smoker_no</th>\n",
              "      <th>smoker_yes</th>\n",
              "      <th>region_northeast</th>\n",
              "      <th>region_northwest</th>\n",
              "      <th>region_southeast</th>\n",
              "      <th>region_southwest</th>\n",
              "    </tr>\n",
              "  </thead>\n",
              "  <tbody>\n",
              "    <tr>\n",
              "      <th>0</th>\n",
              "      <td>19</td>\n",
              "      <td>27.900</td>\n",
              "      <td>0</td>\n",
              "      <td>1</td>\n",
              "      <td>0</td>\n",
              "      <td>0</td>\n",
              "      <td>1</td>\n",
              "      <td>0</td>\n",
              "      <td>0</td>\n",
              "      <td>0</td>\n",
              "      <td>1</td>\n",
              "    </tr>\n",
              "    <tr>\n",
              "      <th>1</th>\n",
              "      <td>18</td>\n",
              "      <td>33.770</td>\n",
              "      <td>1</td>\n",
              "      <td>0</td>\n",
              "      <td>1</td>\n",
              "      <td>1</td>\n",
              "      <td>0</td>\n",
              "      <td>0</td>\n",
              "      <td>0</td>\n",
              "      <td>1</td>\n",
              "      <td>0</td>\n",
              "    </tr>\n",
              "    <tr>\n",
              "      <th>2</th>\n",
              "      <td>28</td>\n",
              "      <td>33.000</td>\n",
              "      <td>3</td>\n",
              "      <td>0</td>\n",
              "      <td>1</td>\n",
              "      <td>1</td>\n",
              "      <td>0</td>\n",
              "      <td>0</td>\n",
              "      <td>0</td>\n",
              "      <td>1</td>\n",
              "      <td>0</td>\n",
              "    </tr>\n",
              "    <tr>\n",
              "      <th>3</th>\n",
              "      <td>33</td>\n",
              "      <td>22.705</td>\n",
              "      <td>0</td>\n",
              "      <td>0</td>\n",
              "      <td>1</td>\n",
              "      <td>1</td>\n",
              "      <td>0</td>\n",
              "      <td>0</td>\n",
              "      <td>1</td>\n",
              "      <td>0</td>\n",
              "      <td>0</td>\n",
              "    </tr>\n",
              "    <tr>\n",
              "      <th>4</th>\n",
              "      <td>32</td>\n",
              "      <td>28.880</td>\n",
              "      <td>0</td>\n",
              "      <td>0</td>\n",
              "      <td>1</td>\n",
              "      <td>1</td>\n",
              "      <td>0</td>\n",
              "      <td>0</td>\n",
              "      <td>1</td>\n",
              "      <td>0</td>\n",
              "      <td>0</td>\n",
              "    </tr>\n",
              "    <tr>\n",
              "      <th>...</th>\n",
              "      <td>...</td>\n",
              "      <td>...</td>\n",
              "      <td>...</td>\n",
              "      <td>...</td>\n",
              "      <td>...</td>\n",
              "      <td>...</td>\n",
              "      <td>...</td>\n",
              "      <td>...</td>\n",
              "      <td>...</td>\n",
              "      <td>...</td>\n",
              "      <td>...</td>\n",
              "    </tr>\n",
              "    <tr>\n",
              "      <th>1333</th>\n",
              "      <td>50</td>\n",
              "      <td>30.970</td>\n",
              "      <td>3</td>\n",
              "      <td>0</td>\n",
              "      <td>1</td>\n",
              "      <td>1</td>\n",
              "      <td>0</td>\n",
              "      <td>0</td>\n",
              "      <td>1</td>\n",
              "      <td>0</td>\n",
              "      <td>0</td>\n",
              "    </tr>\n",
              "    <tr>\n",
              "      <th>1334</th>\n",
              "      <td>18</td>\n",
              "      <td>31.920</td>\n",
              "      <td>0</td>\n",
              "      <td>1</td>\n",
              "      <td>0</td>\n",
              "      <td>1</td>\n",
              "      <td>0</td>\n",
              "      <td>1</td>\n",
              "      <td>0</td>\n",
              "      <td>0</td>\n",
              "      <td>0</td>\n",
              "    </tr>\n",
              "    <tr>\n",
              "      <th>1335</th>\n",
              "      <td>18</td>\n",
              "      <td>36.850</td>\n",
              "      <td>0</td>\n",
              "      <td>1</td>\n",
              "      <td>0</td>\n",
              "      <td>1</td>\n",
              "      <td>0</td>\n",
              "      <td>0</td>\n",
              "      <td>0</td>\n",
              "      <td>1</td>\n",
              "      <td>0</td>\n",
              "    </tr>\n",
              "    <tr>\n",
              "      <th>1336</th>\n",
              "      <td>21</td>\n",
              "      <td>25.800</td>\n",
              "      <td>0</td>\n",
              "      <td>1</td>\n",
              "      <td>0</td>\n",
              "      <td>1</td>\n",
              "      <td>0</td>\n",
              "      <td>0</td>\n",
              "      <td>0</td>\n",
              "      <td>0</td>\n",
              "      <td>1</td>\n",
              "    </tr>\n",
              "    <tr>\n",
              "      <th>1337</th>\n",
              "      <td>61</td>\n",
              "      <td>29.070</td>\n",
              "      <td>0</td>\n",
              "      <td>1</td>\n",
              "      <td>0</td>\n",
              "      <td>0</td>\n",
              "      <td>1</td>\n",
              "      <td>0</td>\n",
              "      <td>1</td>\n",
              "      <td>0</td>\n",
              "      <td>0</td>\n",
              "    </tr>\n",
              "  </tbody>\n",
              "</table>\n",
              "<p>1338 rows × 11 columns</p>\n",
              "</div>\n",
              "      <button class=\"colab-df-convert\" onclick=\"convertToInteractive('df-4354de16-d19a-4ed2-ad79-009527c13511')\"\n",
              "              title=\"Convert this dataframe to an interactive table.\"\n",
              "              style=\"display:none;\">\n",
              "        \n",
              "  <svg xmlns=\"http://www.w3.org/2000/svg\" height=\"24px\"viewBox=\"0 0 24 24\"\n",
              "       width=\"24px\">\n",
              "    <path d=\"M0 0h24v24H0V0z\" fill=\"none\"/>\n",
              "    <path d=\"M18.56 5.44l.94 2.06.94-2.06 2.06-.94-2.06-.94-.94-2.06-.94 2.06-2.06.94zm-11 1L8.5 8.5l.94-2.06 2.06-.94-2.06-.94L8.5 2.5l-.94 2.06-2.06.94zm10 10l.94 2.06.94-2.06 2.06-.94-2.06-.94-.94-2.06-.94 2.06-2.06.94z\"/><path d=\"M17.41 7.96l-1.37-1.37c-.4-.4-.92-.59-1.43-.59-.52 0-1.04.2-1.43.59L10.3 9.45l-7.72 7.72c-.78.78-.78 2.05 0 2.83L4 21.41c.39.39.9.59 1.41.59.51 0 1.02-.2 1.41-.59l7.78-7.78 2.81-2.81c.8-.78.8-2.07 0-2.86zM5.41 20L4 18.59l7.72-7.72 1.47 1.35L5.41 20z\"/>\n",
              "  </svg>\n",
              "      </button>\n",
              "      \n",
              "  <style>\n",
              "    .colab-df-container {\n",
              "      display:flex;\n",
              "      flex-wrap:wrap;\n",
              "      gap: 12px;\n",
              "    }\n",
              "\n",
              "    .colab-df-convert {\n",
              "      background-color: #E8F0FE;\n",
              "      border: none;\n",
              "      border-radius: 50%;\n",
              "      cursor: pointer;\n",
              "      display: none;\n",
              "      fill: #1967D2;\n",
              "      height: 32px;\n",
              "      padding: 0 0 0 0;\n",
              "      width: 32px;\n",
              "    }\n",
              "\n",
              "    .colab-df-convert:hover {\n",
              "      background-color: #E2EBFA;\n",
              "      box-shadow: 0px 1px 2px rgba(60, 64, 67, 0.3), 0px 1px 3px 1px rgba(60, 64, 67, 0.15);\n",
              "      fill: #174EA6;\n",
              "    }\n",
              "\n",
              "    [theme=dark] .colab-df-convert {\n",
              "      background-color: #3B4455;\n",
              "      fill: #D2E3FC;\n",
              "    }\n",
              "\n",
              "    [theme=dark] .colab-df-convert:hover {\n",
              "      background-color: #434B5C;\n",
              "      box-shadow: 0px 1px 3px 1px rgba(0, 0, 0, 0.15);\n",
              "      filter: drop-shadow(0px 1px 2px rgba(0, 0, 0, 0.3));\n",
              "      fill: #FFFFFF;\n",
              "    }\n",
              "  </style>\n",
              "\n",
              "      <script>\n",
              "        const buttonEl =\n",
              "          document.querySelector('#df-4354de16-d19a-4ed2-ad79-009527c13511 button.colab-df-convert');\n",
              "        buttonEl.style.display =\n",
              "          google.colab.kernel.accessAllowed ? 'block' : 'none';\n",
              "\n",
              "        async function convertToInteractive(key) {\n",
              "          const element = document.querySelector('#df-4354de16-d19a-4ed2-ad79-009527c13511');\n",
              "          const dataTable =\n",
              "            await google.colab.kernel.invokeFunction('convertToInteractive',\n",
              "                                                     [key], {});\n",
              "          if (!dataTable) return;\n",
              "\n",
              "          const docLinkHtml = 'Like what you see? Visit the ' +\n",
              "            '<a target=\"_blank\" href=https://colab.research.google.com/notebooks/data_table.ipynb>data table notebook</a>'\n",
              "            + ' to learn more about interactive tables.';\n",
              "          element.innerHTML = '';\n",
              "          dataTable['output_type'] = 'display_data';\n",
              "          await google.colab.output.renderOutput(dataTable, element);\n",
              "          const docLink = document.createElement('div');\n",
              "          docLink.innerHTML = docLinkHtml;\n",
              "          element.appendChild(docLink);\n",
              "        }\n",
              "      </script>\n",
              "    </div>\n",
              "  </div>\n",
              "  "
            ]
          },
          "metadata": {},
          "execution_count": 77
        }
      ]
    },
    {
      "cell_type": "code",
      "source": [
        "plt.hist(X[\"age\"])"
      ],
      "metadata": {
        "colab": {
          "base_uri": "https://localhost:8080/",
          "height": 319
        },
        "id": "OWGS4QN0hCDP",
        "outputId": "4491dc38-1cf2-409d-cd17-eff9c3c73d79"
      },
      "execution_count": null,
      "outputs": [
        {
          "output_type": "execute_result",
          "data": {
            "text/plain": [
              "(array([222., 140., 109., 128., 102., 137., 144., 114., 128., 114.]),\n",
              " array([18. , 22.6, 27.2, 31.8, 36.4, 41. , 45.6, 50.2, 54.8, 59.4, 64. ]),\n",
              " <BarContainer object of 10 artists>)"
            ]
          },
          "metadata": {},
          "execution_count": 78
        },
        {
          "output_type": "display_data",
          "data": {
            "text/plain": [
              "<Figure size 432x288 with 1 Axes>"
            ],
            "image/png": "[encoded data removed]"
          },
          "metadata": {
            "needs_background": "light"
          }
        }
      ]
    },
    {
      "cell_type": "code",
      "source": [
        "plt.hist(X[\"bmi\"])"
      ],
      "metadata": {
        "colab": {
          "base_uri": "https://localhost:8080/",
          "height": 336
        },
        "id": "incbSLDEhbn-",
        "outputId": "6e493b54-979c-4dd9-ee60-daa0902cc01c"
      },
      "execution_count": null,
      "outputs": [
        {
          "output_type": "execute_result",
          "data": {
            "text/plain": [
              "(array([ 30., 127., 234., 319., 288., 195.,  96.,  32.,  14.,   3.]),\n",
              " array([15.96 , 19.677, 23.394, 27.111, 30.828, 34.545, 38.262, 41.979,\n",
              "        45.696, 49.413, 53.13 ]),\n",
              " <BarContainer object of 10 artists>)"
            ]
          },
          "metadata": {},
          "execution_count": 79
        },
        {
          "output_type": "display_data",
          "data": {
            "text/plain": [
              "<Figure size 432x288 with 1 Axes>"
            ],
            "image/png": "[encoded data removed]"
          },
          "metadata": {
            "needs_background": "light"
          }
        }
      ]
    },
    {
      "cell_type": "code",
      "source": [
        "X[\"children\"].value_counts()"
      ],
      "metadata": {
        "colab": {
          "base_uri": "https://localhost:8080/"
        },
        "id": "f4h8XecehjM1",
        "outputId": "ec9042db-b034-41be-d884-96e4749b7ea6"
      },
      "execution_count": null,
      "outputs": [
        {
          "output_type": "execute_result",
          "data": {
            "text/plain": [
              "0    574\n",
              "1    324\n",
              "2    240\n",
              "3    157\n",
              "4     25\n",
              "5     18\n",
              "Name: children, dtype: int64"
            ]
          },
          "metadata": {},
          "execution_count": 80
        }
      ]
    },
    {
      "cell_type": "code",
      "source": [
        "insurance"
      ],
      "metadata": {
        "colab": {
          "base_uri": "https://localhost:8080/",
          "height": 424
        },
        "id": "uXvNBYM_h5_9",
        "outputId": "68abc462-bbf2-4d9a-8df7-c000d4728be5"
      },
      "execution_count": null,
      "outputs": [
        {
          "output_type": "execute_result",
          "data": {
            "text/plain": [
              "      age     sex     bmi  children smoker     region      charges\n",
              "0      19  female  27.900         0    yes  southwest  16884.92400\n",
              "1      18    male  33.770         1     no  southeast   1725.55230\n",
              "2      28    male  33.000         3     no  southeast   4449.46200\n",
              "3      33    male  22.705         0     no  northwest  21984.47061\n",
              "4      32    male  28.880         0     no  northwest   3866.85520\n",
              "...   ...     ...     ...       ...    ...        ...          ...\n",
              "1333   50    male  30.970         3     no  northwest  10600.54830\n",
              "1334   18  female  31.920         0     no  northeast   2205.98080\n",
              "1335   18  female  36.850         0     no  southeast   1629.83350\n",
              "1336   21  female  25.800         0     no  southwest   2007.94500\n",
              "1337   61  female  29.070         0    yes  northwest  29141.36030\n",
              "\n",
              "[1338 rows x 7 columns]"
            ],
            "text/html": [
              "\n",
              "  <div id=\"df-a6eaa4a1-a96a-42be-9963-84aa17248737\">\n",
              "    <div class=\"colab-df-container\">\n",
              "      <div>\n",
              "<style scoped>\n",
              "    .dataframe tbody tr th:only-of-type {\n",
              "        vertical-align: middle;\n",
              "    }\n",
              "\n",
              "    .dataframe tbody tr th {\n",
              "        vertical-align: top;\n",
              "    }\n",
              "\n",
              "    .dataframe thead th {\n",
              "        text-align: right;\n",
              "    }\n",
              "</style>\n",
              "<table border=\"1\" class=\"dataframe\">\n",
              "  <thead>\n",
              "    <tr style=\"text-align: right;\">\n",
              "      <th></th>\n",
              "      <th>age</th>\n",
              "      <th>sex</th>\n",
              "      <th>bmi</th>\n",
              "      <th>children</th>\n",
              "      <th>smoker</th>\n",
              "      <th>region</th>\n",
              "      <th>charges</th>\n",
              "    </tr>\n",
              "  </thead>\n",
              "  <tbody>\n",
              "    <tr>\n",
              "      <th>0</th>\n",
              "      <td>19</td>\n",
              "      <td>female</td>\n",
              "      <td>27.900</td>\n",
              "      <td>0</td>\n",
              "      <td>yes</td>\n",
              "      <td>southwest</td>\n",
              "      <td>16884.92400</td>\n",
              "    </tr>\n",
              "    <tr>\n",
              "      <th>1</th>\n",
              "      <td>18</td>\n",
              "      <td>male</td>\n",
              "      <td>33.770</td>\n",
              "      <td>1</td>\n",
              "      <td>no</td>\n",
              "      <td>southeast</td>\n",
              "      <td>1725.55230</td>\n",
              "    </tr>\n",
              "    <tr>\n",
              "      <th>2</th>\n",
              "      <td>28</td>\n",
              "      <td>male</td>\n",
              "      <td>33.000</td>\n",
              "      <td>3</td>\n",
              "      <td>no</td>\n",
              "      <td>southeast</td>\n",
              "      <td>4449.46200</td>\n",
              "    </tr>\n",
              "    <tr>\n",
              "      <th>3</th>\n",
              "      <td>33</td>\n",
              "      <td>male</td>\n",
              "      <td>22.705</td>\n",
              "      <td>0</td>\n",
              "      <td>no</td>\n",
              "      <td>northwest</td>\n",
              "      <td>21984.47061</td>\n",
              "    </tr>\n",
              "    <tr>\n",
              "      <th>4</th>\n",
              "      <td>32</td>\n",
              "      <td>male</td>\n",
              "      <td>28.880</td>\n",
              "      <td>0</td>\n",
              "      <td>no</td>\n",
              "      <td>northwest</td>\n",
              "      <td>3866.85520</td>\n",
              "    </tr>\n",
              "    <tr>\n",
              "      <th>...</th>\n",
              "      <td>...</td>\n",
              "      <td>...</td>\n",
              "      <td>...</td>\n",
              "      <td>...</td>\n",
              "      <td>...</td>\n",
              "      <td>...</td>\n",
              "      <td>...</td>\n",
              "    </tr>\n",
              "    <tr>\n",
              "      <th>1333</th>\n",
              "      <td>50</td>\n",
              "      <td>male</td>\n",
              "      <td>30.970</td>\n",
              "      <td>3</td>\n",
              "      <td>no</td>\n",
              "      <td>northwest</td>\n",
              "      <td>10600.54830</td>\n",
              "    </tr>\n",
              "    <tr>\n",
              "      <th>1334</th>\n",
              "      <td>18</td>\n",
              "      <td>female</td>\n",
              "      <td>31.920</td>\n",
              "      <td>0</td>\n",
              "      <td>no</td>\n",
              "      <td>northeast</td>\n",
              "      <td>2205.98080</td>\n",
              "    </tr>\n",
              "    <tr>\n",
              "      <th>1335</th>\n",
              "      <td>18</td>\n",
              "      <td>female</td>\n",
              "      <td>36.850</td>\n",
              "      <td>0</td>\n",
              "      <td>no</td>\n",
              "      <td>southeast</td>\n",
              "      <td>1629.83350</td>\n",
              "    </tr>\n",
              "    <tr>\n",
              "      <th>1336</th>\n",
              "      <td>21</td>\n",
              "      <td>female</td>\n",
              "      <td>25.800</td>\n",
              "      <td>0</td>\n",
              "      <td>no</td>\n",
              "      <td>southwest</td>\n",
              "      <td>2007.94500</td>\n",
              "    </tr>\n",
              "    <tr>\n",
              "      <th>1337</th>\n",
              "      <td>61</td>\n",
              "      <td>female</td>\n",
              "      <td>29.070</td>\n",
              "      <td>0</td>\n",
              "      <td>yes</td>\n",
              "      <td>northwest</td>\n",
              "      <td>29141.36030</td>\n",
              "    </tr>\n",
              "  </tbody>\n",
              "</table>\n",
              "<p>1338 rows × 7 columns</p>\n",
              "</div>\n",
              "      <button class=\"colab-df-convert\" onclick=\"convertToInteractive('df-a6eaa4a1-a96a-42be-9963-84aa17248737')\"\n",
              "              title=\"Convert this dataframe to an interactive table.\"\n",
              "              style=\"display:none;\">\n",
              "        \n",
              "  <svg xmlns=\"http://www.w3.org/2000/svg\" height=\"24px\"viewBox=\"0 0 24 24\"\n",
              "       width=\"24px\">\n",
              "    <path d=\"M0 0h24v24H0V0z\" fill=\"none\"/>\n",
              "    <path d=\"M18.56 5.44l.94 2.06.94-2.06 2.06-.94-2.06-.94-.94-2.06-.94 2.06-2.06.94zm-11 1L8.5 8.5l.94-2.06 2.06-.94-2.06-.94L8.5 2.5l-.94 2.06-2.06.94zm10 10l.94 2.06.94-2.06 2.06-.94-2.06-.94-.94-2.06-.94 2.06-2.06.94z\"/><path d=\"M17.41 7.96l-1.37-1.37c-.4-.4-.92-.59-1.43-.59-.52 0-1.04.2-1.43.59L10.3 9.45l-7.72 7.72c-.78.78-.78 2.05 0 2.83L4 21.41c.39.39.9.59 1.41.59.51 0 1.02-.2 1.41-.59l7.78-7.78 2.81-2.81c.8-.78.8-2.07 0-2.86zM5.41 20L4 18.59l7.72-7.72 1.47 1.35L5.41 20z\"/>\n",
              "  </svg>\n",
              "      </button>\n",
              "      \n",
              "  <style>\n",
              "    .colab-df-container {\n",
              "      display:flex;\n",
              "      flex-wrap:wrap;\n",
              "      gap: 12px;\n",
              "    }\n",
              "\n",
              "    .colab-df-convert {\n",
              "      background-color: #E8F0FE;\n",
              "      border: none;\n",
              "      border-radius: 50%;\n",
              "      cursor: pointer;\n",
              "      display: none;\n",
              "      fill: #1967D2;\n",
              "      height: 32px;\n",
              "      padding: 0 0 0 0;\n",
              "      width: 32px;\n",
              "    }\n",
              "\n",
              "    .colab-df-convert:hover {\n",
              "      background-color: #E2EBFA;\n",
              "      box-shadow: 0px 1px 2px rgba(60, 64, 67, 0.3), 0px 1px 3px 1px rgba(60, 64, 67, 0.15);\n",
              "      fill: #174EA6;\n",
              "    }\n",
              "\n",
              "    [theme=dark] .colab-df-convert {\n",
              "      background-color: #3B4455;\n",
              "      fill: #D2E3FC;\n",
              "    }\n",
              "\n",
              "    [theme=dark] .colab-df-convert:hover {\n",
              "      background-color: #434B5C;\n",
              "      box-shadow: 0px 1px 3px 1px rgba(0, 0, 0, 0.15);\n",
              "      filter: drop-shadow(0px 1px 2px rgba(0, 0, 0, 0.3));\n",
              "      fill: #FFFFFF;\n",
              "    }\n",
              "  </style>\n",
              "\n",
              "      <script>\n",
              "        const buttonEl =\n",
              "          document.querySelector('#df-a6eaa4a1-a96a-42be-9963-84aa17248737 button.colab-df-convert');\n",
              "        buttonEl.style.display =\n",
              "          google.colab.kernel.accessAllowed ? 'block' : 'none';\n",
              "\n",
              "        async function convertToInteractive(key) {\n",
              "          const element = document.querySelector('#df-a6eaa4a1-a96a-42be-9963-84aa17248737');\n",
              "          const dataTable =\n",
              "            await google.colab.kernel.invokeFunction('convertToInteractive',\n",
              "                                                     [key], {});\n",
              "          if (!dataTable) return;\n",
              "\n",
              "          const docLinkHtml = 'Like what you see? Visit the ' +\n",
              "            '<a target=\"_blank\" href=https://colab.research.google.com/notebooks/data_table.ipynb>data table notebook</a>'\n",
              "            + ' to learn more about interactive tables.';\n",
              "          element.innerHTML = '';\n",
              "          dataTable['output_type'] = 'display_data';\n",
              "          await google.colab.output.renderOutput(dataTable, element);\n",
              "          const docLink = document.createElement('div');\n",
              "          docLink.innerHTML = docLinkHtml;\n",
              "          element.appendChild(docLink);\n",
              "        }\n",
              "      </script>\n",
              "    </div>\n",
              "  </div>\n",
              "  "
            ]
          },
          "metadata": {},
          "execution_count": 81
        }
      ]
    },
    {
      "cell_type": "code",
      "source": [
        "#to prepare iur data we have to import some classes from sklearn\n",
        "from sklearn.compose import make_column_transformer\n",
        "from sklearn.preprocessing import MinMaxScaler,OneHotEncoder\n",
        "from sklearn.model_selection import train_test_split"
      ],
      "metadata": {
        "id": "UhyaTpiTicxe"
      },
      "execution_count": null,
      "outputs": []
    },
    {
      "cell_type": "code",
      "source": [
        "#create a column transformer\n",
        "ct = make_column_transformer(\n",
        "    (MinMaxScaler(),[\"age\",\"bmi\",\"children\"]), #turn all value in these col between 0 to 1\n",
        "    # (MinMaxScaler(), [\"age\", \"bmi\", \"children\"]),\n",
        "    (OneHotEncoder(handle_unknown=\"ignore\"),[\"sex\",\"smoker\",\"region\"])\n",
        ")\n",
        "\n",
        "#Create X and Y\n",
        "X = insurance.drop(\"charges\",axis=1)\n",
        "y = insurance[\"charges\"]\n",
        "\n",
        "#create train and test data\n",
        "X_train, X_test, y_train, y_test = train_test_split(X, y, test_size=0.2, random_state=42)\n",
        "\n",
        "#fit the column transformer to training data - individually for test and train data\n",
        "ct.fit(X_train)\n",
        "\n",
        "#Transform training and test data with normalization(MinMaxScaler)\n",
        "X_train_normal = ct.transform(X_train)\n",
        "X_test_normal = ct.transform(X_test)"
      ],
      "metadata": {
        "id": "boeIPufvjOqw"
      },
      "execution_count": null,
      "outputs": []
    },
    {
      "cell_type": "code",
      "source": [
        "X_train_normal"
      ],
      "metadata": {
        "colab": {
          "base_uri": "https://localhost:8080/"
        },
        "id": "7q20nVComrSK",
        "outputId": "f586af8f-94e9-476f-90e4-b1edb80df5b4"
      },
      "execution_count": null,
      "outputs": [
        {
          "output_type": "execute_result",
          "data": {
            "text/plain": [
              "array([[0.60869565, 0.10734463, 0.4       , ..., 1.        , 0.        ,\n",
              "        0.        ],\n",
              "       [0.63043478, 0.22491256, 0.        , ..., 0.        , 0.        ,\n",
              "        0.        ],\n",
              "       [0.73913043, 0.23944041, 0.        , ..., 0.        , 1.        ,\n",
              "        0.        ],\n",
              "       ...,\n",
              "       [0.86956522, 0.24791499, 0.        , ..., 0.        , 0.        ,\n",
              "        0.        ],\n",
              "       [0.41304348, 0.85122411, 0.4       , ..., 0.        , 0.        ,\n",
              "        1.        ],\n",
              "       [0.80434783, 0.37503363, 0.        , ..., 0.        , 0.        ,\n",
              "        1.        ]])"
            ]
          },
          "metadata": {},
          "execution_count": 84
        }
      ]
    },
    {
      "cell_type": "code",
      "source": [
        "X_train.shape,X_train_normal.shape"
      ],
      "metadata": {
        "colab": {
          "base_uri": "https://localhost:8080/"
        },
        "id": "ZywrjSQfnGSO",
        "outputId": "5091ef54-ef8d-42ac-bb8c-221e54e6cda5"
      },
      "execution_count": null,
      "outputs": [
        {
          "output_type": "execute_result",
          "data": {
            "text/plain": [
              "((1070, 6), (1070, 11))"
            ]
          },
          "metadata": {},
          "execution_count": 85
        }
      ]
    },
    {
      "cell_type": "code",
      "source": [
        "#biuld the neural network model\n",
        "\n",
        "model = tf.keras.Sequential([\n",
        "    tf.keras.layers.Dense(100,activation=\"relu\"),\n",
        "    tf.keras.layers.Dense(100,activation=None),\n",
        "    tf.keras.layers.Dense(100,activation=\"relu\"),\n",
        "    tf.keras.layers.Dense(1),\n",
        "])\n",
        "\n",
        "#compile the model\n",
        "model.compile(loss=tf.keras.losses.mae,\n",
        "    optimizer=tf.keras.optimizers.legacy.Adam(learning_rate=0.01),\n",
        "    metrics=[\"mae\"]\n",
        ")\n",
        "\n",
        "#fit the model\n",
        "normalized_model_history = model.fit(X_train_normal,y_train,epochs=200)"
      ],
      "metadata": {
        "colab": {
          "base_uri": "https://localhost:8080/"
        },
        "id": "umtfzX9fnSwL",
        "outputId": "fe3338b4-e227-415e-fe06-a9fc52711292"
      },
      "execution_count": null,
      "outputs": [
        {
          "output_type": "stream",
          "name": "stdout",
          "text": [
            "Epoch 1/200\n",
            "34/34 [==============================] - 1s 6ms/step - loss: 10936.0469 - mae: 10936.0469\n",
            "Epoch 2/200\n",
            "34/34 [==============================] - 0s 5ms/step - loss: 6537.7339 - mae: 6537.7339\n",
            "Epoch 3/200\n",
            "34/34 [==============================] - 0s 5ms/step - loss: 3703.5591 - mae: 3703.5591\n",
            "Epoch 4/200\n",
            "34/34 [==============================] - 0s 6ms/step - loss: 3395.8201 - mae: 3395.8201\n",
            "Epoch 5/200\n",
            "34/34 [==============================] - 0s 5ms/step - loss: 3374.8940 - mae: 3374.8940\n",
            "Epoch 6/200\n",
            "34/34 [==============================] - 0s 4ms/step - loss: 3268.9707 - mae: 3268.9707\n",
            "Epoch 7/200\n",
            "34/34 [==============================] - 0s 4ms/step - loss: 3184.6152 - mae: 3184.6152\n",
            "Epoch 8/200\n",
            "34/34 [==============================] - 0s 3ms/step - loss: 3120.8608 - mae: 3120.8608\n",
            "Epoch 9/200\n",
            "34/34 [==============================] - 0s 3ms/step - loss: 3023.4399 - mae: 3023.4399\n",
            "Epoch 10/200\n",
            "34/34 [==============================] - 0s 3ms/step - loss: 2928.0110 - mae: 2928.0110\n",
            "Epoch 11/200\n",
            "34/34 [==============================] - 0s 3ms/step - loss: 2873.3191 - mae: 2873.3191\n",
            "Epoch 12/200\n",
            "34/34 [==============================] - 0s 3ms/step - loss: 2778.4285 - mae: 2778.4285\n",
            "Epoch 13/200\n",
            "34/34 [==============================] - 0s 3ms/step - loss: 2624.5720 - mae: 2624.5720\n",
            "Epoch 14/200\n",
            "34/34 [==============================] - 0s 3ms/step - loss: 2498.1965 - mae: 2498.1965\n",
            "Epoch 15/200\n",
            "34/34 [==============================] - 0s 3ms/step - loss: 2450.9124 - mae: 2450.9124\n",
            "Epoch 16/200\n",
            "34/34 [==============================] - 0s 4ms/step - loss: 2394.2544 - mae: 2394.2544\n",
            "Epoch 17/200\n",
            "34/34 [==============================] - 0s 3ms/step - loss: 2292.4392 - mae: 2292.4392\n",
            "Epoch 18/200\n",
            "34/34 [==============================] - 0s 3ms/step - loss: 2200.2732 - mae: 2200.2732\n",
            "Epoch 19/200\n",
            "34/34 [==============================] - 0s 4ms/step - loss: 2226.4661 - mae: 2226.4661\n",
            "Epoch 20/200\n",
            "34/34 [==============================] - 0s 4ms/step - loss: 2135.5039 - mae: 2135.5039\n",
            "Epoch 21/200\n",
            "34/34 [==============================] - 0s 3ms/step - loss: 2268.8208 - mae: 2268.8208\n",
            "Epoch 22/200\n",
            "34/34 [==============================] - 0s 3ms/step - loss: 2261.4812 - mae: 2261.4812\n",
            "Epoch 23/200\n",
            "34/34 [==============================] - 0s 3ms/step - loss: 2137.4397 - mae: 2137.4397\n",
            "Epoch 24/200\n",
            "34/34 [==============================] - 0s 3ms/step - loss: 2158.5962 - mae: 2158.5962\n",
            "Epoch 25/200\n",
            "34/34 [==============================] - 0s 3ms/step - loss: 2165.5422 - mae: 2165.5422\n",
            "Epoch 26/200\n",
            "34/34 [==============================] - 0s 4ms/step - loss: 2234.8335 - mae: 2234.8335\n",
            "Epoch 27/200\n",
            "34/34 [==============================] - 0s 3ms/step - loss: 2213.8867 - mae: 2213.8867\n",
            "Epoch 28/200\n",
            "34/34 [==============================] - 0s 2ms/step - loss: 2125.2322 - mae: 2125.2322\n",
            "Epoch 29/200\n",
            "34/34 [==============================] - 0s 3ms/step - loss: 2128.0872 - mae: 2128.0872\n",
            "Epoch 30/200\n",
            "34/34 [==============================] - 0s 3ms/step - loss: 2093.5476 - mae: 2093.5476\n",
            "Epoch 31/200\n",
            "34/34 [==============================] - 0s 3ms/step - loss: 2182.9419 - mae: 2182.9419\n",
            "Epoch 32/200\n",
            "34/34 [==============================] - 0s 3ms/step - loss: 2127.4092 - mae: 2127.4092\n",
            "Epoch 33/200\n",
            "34/34 [==============================] - 0s 3ms/step - loss: 2115.9426 - mae: 2115.9426\n",
            "Epoch 34/200\n",
            "34/34 [==============================] - 0s 3ms/step - loss: 2088.8591 - mae: 2088.8591\n",
            "Epoch 35/200\n",
            "34/34 [==============================] - 0s 3ms/step - loss: 2116.8472 - mae: 2116.8472\n",
            "Epoch 36/200\n",
            "34/34 [==============================] - 0s 3ms/step - loss: 2176.0042 - mae: 2176.0042\n",
            "Epoch 37/200\n",
            "34/34 [==============================] - 0s 2ms/step - loss: 2105.5288 - mae: 2105.5288\n",
            "Epoch 38/200\n",
            "34/34 [==============================] - 0s 3ms/step - loss: 2070.3298 - mae: 2070.3298\n",
            "Epoch 39/200\n",
            "34/34 [==============================] - 0s 2ms/step - loss: 2174.3945 - mae: 2174.3945\n",
            "Epoch 40/200\n",
            "34/34 [==============================] - 0s 3ms/step - loss: 2160.3242 - mae: 2160.3242\n",
            "Epoch 41/200\n",
            "34/34 [==============================] - 0s 3ms/step - loss: 2296.8621 - mae: 2296.8621\n",
            "Epoch 42/200\n",
            "34/34 [==============================] - 0s 2ms/step - loss: 2099.8152 - mae: 2099.8152\n",
            "Epoch 43/200\n",
            "34/34 [==============================] - 0s 3ms/step - loss: 2072.9504 - mae: 2072.9504\n",
            "Epoch 44/200\n",
            "34/34 [==============================] - 0s 3ms/step - loss: 2129.1799 - mae: 2129.1799\n",
            "Epoch 45/200\n",
            "34/34 [==============================] - 0s 3ms/step - loss: 2058.6973 - mae: 2058.6973\n",
            "Epoch 46/200\n",
            "34/34 [==============================] - 0s 3ms/step - loss: 2073.8320 - mae: 2073.8320\n",
            "Epoch 47/200\n",
            "34/34 [==============================] - 0s 2ms/step - loss: 2057.9141 - mae: 2057.9141\n",
            "Epoch 48/200\n",
            "34/34 [==============================] - 0s 2ms/step - loss: 2040.9360 - mae: 2040.9360\n",
            "Epoch 49/200\n",
            "34/34 [==============================] - 0s 3ms/step - loss: 2111.0239 - mae: 2111.0239\n",
            "Epoch 50/200\n",
            "34/34 [==============================] - 0s 3ms/step - loss: 2085.8315 - mae: 2085.8315\n",
            "Epoch 51/200\n",
            "34/34 [==============================] - 0s 3ms/step - loss: 2119.6775 - mae: 2119.6775\n",
            "Epoch 52/200\n",
            "34/34 [==============================] - 0s 3ms/step - loss: 2071.0381 - mae: 2071.0381\n",
            "Epoch 53/200\n",
            "34/34 [==============================] - 0s 3ms/step - loss: 2065.1328 - mae: 2065.1328\n",
            "Epoch 54/200\n",
            "34/34 [==============================] - 0s 3ms/step - loss: 2063.1643 - mae: 2063.1643\n",
            "Epoch 55/200\n",
            "34/34 [==============================] - 0s 3ms/step - loss: 2061.4236 - mae: 2061.4236\n",
            "Epoch 56/200\n",
            "34/34 [==============================] - 0s 3ms/step - loss: 2182.5679 - mae: 2182.5679\n",
            "Epoch 57/200\n",
            "34/34 [==============================] - 0s 2ms/step - loss: 2060.8042 - mae: 2060.8042\n",
            "Epoch 58/200\n",
            "34/34 [==============================] - 0s 3ms/step - loss: 2090.5491 - mae: 2090.5491\n",
            "Epoch 59/200\n",
            "34/34 [==============================] - 0s 3ms/step - loss: 2050.3411 - mae: 2050.3411\n",
            "Epoch 60/200\n",
            "34/34 [==============================] - 0s 3ms/step - loss: 2064.7600 - mae: 2064.7600\n",
            "Epoch 61/200\n",
            "34/34 [==============================] - 0s 3ms/step - loss: 2067.5481 - mae: 2067.5481\n",
            "Epoch 62/200\n",
            "34/34 [==============================] - 0s 4ms/step - loss: 2097.6282 - mae: 2097.6282\n",
            "Epoch 63/200\n",
            "34/34 [==============================] - 0s 3ms/step - loss: 2091.6045 - mae: 2091.6045\n",
            "Epoch 64/200\n",
            "34/34 [==============================] - 0s 3ms/step - loss: 2094.4695 - mae: 2094.4695\n",
            "Epoch 65/200\n",
            "34/34 [==============================] - 0s 4ms/step - loss: 2161.9583 - mae: 2161.9583\n",
            "Epoch 66/200\n",
            "34/34 [==============================] - 0s 3ms/step - loss: 2107.3809 - mae: 2107.3809\n",
            "Epoch 67/200\n",
            "34/34 [==============================] - 0s 3ms/step - loss: 2103.0933 - mae: 2103.0933\n",
            "Epoch 68/200\n",
            "34/34 [==============================] - 0s 3ms/step - loss: 2028.0341 - mae: 2028.0341\n",
            "Epoch 69/200\n",
            "34/34 [==============================] - 0s 2ms/step - loss: 2126.8914 - mae: 2126.8914\n",
            "Epoch 70/200\n",
            "34/34 [==============================] - 0s 3ms/step - loss: 2085.6348 - mae: 2085.6348\n",
            "Epoch 71/200\n",
            "34/34 [==============================] - 0s 3ms/step - loss: 2108.1130 - mae: 2108.1130\n",
            "Epoch 72/200\n",
            "34/34 [==============================] - 0s 3ms/step - loss: 2057.5715 - mae: 2057.5715\n",
            "Epoch 73/200\n",
            "34/34 [==============================] - 0s 3ms/step - loss: 2037.7986 - mae: 2037.7986\n",
            "Epoch 74/200\n",
            "34/34 [==============================] - 0s 4ms/step - loss: 2007.2794 - mae: 2007.2794\n",
            "Epoch 75/200\n",
            "34/34 [==============================] - 0s 4ms/step - loss: 2003.5736 - mae: 2003.5736\n",
            "Epoch 76/200\n",
            "34/34 [==============================] - 0s 4ms/step - loss: 2016.7351 - mae: 2016.7351\n",
            "Epoch 77/200\n",
            "34/34 [==============================] - 0s 3ms/step - loss: 2090.8176 - mae: 2090.8176\n",
            "Epoch 78/200\n",
            "34/34 [==============================] - 0s 4ms/step - loss: 2029.9637 - mae: 2029.9637\n",
            "Epoch 79/200\n",
            "34/34 [==============================] - 0s 3ms/step - loss: 2057.9773 - mae: 2057.9773\n",
            "Epoch 80/200\n",
            "34/34 [==============================] - 0s 3ms/step - loss: 2099.9592 - mae: 2099.9592\n",
            "Epoch 81/200\n",
            "34/34 [==============================] - 0s 3ms/step - loss: 2066.9290 - mae: 2066.9290\n",
            "Epoch 82/200\n",
            "34/34 [==============================] - 0s 4ms/step - loss: 2078.7017 - mae: 2078.7017\n",
            "Epoch 83/200\n",
            "34/34 [==============================] - 0s 7ms/step - loss: 2048.8213 - mae: 2048.8213\n",
            "Epoch 84/200\n",
            "34/34 [==============================] - 0s 7ms/step - loss: 2022.8781 - mae: 2022.8781\n",
            "Epoch 85/200\n",
            "34/34 [==============================] - 0s 7ms/step - loss: 2038.9341 - mae: 2038.9341\n",
            "Epoch 86/200\n",
            "34/34 [==============================] - 0s 7ms/step - loss: 2022.5769 - mae: 2022.5769\n",
            "Epoch 87/200\n",
            "34/34 [==============================] - 0s 6ms/step - loss: 2054.2048 - mae: 2054.2048\n",
            "Epoch 88/200\n",
            "34/34 [==============================] - 0s 6ms/step - loss: 2053.1353 - mae: 2053.1353\n",
            "Epoch 89/200\n",
            "34/34 [==============================] - 0s 7ms/step - loss: 2034.0427 - mae: 2034.0427\n",
            "Epoch 90/200\n",
            "34/34 [==============================] - 0s 9ms/step - loss: 2085.5408 - mae: 2085.5408\n",
            "Epoch 91/200\n",
            "34/34 [==============================] - 0s 9ms/step - loss: 2099.5820 - mae: 2099.5820\n",
            "Epoch 92/200\n",
            "34/34 [==============================] - 0s 8ms/step - loss: 2164.7092 - mae: 2164.7092\n",
            "Epoch 93/200\n",
            "34/34 [==============================] - 0s 7ms/step - loss: 2063.2883 - mae: 2063.2883\n",
            "Epoch 94/200\n",
            "34/34 [==============================] - 0s 9ms/step - loss: 2105.1223 - mae: 2105.1223\n",
            "Epoch 95/200\n",
            "34/34 [==============================] - 0s 9ms/step - loss: 2065.0188 - mae: 2065.0188\n",
            "Epoch 96/200\n",
            "34/34 [==============================] - 0s 8ms/step - loss: 2120.7439 - mae: 2120.7439\n",
            "Epoch 97/200\n",
            "34/34 [==============================] - 0s 10ms/step - loss: 2149.1765 - mae: 2149.1765\n",
            "Epoch 98/200\n",
            "34/34 [==============================] - 0s 10ms/step - loss: 2101.5081 - mae: 2101.5081\n",
            "Epoch 99/200\n",
            "34/34 [==============================] - 0s 8ms/step - loss: 2138.9792 - mae: 2138.9792\n",
            "Epoch 100/200\n",
            "34/34 [==============================] - 0s 9ms/step - loss: 1995.6357 - mae: 1995.6357\n",
            "Epoch 101/200\n",
            "34/34 [==============================] - 0s 13ms/step - loss: 2014.3026 - mae: 2014.3026\n",
            "Epoch 102/200\n",
            "34/34 [==============================] - 0s 10ms/step - loss: 2052.3535 - mae: 2052.3535\n",
            "Epoch 103/200\n",
            "34/34 [==============================] - 0s 10ms/step - loss: 2065.7507 - mae: 2065.7507\n",
            "Epoch 104/200\n",
            "34/34 [==============================] - 0s 11ms/step - loss: 2020.2035 - mae: 2020.2035\n",
            "Epoch 105/200\n",
            "34/34 [==============================] - 0s 11ms/step - loss: 2024.0836 - mae: 2024.0836\n",
            "Epoch 106/200\n",
            "34/34 [==============================] - 0s 7ms/step - loss: 2045.2474 - mae: 2045.2474\n",
            "Epoch 107/200\n",
            "34/34 [==============================] - 0s 7ms/step - loss: 2072.3101 - mae: 2072.3101\n",
            "Epoch 108/200\n",
            "34/34 [==============================] - 0s 5ms/step - loss: 2046.0164 - mae: 2046.0164\n",
            "Epoch 109/200\n",
            "34/34 [==============================] - 0s 6ms/step - loss: 1990.1082 - mae: 1990.1082\n",
            "Epoch 110/200\n",
            "34/34 [==============================] - 0s 5ms/step - loss: 2025.4348 - mae: 2025.4348\n",
            "Epoch 111/200\n",
            "34/34 [==============================] - 0s 6ms/step - loss: 2037.6764 - mae: 2037.6764\n",
            "Epoch 112/200\n",
            "34/34 [==============================] - 0s 7ms/step - loss: 2078.9375 - mae: 2078.9375\n",
            "Epoch 113/200\n",
            "34/34 [==============================] - 0s 9ms/step - loss: 2060.8838 - mae: 2060.8838\n",
            "Epoch 114/200\n",
            "34/34 [==============================] - 0s 9ms/step - loss: 2060.4478 - mae: 2060.4478\n",
            "Epoch 115/200\n",
            "34/34 [==============================] - 0s 11ms/step - loss: 2084.7197 - mae: 2084.7197\n",
            "Epoch 116/200\n",
            "34/34 [==============================] - 0s 6ms/step - loss: 2025.4059 - mae: 2025.4059\n",
            "Epoch 117/200\n",
            "34/34 [==============================] - 0s 6ms/step - loss: 2103.4668 - mae: 2103.4668\n",
            "Epoch 118/200\n",
            "34/34 [==============================] - 0s 5ms/step - loss: 2035.9601 - mae: 2035.9601\n",
            "Epoch 119/200\n",
            "34/34 [==============================] - 0s 5ms/step - loss: 2077.2817 - mae: 2077.2817\n",
            "Epoch 120/200\n",
            "34/34 [==============================] - 0s 6ms/step - loss: 2244.2209 - mae: 2244.2209\n",
            "Epoch 121/200\n",
            "34/34 [==============================] - 0s 8ms/step - loss: 2077.4092 - mae: 2077.4092\n",
            "Epoch 122/200\n",
            "34/34 [==============================] - 0s 7ms/step - loss: 2053.5671 - mae: 2053.5671\n",
            "Epoch 123/200\n",
            "34/34 [==============================] - 0s 9ms/step - loss: 2001.0986 - mae: 2001.0986\n",
            "Epoch 124/200\n",
            "34/34 [==============================] - 0s 7ms/step - loss: 2070.8477 - mae: 2070.8477\n",
            "Epoch 125/200\n",
            "34/34 [==============================] - 0s 6ms/step - loss: 2024.3007 - mae: 2024.3007\n",
            "Epoch 126/200\n",
            "34/34 [==============================] - 0s 6ms/step - loss: 2130.4294 - mae: 2130.4294\n",
            "Epoch 127/200\n",
            "34/34 [==============================] - 0s 6ms/step - loss: 2051.7864 - mae: 2051.7864\n",
            "Epoch 128/200\n",
            "34/34 [==============================] - 0s 7ms/step - loss: 1977.1091 - mae: 1977.1091\n",
            "Epoch 129/200\n",
            "34/34 [==============================] - 0s 6ms/step - loss: 2041.1320 - mae: 2041.1320\n",
            "Epoch 130/200\n",
            "34/34 [==============================] - 0s 6ms/step - loss: 2067.6714 - mae: 2067.6714\n",
            "Epoch 131/200\n",
            "34/34 [==============================] - 0s 9ms/step - loss: 2055.4121 - mae: 2055.4121\n",
            "Epoch 132/200\n",
            "34/34 [==============================] - 0s 11ms/step - loss: 2045.5115 - mae: 2045.5115\n",
            "Epoch 133/200\n",
            "34/34 [==============================] - 0s 5ms/step - loss: 2056.2249 - mae: 2056.2249\n",
            "Epoch 134/200\n",
            "34/34 [==============================] - 0s 11ms/step - loss: 2054.1807 - mae: 2054.1807\n",
            "Epoch 135/200\n",
            "34/34 [==============================] - 0s 9ms/step - loss: 1998.4535 - mae: 1998.4535\n",
            "Epoch 136/200\n",
            "34/34 [==============================] - 0s 6ms/step - loss: 2002.5715 - mae: 2002.5715\n",
            "Epoch 137/200\n",
            "34/34 [==============================] - 0s 6ms/step - loss: 2056.0793 - mae: 2056.0793\n",
            "Epoch 138/200\n",
            "34/34 [==============================] - 0s 7ms/step - loss: 2067.9705 - mae: 2067.9705\n",
            "Epoch 139/200\n",
            "34/34 [==============================] - 0s 9ms/step - loss: 2007.1981 - mae: 2007.1981\n",
            "Epoch 140/200\n",
            "34/34 [==============================] - 0s 8ms/step - loss: 2021.4713 - mae: 2021.4713\n",
            "Epoch 141/200\n",
            "34/34 [==============================] - 0s 9ms/step - loss: 2034.9834 - mae: 2034.9834\n",
            "Epoch 142/200\n",
            "34/34 [==============================] - 0s 6ms/step - loss: 2115.0085 - mae: 2115.0085\n",
            "Epoch 143/200\n",
            "34/34 [==============================] - 0s 9ms/step - loss: 2030.3313 - mae: 2030.3313\n",
            "Epoch 144/200\n",
            "34/34 [==============================] - 0s 5ms/step - loss: 2033.2495 - mae: 2033.2495\n",
            "Epoch 145/200\n",
            "34/34 [==============================] - 0s 9ms/step - loss: 2034.5273 - mae: 2034.5273\n",
            "Epoch 146/200\n",
            "34/34 [==============================] - 0s 12ms/step - loss: 2073.2141 - mae: 2073.2141\n",
            "Epoch 147/200\n",
            "34/34 [==============================] - 0s 8ms/step - loss: 2028.8385 - mae: 2028.8385\n",
            "Epoch 148/200\n",
            "34/34 [==============================] - 0s 8ms/step - loss: 1993.3328 - mae: 1993.3328\n",
            "Epoch 149/200\n",
            "34/34 [==============================] - 0s 7ms/step - loss: 1999.9960 - mae: 1999.9960\n",
            "Epoch 150/200\n",
            "34/34 [==============================] - 0s 8ms/step - loss: 2098.5225 - mae: 2098.5225\n",
            "Epoch 151/200\n",
            "34/34 [==============================] - 0s 8ms/step - loss: 2034.2196 - mae: 2034.2196\n",
            "Epoch 152/200\n",
            "34/34 [==============================] - 0s 8ms/step - loss: 2007.0117 - mae: 2007.0117\n",
            "Epoch 153/200\n",
            "34/34 [==============================] - 0s 8ms/step - loss: 2023.8829 - mae: 2023.8829\n",
            "Epoch 154/200\n",
            "34/34 [==============================] - 0s 13ms/step - loss: 2020.3977 - mae: 2020.3977\n",
            "Epoch 155/200\n",
            "34/34 [==============================] - 0s 10ms/step - loss: 1989.2239 - mae: 1989.2239\n",
            "Epoch 156/200\n",
            "34/34 [==============================] - 0s 13ms/step - loss: 1970.5739 - mae: 1970.5739\n",
            "Epoch 157/200\n",
            "34/34 [==============================] - 0s 14ms/step - loss: 1980.1661 - mae: 1980.1661\n",
            "Epoch 158/200\n",
            "34/34 [==============================] - 0s 14ms/step - loss: 2000.1038 - mae: 2000.1038\n",
            "Epoch 159/200\n",
            "34/34 [==============================] - 0s 9ms/step - loss: 2075.9895 - mae: 2075.9895\n",
            "Epoch 160/200\n",
            "34/34 [==============================] - 0s 10ms/step - loss: 2067.4517 - mae: 2067.4517\n",
            "Epoch 161/200\n",
            "34/34 [==============================] - 0s 12ms/step - loss: 1976.3760 - mae: 1976.3760\n",
            "Epoch 162/200\n",
            "34/34 [==============================] - 0s 9ms/step - loss: 2010.6156 - mae: 2010.6156\n",
            "Epoch 163/200\n",
            "34/34 [==============================] - 0s 9ms/step - loss: 1980.9435 - mae: 1980.9435\n",
            "Epoch 164/200\n",
            "34/34 [==============================] - 0s 10ms/step - loss: 1993.8521 - mae: 1993.8521\n",
            "Epoch 165/200\n",
            "34/34 [==============================] - 0s 6ms/step - loss: 2092.9104 - mae: 2092.9104\n",
            "Epoch 166/200\n",
            "34/34 [==============================] - 0s 7ms/step - loss: 1991.6514 - mae: 1991.6514\n",
            "Epoch 167/200\n",
            "34/34 [==============================] - 0s 7ms/step - loss: 2020.0493 - mae: 2020.0493\n",
            "Epoch 168/200\n",
            "34/34 [==============================] - 0s 7ms/step - loss: 2007.2607 - mae: 2007.2607\n",
            "Epoch 169/200\n",
            "34/34 [==============================] - 0s 7ms/step - loss: 2013.7152 - mae: 2013.7152\n",
            "Epoch 170/200\n",
            "34/34 [==============================] - 0s 6ms/step - loss: 1989.8497 - mae: 1989.8497\n",
            "Epoch 171/200\n",
            "34/34 [==============================] - 0s 5ms/step - loss: 2054.0439 - mae: 2054.0439\n",
            "Epoch 172/200\n",
            "34/34 [==============================] - 0s 5ms/step - loss: 2015.3091 - mae: 2015.3091\n",
            "Epoch 173/200\n",
            "34/34 [==============================] - 0s 6ms/step - loss: 2093.4348 - mae: 2093.4348\n",
            "Epoch 174/200\n",
            "34/34 [==============================] - 0s 9ms/step - loss: 1989.4883 - mae: 1989.4883\n",
            "Epoch 175/200\n",
            "34/34 [==============================] - 0s 7ms/step - loss: 1990.4647 - mae: 1990.4647\n",
            "Epoch 176/200\n",
            "34/34 [==============================] - 0s 9ms/step - loss: 1996.3395 - mae: 1996.3395\n",
            "Epoch 177/200\n",
            "34/34 [==============================] - 0s 6ms/step - loss: 2058.0303 - mae: 2058.0303\n",
            "Epoch 178/200\n",
            "34/34 [==============================] - 0s 8ms/step - loss: 1986.2837 - mae: 1986.2837\n",
            "Epoch 179/200\n",
            "34/34 [==============================] - 0s 8ms/step - loss: 1976.9229 - mae: 1976.9229\n",
            "Epoch 180/200\n",
            "34/34 [==============================] - 0s 7ms/step - loss: 1987.4990 - mae: 1987.4990\n",
            "Epoch 181/200\n",
            "34/34 [==============================] - 0s 6ms/step - loss: 1989.2804 - mae: 1989.2804\n",
            "Epoch 182/200\n",
            "34/34 [==============================] - 0s 4ms/step - loss: 2075.7261 - mae: 2075.7261\n",
            "Epoch 183/200\n",
            "34/34 [==============================] - 0s 3ms/step - loss: 2057.1682 - mae: 2057.1682\n",
            "Epoch 184/200\n",
            "34/34 [==============================] - 0s 3ms/step - loss: 2034.8781 - mae: 2034.8781\n",
            "Epoch 185/200\n",
            "34/34 [==============================] - 0s 3ms/step - loss: 2021.1561 - mae: 2021.1561\n",
            "Epoch 186/200\n",
            "34/34 [==============================] - 0s 4ms/step - loss: 2078.5354 - mae: 2078.5354\n",
            "Epoch 187/200\n",
            "34/34 [==============================] - 0s 3ms/step - loss: 2035.4841 - mae: 2035.4841\n",
            "Epoch 188/200\n",
            "34/34 [==============================] - 0s 3ms/step - loss: 1971.8719 - mae: 1971.8719\n",
            "Epoch 189/200\n",
            "34/34 [==============================] - 0s 3ms/step - loss: 2000.2063 - mae: 2000.2063\n",
            "Epoch 190/200\n",
            "34/34 [==============================] - 0s 3ms/step - loss: 2001.0131 - mae: 2001.0131\n",
            "Epoch 191/200\n",
            "34/34 [==============================] - 0s 3ms/step - loss: 2025.7850 - mae: 2025.7850\n",
            "Epoch 192/200\n",
            "34/34 [==============================] - 0s 3ms/step - loss: 1994.6462 - mae: 1994.6462\n",
            "Epoch 193/200\n",
            "34/34 [==============================] - 0s 3ms/step - loss: 2007.4415 - mae: 2007.4415\n",
            "Epoch 194/200\n",
            "34/34 [==============================] - 0s 3ms/step - loss: 1993.9811 - mae: 1993.9811\n",
            "Epoch 195/200\n",
            "34/34 [==============================] - 0s 3ms/step - loss: 2034.1266 - mae: 2034.1266\n",
            "Epoch 196/200\n",
            "34/34 [==============================] - 0s 3ms/step - loss: 1983.5514 - mae: 1983.5514\n",
            "Epoch 197/200\n",
            "34/34 [==============================] - 0s 3ms/step - loss: 1995.1285 - mae: 1995.1285\n",
            "Epoch 198/200\n",
            "34/34 [==============================] - 0s 3ms/step - loss: 1968.9729 - mae: 1968.9729\n",
            "Epoch 199/200\n",
            "34/34 [==============================] - 0s 3ms/step - loss: 2010.2303 - mae: 2010.2303\n",
            "Epoch 200/200\n",
            "34/34 [==============================] - 0s 3ms/step - loss: 2016.9126 - mae: 2016.9126\n"
          ]
        }
      ]
    },
    {
      "cell_type": "code",
      "source": [
        "pd.DataFrame(normalized_model_history.history).plot()\n",
        "plt.ylabel(\"loss\")\n",
        "plt.xlabel(\"epochs\")"
      ],
      "metadata": {
        "colab": {
          "base_uri": "https://localhost:8080/",
          "height": 297
        },
        "id": "kHup9TMpqWtr",
        "outputId": "26f02808-10c2-44c2-87cd-3150096aa7cd"
      },
      "execution_count": null,
      "outputs": [
        {
          "output_type": "execute_result",
          "data": {
            "text/plain": [
              "Text(0.5, 0, 'epochs')"
            ]
          },
          "metadata": {},
          "execution_count": 87
        },
        {
          "output_type": "display_data",
          "data": {
            "text/plain": [
              "<Figure size 432x288 with 1 Axes>"
            ],
            "image/png": "[encoded data removed]"
          },
          "metadata": {
            "needs_background": "light"
          }
        }
      ]
    }
  ]
}